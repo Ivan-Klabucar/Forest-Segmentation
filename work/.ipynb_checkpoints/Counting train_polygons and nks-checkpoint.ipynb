{
 "cells": [
  {
   "cell_type": "code",
   "execution_count": 1,
   "metadata": {
    "colab": {
     "base_uri": "https://localhost:8080/"
    },
    "executionInfo": {
     "elapsed": 22820,
     "status": "ok",
     "timestamp": 1684092982953,
     "user": {
      "displayName": "Ivan Klabučar",
      "userId": "04386316414841804865"
     },
     "user_tz": -120
    },
    "id": "d2vE9zgT7A5q",
    "outputId": "de3493e6-2882-4ed0-bf63-2ea8d9f34a57"
   },
   "outputs": [
    {
     "name": "stdout",
     "output_type": "stream",
     "text": [
      "Requirement already satisfied: imutils in /usr/local/lib/python3.8/dist-packages (0.5.4)\n",
      "\u001b[33mWARNING: Running pip as the 'root' user can result in broken permissions and conflicting behaviour with the system package manager. It is recommended to use a virtual environment instead: https://pip.pypa.io/warnings/venv\u001b[0m\n",
      "\u001b[33mWARNING: You are using pip version 21.1.3; however, version 23.3.1 is available.\n",
      "You should consider upgrading via the '/usr/bin/python3 -m pip install --upgrade pip' command.\u001b[0m\n",
      "Requirement already satisfied: shortuuid in /usr/local/lib/python3.8/dist-packages (1.0.1)\n",
      "\u001b[33mWARNING: Running pip as the 'root' user can result in broken permissions and conflicting behaviour with the system package manager. It is recommended to use a virtual environment instead: https://pip.pypa.io/warnings/venv\u001b[0m\n",
      "\u001b[33mWARNING: You are using pip version 21.1.3; however, version 23.3.1 is available.\n",
      "You should consider upgrading via the '/usr/bin/python3 -m pip install --upgrade pip' command.\u001b[0m\n"
     ]
    }
   ],
   "source": [
    "#!pip install opencv-contrib-python\n",
    "!pip install imutils\n",
    "#!pip install scikit-learn\n",
    "#!pip install tqdm\n",
    "!pip install shortuuid"
   ]
  },
  {
   "cell_type": "code",
   "execution_count": 1,
   "metadata": {
    "colab": {
     "base_uri": "https://localhost:8080/"
    },
    "executionInfo": {
     "elapsed": 6590,
     "status": "ok",
     "timestamp": 1687112336204,
     "user": {
      "displayName": "Ivan Klabučar",
      "userId": "04386316414841804865"
     },
     "user_tz": -120
    },
    "id": "wOXbdDNs53Eh",
    "outputId": "e292f3ed-64f6-4cdb-b265-4e37e97c961f"
   },
   "outputs": [],
   "source": [
    "import os\n",
    "import seaborn as sns\n",
    "import pandas as pd\n",
    "import cv2\n",
    "from sklearn.model_selection import train_test_split\n",
    "from imutils import paths\n",
    "from tqdm import tqdm\n",
    "import time\n",
    "import numpy as np\n",
    "import random\n",
    "from os.path import exists\n",
    "from datetime import datetime\n",
    "from pathlib import Path\n",
    "import sys\n",
    "import tqdm\n",
    "from sklearn.utils.class_weight import compute_class_weight"
   ]
  },
  {
   "cell_type": "markdown",
   "metadata": {},
   "source": [
    "## Function Definitions"
   ]
  },
  {
   "cell_type": "code",
   "execution_count": 2,
   "metadata": {},
   "outputs": [],
   "source": [
    "def slice_coords(path):\n",
    "\t\tpath_no_ext = os.path.splitext(path)[0]\n",
    "\t\tcoords = os.path.basename(path_no_ext).split('_')[-2:]\n",
    "\t\treturn tuple([int(x) for x in coords])\n",
    "\n",
    "\n",
    "def filter_data_present_in_other_set(Imgs, masks, slices_to_filter_out):\n",
    "\t\tslices_to_filter_out = set([slice_coords(path) for path in slices_to_filter_out])\n",
    "\t\tfor k in Imgs:\n",
    "\t\t\t\tpaths_to_keep = [path for path in Imgs[k] if slice_coords(path) not in slices_to_filter_out]\n",
    "\t\t\t\tImgs[k] = paths_to_keep\n",
    "\n",
    "\t\tpaths_to_keep = [path for path in masks if slice_coords(path) not in slices_to_filter_out]\n",
    "\t\tmasks = paths_to_keep\n",
    "\n",
    "\t\treturn Imgs, masks\n",
    "    \n",
    "def splitting_forest_dataset(image0Paths,\n",
    "\t\t\t\t\t\t\timage1Paths,\n",
    "\t\t\t\t\t\t\timage2Paths,\n",
    "\t\t\t\t\t\t\timage3Paths,\n",
    "\t\t\t\t\t\t\timage4Paths,\n",
    "\t\t\t\t\t\t\timage5Paths,\n",
    "\t\t\t\t\t\t\timage6Paths,\n",
    "\t\t\t\t\t\t\timage7Paths,\n",
    "\t\t\t\t\t\t\tmaskPaths,\n",
    "\t\t\t\t\t\t\tTEST_SPLIT,\n",
    "\t\t\t\t\t\t\tRANDOM_STATE):\n",
    "\n",
    "\t\tsplit = train_test_split(image0Paths,\n",
    "\t\t\t\t\t\t\timage1Paths,\n",
    "\t\t\t\t\t\t\timage2Paths,\n",
    "\t\t\t\t\t\t\timage3Paths,\n",
    "\t\t\t\t\t\t\timage4Paths,\n",
    "\t\t\t\t\t\t\timage5Paths,\n",
    "\t\t\t\t\t\t\timage6Paths,\n",
    "\t\t\t\t\t\t\timage7Paths,\n",
    "\t\t\t\t\t\t\tmaskPaths,\n",
    "\t\t\t\t\t\t\ttest_size=TEST_SPLIT,\n",
    "\t\t\t\t\t\t\trandom_state=RANDOM_STATE)\n",
    "\n",
    "\t\t(trainImages0, testImages0) = split[:2]\n",
    "\t\t(trainImages1, testImages1) = split[2:4]\n",
    "\t\t(trainImages2, testImages2) = split[4:6]\n",
    "\t\t(trainImages3, testImages3) = split[6:8]\n",
    "\t\t(trainImages4, testImages4) = split[8:10]\n",
    "\t\t(trainImages5, testImages5) = split[10:12]\n",
    "\t\t(trainImages6, testImages6) = split[12:14]\n",
    "\t\t(trainImages7, testImages7) = split[14:16]\n",
    "\t\t(trainMasks, testMasks) = split[16:]\n",
    "\n",
    "\t\ttrainImages = {\n",
    "\t\t\t\t0: trainImages0,\n",
    "\t\t\t\t1: trainImages1,\n",
    "\t\t\t\t2: trainImages2,\n",
    "\t\t\t\t3: trainImages3,\n",
    "\t\t\t\t4: trainImages4,\n",
    "\t\t\t\t5: trainImages5,\n",
    "\t\t\t\t6: trainImages6,\n",
    "\t\t\t\t7: trainImages7,\n",
    "\t\t}\n",
    "\n",
    "\t\ttestImages = {\n",
    "\t\t\t\t0: testImages0,\n",
    "\t\t\t\t1: testImages1,\n",
    "\t\t\t\t2: testImages2,\n",
    "\t\t\t\t3: testImages3,\n",
    "\t\t\t\t4: testImages4,\n",
    "\t\t\t\t5: testImages5,\n",
    "\t\t\t\t6: testImages6,\n",
    "\t\t\t\t7: testImages7,\n",
    "\t\t}\n",
    "\n",
    "\t\treturn trainImages, testImages, trainMasks, testMasks\n",
    "\n",
    "## NEW WAY\n",
    "def load_img_and_mask_paths(mask_version='nks', single_set=True, TEST_SPLIT=None, RANDOM_STATE=None): # TEST_SPLIT is proportional size of test set retunred\n",
    "\t\twv2_0_data = pd.read_csv(f'/data/ForestDataset8C/Dataset-wv2_0-{mask_version}.csv')\n",
    "\t\twv2_1_data = pd.read_csv(f'/data/ForestDataset8C/Dataset-wv2_1-{mask_version}.csv')\n",
    "\t\twv2_2_data = pd.read_csv(f'/data/ForestDataset8C/Dataset-wv2_2-{mask_version}.csv')\n",
    "\t\twv2_3_data = pd.read_csv(f'/data/ForestDataset8C/Dataset-wv2_3-{mask_version}.csv')\n",
    "\t\twv2_4_data = pd.read_csv(f'/data/ForestDataset8C/Dataset-wv2_4-{mask_version}.csv')\n",
    "\t\twv2_5_data = pd.read_csv(f'/data/ForestDataset8C/Dataset-wv2_5-{mask_version}.csv')\n",
    "\t\twv2_6_data = pd.read_csv(f'/data/ForestDataset8C/Dataset-wv2_6-{mask_version}.csv')\n",
    "\t\twv2_7_data = pd.read_csv(f'/data/ForestDataset8C/Dataset-wv2_7-{mask_version}.csv')\n",
    "\t\timage0Paths = list(sorted(wv2_0_data.imgPath))\n",
    "\t\timage1Paths = list(sorted(wv2_1_data.imgPath))\n",
    "\t\timage2Paths = list(sorted(wv2_2_data.imgPath))\n",
    "\t\timage3Paths = list(sorted(wv2_3_data.imgPath))\n",
    "\t\timage4Paths = list(sorted(wv2_4_data.imgPath))\n",
    "\t\timage5Paths = list(sorted(wv2_5_data.imgPath))\n",
    "\t\timage6Paths = list(sorted(wv2_6_data.imgPath))\n",
    "\t\timage7Paths = list(sorted(wv2_7_data.imgPath))\n",
    "\t\tmaskPaths = list(sorted(wv2_7_data.maskPath))\n",
    "\n",
    "\t\tl = [image0Paths,\n",
    "             image1Paths,\n",
    "             image2Paths,\n",
    "             image3Paths,\n",
    "             image4Paths,\n",
    "             image5Paths,\n",
    "             image6Paths,\n",
    "             image7Paths,\n",
    "             maskPaths]\n",
    "\t\tfor dataset in l:\n",
    "\t\t\t\tassert len(l[0]) == len(dataset), \"List of paths of diffrenet length for differen channels/mask\"\n",
    "\t\tfor i in range(len(image0Paths)):\n",
    "\t\t\t\tassert all([slice_coords(image0Paths[i]) == slice_coords(img_dataset[i]) for img_dataset in l]), \"Slices out of order for different channels/mask of dataset\"\n",
    "                \n",
    "\t\tif single_set:\n",
    "\t\t\t\tImgs = {\n",
    "\t\t\t\t\t\t0: image0Paths,\n",
    "\t\t\t\t\t\t1: image1Paths,\n",
    "\t\t\t\t\t\t2: image2Paths,\n",
    "\t\t\t\t\t\t3: image3Paths,\n",
    "\t\t\t\t\t\t4: image4Paths,\n",
    "\t\t\t\t\t\t5: image5Paths,\n",
    "\t\t\t\t\t\t6: image6Paths,\n",
    "\t\t\t\t\t\t7: image7Paths,\n",
    "\t\t\t\t}\n",
    "\t\t\t\treturn Imgs, maskPaths\n",
    "\t\treturn splitting_forest_dataset(image0Paths,\n",
    "\t\t\t\t\t\t\timage1Paths,\n",
    "\t\t\t\t\t\t\timage2Paths,\n",
    "\t\t\t\t\t\t\timage3Paths,\n",
    "\t\t\t\t\t\t\timage4Paths,\n",
    "\t\t\t\t\t\t\timage5Paths,\n",
    "\t\t\t\t\t\t\timage6Paths,\n",
    "\t\t\t\t\t\t\timage7Paths,\n",
    "\t\t\t\t\t\t\tmaskPaths,\n",
    "\t\t\t\t\t\t\tTEST_SPLIT,\n",
    "\t\t\t\t\t\t\tRANDOM_STATE)"
   ]
  },
  {
   "cell_type": "code",
   "execution_count": 3,
   "metadata": {},
   "outputs": [],
   "source": [
    "def get_class_counts(paths, labels):\n",
    "    counts = {l: 0 for l in labels}\n",
    "    for path in paths:\n",
    "        mask = cv2.imread(path, cv2.IMREAD_UNCHANGED)\n",
    "        mask[mask < 0] = 0 # Background class should be zero not -3.4e+38\n",
    "        counts_in_mask = np.unique(mask, return_counts=True)\n",
    "        for i in range(len(counts_in_mask[0])):\n",
    "            counts[counts_in_mask[0][i]] += counts_in_mask[1][i]\n",
    "    return counts"
   ]
  },
  {
   "cell_type": "code",
   "execution_count": 4,
   "metadata": {},
   "outputs": [],
   "source": [
    "def get_proportions(counts):\n",
    "    df = pd.DataFrame([counts])\n",
    "    return df.div(df.sum(axis=1)*0.01, axis=0)"
   ]
  },
  {
   "cell_type": "markdown",
   "metadata": {},
   "source": [
    "## Sanity check"
   ]
  },
  {
   "cell_type": "code",
   "execution_count": 5,
   "metadata": {},
   "outputs": [],
   "source": [
    "Imgs_tp, maskPaths_tp = load_img_and_mask_paths(mask_version='train_polygons')\n",
    "Imgs_nks, maskPaths_nks = load_img_and_mask_paths(mask_version='nks')"
   ]
  },
  {
   "cell_type": "code",
   "execution_count": 11,
   "metadata": {},
   "outputs": [],
   "source": [
    "tp = set(slice_coords(mp) for mp in maskPaths_tp)\n",
    "nks = set(slice_coords(mp) for mp in maskPaths_nks)"
   ]
  },
  {
   "cell_type": "code",
   "execution_count": 12,
   "metadata": {},
   "outputs": [
    {
     "data": {
      "text/plain": [
       "False"
      ]
     },
     "execution_count": 12,
     "metadata": {},
     "output_type": "execute_result"
    }
   ],
   "source": [
    "tp.issubset(nks)"
   ]
  },
  {
   "cell_type": "code",
   "execution_count": 13,
   "metadata": {},
   "outputs": [
    {
     "data": {
      "text/plain": [
       "[(10, 8), (11, 8)]"
      ]
     },
     "execution_count": 13,
     "metadata": {},
     "output_type": "execute_result"
    }
   ],
   "source": [
    "[x for x in tp if x not in nks]"
   ]
  },
  {
   "cell_type": "markdown",
   "metadata": {},
   "source": [
    "[(10, 8), (11, 8)] are in train polygons but are not in nks"
   ]
  },
  {
   "cell_type": "code",
   "execution_count": null,
   "metadata": {},
   "outputs": [],
   "source": []
  }
 ],
 "metadata": {
  "accelerator": "GPU",
  "colab": {
   "authorship_tag": "ABX9TyOrNFUNxo+sXxfgZPJMtLFh",
   "gpuType": "T4",
   "provenance": []
  },
  "gpuClass": "standard",
  "kernelspec": {
   "display_name": "Python 3",
   "language": "python",
   "name": "python3"
  },
  "language_info": {
   "codemirror_mode": {
    "name": "ipython",
    "version": 3
   },
   "file_extension": ".py",
   "mimetype": "text/x-python",
   "name": "python",
   "nbconvert_exporter": "python",
   "pygments_lexer": "ipython3",
   "version": "3.8.5"
  }
 },
 "nbformat": 4,
 "nbformat_minor": 4
}
