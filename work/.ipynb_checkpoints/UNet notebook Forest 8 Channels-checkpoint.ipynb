{
 "cells": [
  {
   "cell_type": "code",
   "execution_count": 1,
   "metadata": {
    "colab": {
     "base_uri": "https://localhost:8080/"
    },
    "executionInfo": {
     "elapsed": 22820,
     "status": "ok",
     "timestamp": 1684092982953,
     "user": {
      "displayName": "Ivan Klabučar",
      "userId": "04386316414841804865"
     },
     "user_tz": -120
    },
    "id": "d2vE9zgT7A5q",
    "outputId": "de3493e6-2882-4ed0-bf63-2ea8d9f34a57"
   },
   "outputs": [
    {
     "name": "stdout",
     "output_type": "stream",
     "text": [
      "Requirement already satisfied: imutils in /usr/local/lib/python3.8/dist-packages (0.5.4)\n",
      "\u001b[33mWARNING: Running pip as the 'root' user can result in broken permissions and conflicting behaviour with the system package manager. It is recommended to use a virtual environment instead: https://pip.pypa.io/warnings/venv\u001b[0m\n",
      "\u001b[33mWARNING: You are using pip version 21.1.3; however, version 23.1.2 is available.\n",
      "You should consider upgrading via the '/usr/bin/python3 -m pip install --upgrade pip' command.\u001b[0m\n"
     ]
    }
   ],
   "source": [
    "#!pip install opencv-contrib-python\n",
    "!pip install imutils\n",
    "#!pip install scikit-learn\n",
    "#!pip install tqdm"
   ]
  },
  {
   "cell_type": "code",
   "execution_count": 2,
   "metadata": {
    "colab": {
     "base_uri": "https://localhost:8080/"
    },
    "executionInfo": {
     "elapsed": 6590,
     "status": "ok",
     "timestamp": 1687112336204,
     "user": {
      "displayName": "Ivan Klabučar",
      "userId": "04386316414841804865"
     },
     "user_tz": -120
    },
    "id": "wOXbdDNs53Eh",
    "outputId": "e292f3ed-64f6-4cdb-b265-4e37e97c961f"
   },
   "outputs": [
    {
     "data": {
      "text/plain": [
       "<matplotlib.pyplot._IonContext at 0x7fec90477220>"
      ]
     },
     "execution_count": 2,
     "metadata": {},
     "output_type": "execute_result"
    }
   ],
   "source": [
    "import torch\n",
    "import os\n",
    "import seaborn as sns\n",
    "import pandas as pd\n",
    "import matplotlib.pyplot as plt\n",
    "from torch.utils.data import Dataset\n",
    "import cv2\n",
    "from torch.nn import ConvTranspose2d\n",
    "from torch.nn import Conv2d\n",
    "from torch.nn import MaxPool2d\n",
    "from torch.nn import Module\n",
    "from torch.nn import ModuleList\n",
    "from torch.nn import ReLU\n",
    "from torchvision.transforms import CenterCrop\n",
    "import torchvision\n",
    "from torch.nn import functional as F\n",
    "from torch.nn import BCEWithLogitsLoss, CrossEntropyLoss\n",
    "from torch.optim import Adam\n",
    "from torch.utils.data import DataLoader\n",
    "from sklearn.model_selection import train_test_split\n",
    "from sklearn.metrics import confusion_matrix\n",
    "from torchvision import transforms\n",
    "from imutils import paths\n",
    "from tqdm import tqdm\n",
    "import time\n",
    "import numpy as np\n",
    "import random\n",
    "from os.path import exists\n",
    "\n",
    "\n",
    "\n",
    "plt.ion()   # interactive mode"
   ]
  },
  {
   "cell_type": "code",
   "execution_count": 3,
   "metadata": {
    "executionInfo": {
     "elapsed": 1,
     "status": "ok",
     "timestamp": 1687112338527,
     "user": {
      "displayName": "Ivan Klabučar",
      "userId": "04386316414841804865"
     },
     "user_tz": -120
    },
    "id": "f5IUTK6Pq-19"
   },
   "outputs": [],
   "source": [
    "import numpy as np\n",
    "import matplotlib.pyplot as plt\n",
    "import seaborn as sns\n",
    "\n",
    "def make_confusion_matrix(cf,\n",
    "                          group_names=None,\n",
    "                          categories='auto',\n",
    "                          count=True,\n",
    "                          percent=True,\n",
    "                          cbar=True,\n",
    "                          xyticks=True,\n",
    "                          xyplotlabels=True,\n",
    "                          sum_stats=True,\n",
    "                          figsize=None,\n",
    "                          cmap='Blues',\n",
    "                          title=None):\n",
    "    '''\n",
    "    This function will make a pretty plot of an sklearn Confusion Matrix cm using a Seaborn heatmap visualization.\n",
    "    Arguments\n",
    "    ---------\n",
    "    cf:            confusion matrix to be passed in\n",
    "    group_names:   List of strings that represent the labels row by row to be shown in each square.\n",
    "    categories:    List of strings containing the categories to be displayed on the x,y axis. Default is 'auto'\n",
    "    count:         If True, show the raw number in the confusion matrix. Default is True.\n",
    "    normalize:     If True, show the proportions for each category. Default is True.\n",
    "    cbar:          If True, show the color bar. The cbar values are based off the values in the confusion matrix.\n",
    "                   Default is True.\n",
    "    xyticks:       If True, show x and y ticks. Default is True.\n",
    "    xyplotlabels:  If True, show 'True Label' and 'Predicted Label' on the figure. Default is True.\n",
    "    sum_stats:     If True, display summary statistics below the figure. Default is True.\n",
    "    figsize:       Tuple representing the figure size. Default will be the matplotlib rcParams value.\n",
    "    cmap:          Colormap of the values displayed from matplotlib.pyplot.cm. Default is 'Blues'\n",
    "                   See http://matplotlib.org/examples/color/colormaps_reference.html\n",
    "\n",
    "    title:         Title for the heatmap. Default is None.\n",
    "    '''\n",
    "\n",
    "\n",
    "    # CODE TO GENERATE TEXT INSIDE EACH SQUARE\n",
    "    blanks = ['' for i in range(cf.size)]\n",
    "\n",
    "    if group_names and len(group_names)==cf.size:\n",
    "        group_labels = [\"{}\\n\".format(value) for value in group_names]\n",
    "    else:\n",
    "        group_labels = blanks\n",
    "\n",
    "    if count:\n",
    "        group_counts = [\"{0:0.0f}\\n\".format(value) for value in cf.flatten()]\n",
    "    else:\n",
    "        group_counts = blanks\n",
    "\n",
    "    if percent:\n",
    "        group_percentages = [\"{0:.2%}\".format(value) for value in cf.flatten()/np.sum(cf)]\n",
    "    else:\n",
    "        group_percentages = blanks\n",
    "\n",
    "    box_labels = [f\"{v1}{v2}{v3}\".strip() for v1, v2, v3 in zip(group_labels,group_counts,group_percentages)]\n",
    "    box_labels = np.asarray(box_labels).reshape(cf.shape[0],cf.shape[1])\n",
    "\n",
    "\n",
    "    # CODE TO GENERATE SUMMARY STATISTICS & TEXT FOR SUMMARY STATS\n",
    "    if sum_stats:\n",
    "        #Accuracy is sum of diagonal divided by total observations\n",
    "        accuracy  = np.trace(cf) / float(np.sum(cf))\n",
    "\n",
    "        #if it is a binary confusion matrix, show some more stats\n",
    "        if len(cf)==2:\n",
    "            #Metrics for Binary Confusion Matrices\n",
    "            precision = cf[1,1] / sum(cf[:,1])\n",
    "            recall    = cf[1,1] / sum(cf[1,:])\n",
    "            f1_score  = 2*precision*recall / (precision + recall)\n",
    "            stats_text = \"\\n\\nAccuracy={:0.3f}\\nPrecision={:0.3f}\\nRecall={:0.3f}\\nF1 Score={:0.3f}\".format(\n",
    "                accuracy,precision,recall,f1_score)\n",
    "        else:\n",
    "            stats_text = \"\\n\\nAccuracy={:0.3f}\".format(accuracy)\n",
    "    else:\n",
    "        stats_text = \"\"\n",
    "\n",
    "\n",
    "    # SET FIGURE PARAMETERS ACCORDING TO OTHER ARGUMENTS\n",
    "    if figsize==None:\n",
    "        #Get default figure size if not set\n",
    "        figsize = plt.rcParams.get('figure.figsize')\n",
    "\n",
    "    if xyticks==False:\n",
    "        #Do not show categories if xyticks is False\n",
    "        categories=False\n",
    "\n",
    "\n",
    "    # MAKE THE HEATMAP VISUALIZATION\n",
    "    plt.figure(figsize=figsize)\n",
    "    sns.heatmap(cf,annot=box_labels,fmt=\"\",cmap=cmap,cbar=cbar,xticklabels=categories,yticklabels=categories)\n",
    "    plt.xticks(rotation=45, ha='right', rotation_mode='anchor')\n",
    "    plt.yticks(rotation=45, ha='right', rotation_mode='anchor')\n",
    "\n",
    "    if xyplotlabels:\n",
    "        plt.ylabel('True label')\n",
    "        plt.xlabel('Predicted label' + stats_text)\n",
    "    else:\n",
    "        plt.xlabel(stats_text)\n",
    "\n",
    "    if title:\n",
    "        plt.title(title)\n",
    "\n",
    "    plt.savefig(os.path.join(dir_prefix, 'ForestSegmentationOutput', 'CFMs', f\"{title}.jpg\"))"
   ]
  },
  {
   "cell_type": "code",
   "execution_count": 4,
   "metadata": {
    "colab": {
     "base_uri": "https://localhost:8080/"
    },
    "executionInfo": {
     "elapsed": 26479,
     "status": "ok",
     "timestamp": 1687112368163,
     "user": {
      "displayName": "Ivan Klabučar",
      "userId": "04386316414841804865"
     },
     "user_tz": -120
    },
    "id": "ev-WP3SbMf_o",
    "outputId": "7fbe9305-c9d5-4a41-9450-d261b731b81e"
   },
   "outputs": [],
   "source": [
    "dir_prefix = '/data'"
   ]
  },
  {
   "cell_type": "code",
   "execution_count": 50,
   "metadata": {
    "executionInfo": {
     "elapsed": 816,
     "status": "ok",
     "timestamp": 1687112411330,
     "user": {
      "displayName": "Ivan Klabučar",
      "userId": "04386316414841804865"
     },
     "user_tz": -120
    },
    "id": "elpXv1PnoFit"
   },
   "outputs": [
    {
     "name": "stdout",
     "output_type": "stream",
     "text": [
      "DEVICE: cuda\n"
     ]
    }
   ],
   "source": [
    "# base path of the dataset\n",
    "DATASET_PATH = os.path.join(dir_prefix, 'ForestDataset8C')\n",
    "TRAIN_DATASET_NAME = 'nks'\n",
    "TEST_DATASET_NAME = 'train_polygons'\n",
    "# define the path to the images and masks dataset\n",
    "#IMAGE_DATASET_PATH = os.path.join(DATASET_PATH, \"wv2_0\")\n",
    "#MASK_DATASET_PATH = os.path.join(DATASET_PATH, \"nks\")\n",
    "# define the test split\n",
    "TEST_SPLIT = 0.2\n",
    "# determine the device to be used for training and evaluation\n",
    "DEVICE = \"cuda\" if torch.cuda.is_available() else \"cpu\"\n",
    "print(f\"DEVICE: {DEVICE}\")\n",
    "# determine if we will be pinning memory during data loading\n",
    "PIN_MEMORY = True if DEVICE == \"cuda\" else False\n",
    "\n",
    "# define the number of channels in the input, number of classes,\n",
    "# and number of levels in the U-Net model\n",
    "NUM_CHANNELS = 8\n",
    "NUM_CLASSES = 13\n",
    "\n",
    "# UNET layers\n",
    "ENC_CHANNELS = (NUM_CHANNELS, 16, 32, 64, 128, 256)\n",
    "DEC_CHANNELS = (256, 128, 64, 32, 16)\n",
    "# WHether to train and test just on nks or to train on nks and test on train_polygons\n",
    "TEST_TRAIN_SAME_DATASET = False\n",
    "#For nks, 3% smnoothing, background class manually set to 0.55\n",
    "CLASS_WEIGHTS = torch.tensor(\n",
    "                [0.55962825,\n",
    "                 1.23985772,\n",
    "                 1.08779277,\n",
    "                 2.61466572,\n",
    "                 0.98158784,\n",
    "                 3.61027868,\n",
    "                 3.2204647,\n",
    "                 0.68544988,\n",
    "                 2.89362751,\n",
    "                 1.46009199,\n",
    "                 2.32775901,\n",
    "                 2.79981566,\n",
    "                 0],\n",
    "                 dtype=torch.float\n",
    "                )\n",
    "# For train_polygons, smoothing all class's weights by adding 0.5% of np.sum(counts) of every class, disregarding background class: True, bacground class weight decreased\n",
    "# CLASS_WEIGHTS = torch.tensor(\n",
    "#                 [0.71699578,\n",
    "#                  0.86965024,\n",
    "#                  0.83796998,\n",
    "#                  1.40117822,\n",
    "#                  0.64571334,\n",
    "#                  1.31878831,\n",
    "#                  1.25086646,\n",
    "#                  0.45417005,\n",
    "#                  0.96135848,\n",
    "#                  1.01883446,\n",
    "#                  1.35632342,\n",
    "#                  1.35991466,\n",
    "#                  1.61584644],\n",
    "#                  dtype=torch.float\n",
    "#                 )\n",
    "# For train_polygons, smoothing all class's weights by adding 0.1% of np.sum(counts) of every class, disregarding background class: True, bacground class weight decreased, 0 mannually set to 0.2\n",
    "# CLASS_WEIGHTS = torch.tensor(\n",
    "#                 [0.2,\n",
    "#                  0.84980866,\n",
    "#                  0.80220355,\n",
    "#                  2.10060009,\n",
    "#                  0.55026213,\n",
    "#                  1.82590034,\n",
    "#                  1.62915876,\n",
    "#                  0.34886069,\n",
    "#                  0.99946672,\n",
    "#                  1.10342015,\n",
    "#                  1.94564972,\n",
    "#                  1.95756166,\n",
    "#                  3.08878289],\n",
    "#                  dtype=torch.float\n",
    "#                 )\n",
    "# initialize learning rate, number of epochs to train for, and the\n",
    "# batch size\n",
    "INIT_LR = 0.0005\n",
    "WEIGHT_DECAY = 0.0001\n",
    "NUM_EPOCHS = 270\n",
    "BATCH_SIZE = 8\n",
    "# define the input image dimensions\n",
    "INPUT_IMAGE_WIDTH = 512 # The images will be resized to this before getting fed into the model\n",
    "INPUT_IMAGE_HEIGHT = 512 # The images will be resized to this before getting fed into the model\n",
    "# define threshold to filter weak predictions\n",
    "THRESHOLD = 0.5\n",
    "# define the path to the base output directory\n",
    "BASE_OUTPUT = os.path.join(dir_prefix, 'ForestSegmentationOutput')\n",
    "# define the path to the output serialized model, model training\n",
    "# plot, and testing image paths\n",
    "PRETRAINED_MODEL_NAME = None\n",
    "PRETRAINED_MODEL_PATH = os.path.join(BASE_OUTPUT, PRETRAINED_MODEL_NAME) if PRETRAINED_MODEL_NAME else None\n",
    "_output_model_name = f\"3percent_smoothly_weighted_0_weight_0.55_max_complexity=256_unet_{TRAIN_DATASET_NAME}_{NUM_CLASSES}_class_forest_{NUM_EPOCHS}_epoch_{INIT_LR}_lr_{WEIGHT_DECAY}_wd\"\n",
    "OUTPUT_MODEL_PATH = os.path.join(BASE_OUTPUT, f\"{_output_model_name}.pth\")\n",
    "PLOT_PATH = os.path.sep.join([BASE_OUTPUT, f\"loss_{_output_model_name}.png\"])\n",
    "#TEST_PATHS = os.path.sep.join([BASE_OUTPUT, \"test_paths.txt\"])"
   ]
  },
  {
   "cell_type": "code",
   "execution_count": 51,
   "metadata": {
    "executionInfo": {
     "elapsed": 2,
     "status": "ok",
     "timestamp": 1687112414960,
     "user": {
      "displayName": "Ivan Klabučar",
      "userId": "04386316414841804865"
     },
     "user_tz": -120
    },
    "id": "KdU0pufL6YjJ"
   },
   "outputs": [],
   "source": [
    "class ForestSegmentationDataset(Dataset):\n",
    "    def __init__(self,\n",
    "                 channels, # list so it defines order of cjannels since dict doesnt\n",
    "                 imagePaths,\n",
    "                 maskPaths,\n",
    "                 transforms_img,\n",
    "                 transforms_mask):\n",
    "        # store the image and mask filepaths, and augmentation\n",
    "        # transforms\n",
    "        num_of_imgs = len(list(imagePaths.values())[0])\n",
    "        for cname in channels:\n",
    "            assert (cname in imagePaths) and (len(imagePaths[cname]) == num_of_imgs),'image paths for different channels of different length OR channel not present in imagePaths dict!!!'\n",
    "            for imgpath in imagePaths[cname]:\n",
    "                assert exists(imgpath), f\"{imgpath} does not exist!\"\n",
    "\n",
    "        for mpath in maskPaths:\n",
    "            assert exists(mpath), f\"{mpath} does not exist!\"\n",
    "\n",
    "        self.channels = channels\n",
    "        self.imagePaths = imagePaths\n",
    "        self.maskPaths = maskPaths\n",
    "        self.transforms_img = transforms_img\n",
    "        self.transforms_mask = transforms_mask\n",
    "\n",
    "    def __len__(self):\n",
    "        # return the number of total samples contained in the dataset\n",
    "        return len(list(self.imagePaths.values())[0])\n",
    "\n",
    "    def __getitem__(self, idx):\n",
    "        channels_to_stack = [\n",
    "            cv2.imread(\n",
    "                self.imagePaths[cname][idx],\n",
    "                cv2.IMREAD_UNCHANGED\n",
    "            ) for cname in self.channels\n",
    "        ]\n",
    "        image = np.stack(channels_to_stack) # This adds extra dimension at the beginning investigate if this does anything weird\n",
    "        image = torch.tensor(np.float32(image / 255.0))\n",
    "        mask = cv2.imread(self.maskPaths[idx], cv2.IMREAD_UNCHANGED)\n",
    "        mask[mask < 0] = 0 # Background class should be zero not -3.4e+38\n",
    "        mask = np.float32(mask)\n",
    "        # check to see if we are applying any transformations\n",
    "        # apply the transformations to both image and its mask\n",
    "        if self.transforms_img is not None:\n",
    "          image = self.transforms_img(image)\n",
    "\n",
    "        if self.transforms_mask is not None:\n",
    "          mask = self.transforms_mask(mask)\n",
    "          mask = mask.to(torch.long).squeeze()\n",
    "        # return a tuple of the image and its mask\n",
    "        return (image, mask)"
   ]
  },
  {
   "cell_type": "code",
   "execution_count": 52,
   "metadata": {
    "executionInfo": {
     "elapsed": 4,
     "status": "ok",
     "timestamp": 1687112417071,
     "user": {
      "displayName": "Ivan Klabučar",
      "userId": "04386316414841804865"
     },
     "user_tz": -120
    },
    "id": "9kuaAdAb0YM0"
   },
   "outputs": [],
   "source": [
    "class Block(Module):\n",
    "    def __init__(self, inChannels, outChannels):\n",
    "        super().__init__()\n",
    "        # store the convolution and RELU layers\n",
    "        self.conv1 = Conv2d(inChannels, outChannels, 3)\n",
    "        self.relu = ReLU()\n",
    "        self.conv2 = Conv2d(outChannels, outChannels, 3)\n",
    "\n",
    "    def forward(self, x):\n",
    "        # apply CONV => RELU => CONV block to the inputs and return it\n",
    "        return self.conv2(self.relu(self.conv1(x)))\n",
    "\n",
    "class Encoder(Module):\n",
    "    def __init__(self, channels=ENC_CHANNELS):\n",
    "        super().__init__()\n",
    "        # store the encoder blocks and maxpooling layer\n",
    "        self.encBlocks = ModuleList(\n",
    "          [Block(channels[i], channels[i + 1])\n",
    "            for i in range(len(channels) - 1)])\n",
    "        self.pool = MaxPool2d(2)\n",
    "    def forward(self, x):\n",
    "        # initialize an empty list to store the intermediate outputs\n",
    "        blockOutputs = []\n",
    "        # loop through the encoder blocks\n",
    "        for block in self.encBlocks:\n",
    "            # pass the inputs through the current encoder block, store\n",
    "            # the outputs, and then apply maxpooling on the output\n",
    "            x = block(x)\n",
    "            blockOutputs.append(x)\n",
    "            x = self.pool(x)\n",
    "        # return the list containing the intermediate outputs\n",
    "        return blockOutputs\n",
    "\n",
    "class Decoder(Module):\n",
    "    def __init__(self, channels=DEC_CHANNELS):\n",
    "        super().__init__()\n",
    "        # initialize the number of channels, upsampler blocks, and\n",
    "        # decoder blocks\n",
    "        self.channels = channels\n",
    "        self.upconvs = ModuleList(\n",
    "          [ConvTranspose2d(channels[i], channels[i + 1], 2, 2)\n",
    "            for i in range(len(channels) - 1)])\n",
    "        self.dec_blocks = ModuleList(\n",
    "          [Block(channels[i], channels[i + 1])\n",
    "            for i in range(len(channels) - 1)])\n",
    "\n",
    "    def forward(self, x, encFeatures):\n",
    "        # loop through the number of channels\n",
    "        for i in range(len(self.channels) - 1):\n",
    "            # pass the inputs through the upsampler blocks\n",
    "            x = self.upconvs[i](x)\n",
    "            # crop the current features from the encoder blocks,\n",
    "            # concatenate them with the current upsampled features,\n",
    "            # and pass the concatenated output through the current\n",
    "            # decoder block\n",
    "            encFeat = self.crop(encFeatures[i], x)\n",
    "            x = torch.cat([x, encFeat], dim=1)\n",
    "            x = self.dec_blocks[i](x)\n",
    "        # return the final decoder output\n",
    "        return x\n",
    "\n",
    "    def crop(self, encFeatures, x):\n",
    "        # grab the dimensions of the inputs, and crop the encoder\n",
    "        # features to match the dimensions\n",
    "        (_, _, H, W) = x.shape\n",
    "        encFeatures = CenterCrop([H, W])(encFeatures)\n",
    "        # return the cropped features\n",
    "        return encFeatures\n",
    "\n",
    "class UNet(Module):\n",
    "    def __init__(self, encChannels=ENC_CHANNELS,\n",
    "        decChannels=DEC_CHANNELS,\n",
    "        nbClasses=NUM_CLASSES, retainDim=True,\n",
    "        outSize=(INPUT_IMAGE_HEIGHT, INPUT_IMAGE_WIDTH)):\n",
    "        super().__init__()\n",
    "        # initialize the encoder and decoder\n",
    "        self.encoder = Encoder(encChannels)\n",
    "        self.decoder = Decoder(decChannels)\n",
    "        # initialize the regression head and store the class variables\n",
    "        self.head = Conv2d(decChannels[-1], nbClasses, 1)\n",
    "        self.retainDim = retainDim\n",
    "        self.outSize = outSize\n",
    "\n",
    "    def forward(self, x):\n",
    "        # grab the features from the encoder\n",
    "        encFeatures = self.encoder(x)\n",
    "        # pass the encoder features through decoder making sure that\n",
    "        # their dimensions are suited for concatenation\n",
    "        decFeatures = self.decoder(encFeatures[::-1][0],\n",
    "          encFeatures[::-1][1:])\n",
    "        # pass the decoder features through the regression head to\n",
    "        # obtain the segmentation mask\n",
    "        map = self.head(decFeatures)\n",
    "        # check to see if we are retaining the original output\n",
    "        # dimensions and if so, then resize the output to match them\n",
    "        if self.retainDim:\n",
    "            map = F.interpolate(map, self.outSize)\n",
    "        # return the segmentation map\n",
    "        return map"
   ]
  },
  {
   "cell_type": "code",
   "execution_count": 53,
   "metadata": {
    "executionInfo": {
     "elapsed": 2,
     "status": "ok",
     "timestamp": 1687112421271,
     "user": {
      "displayName": "Ivan Klabučar",
      "userId": "04386316414841804865"
     },
     "user_tz": -120
    },
    "id": "rCYhWb_92N8l"
   },
   "outputs": [],
   "source": [
    "def slice_coords(path):\n",
    "\t\tpath_no_ext = os.path.splitext(path)[0]\n",
    "\t\tcoords = os.path.basename(path_no_ext).split('_')[-2:]\n",
    "\t\treturn tuple([int(x) for x in coords])\n",
    "\n",
    "\n",
    "def filter_data_present_in_other_set(Imgs, masks, slices_to_filter_out):\n",
    "\t\tslices_to_filter_out = set([slice_coords(path) for path in slices_to_filter_out])\n",
    "\t\tfor k in Imgs:\n",
    "\t\t\t\tpaths_to_keep = [path for path in Imgs[k] if slice_coords(path) not in slices_to_filter_out]\n",
    "\t\t\t\tImgs[k] = paths_to_keep\n",
    "\n",
    "\t\tpaths_to_keep = [path for path in masks if slice_coords(path) not in slices_to_filter_out]\n",
    "\t\tmasks = paths_to_keep\n",
    "\n",
    "\t\treturn Imgs, masks\n",
    "\n",
    "## NEW WAY\n",
    "def load_img_and_mask_paths(mask_version='nks', single_set=False):\n",
    "\t\twv2_0_nks_data = pd.read_csv(f'/data/ForestDataset8C/Dataset-wv2_0-{mask_version}.csv')\n",
    "\t\twv2_1_nks_data = pd.read_csv(f'/data/ForestDataset8C/Dataset-wv2_1-{mask_version}.csv')\n",
    "\t\twv2_2_nks_data = pd.read_csv(f'/data/ForestDataset8C/Dataset-wv2_2-{mask_version}.csv')\n",
    "\t\twv2_3_nks_data = pd.read_csv(f'/data/ForestDataset8C/Dataset-wv2_3-{mask_version}.csv')\n",
    "\t\twv2_4_nks_data = pd.read_csv(f'/data/ForestDataset8C/Dataset-wv2_4-{mask_version}.csv')\n",
    "\t\twv2_5_nks_data = pd.read_csv(f'/data/ForestDataset8C/Dataset-wv2_5-{mask_version}.csv')\n",
    "\t\twv2_6_nks_data = pd.read_csv(f'/data/ForestDataset8C/Dataset-wv2_6-{mask_version}.csv')\n",
    "\t\twv2_7_nks_data = pd.read_csv(f'/data/ForestDataset8C/Dataset-wv2_7-{mask_version}.csv')\n",
    "\t\timage0Paths = list(sorted(wv2_0_nks_data.imgPath))\n",
    "\t\timage1Paths = list(sorted(wv2_1_nks_data.imgPath))\n",
    "\t\timage2Paths = list(sorted(wv2_2_nks_data.imgPath))\n",
    "\t\timage3Paths = list(sorted(wv2_3_nks_data.imgPath))\n",
    "\t\timage4Paths = list(sorted(wv2_4_nks_data.imgPath))\n",
    "\t\timage5Paths = list(sorted(wv2_5_nks_data.imgPath))\n",
    "\t\timage6Paths = list(sorted(wv2_6_nks_data.imgPath))\n",
    "\t\timage7Paths = list(sorted(wv2_7_nks_data.imgPath))\n",
    "\t\tmaskPaths = list(sorted(wv2_7_nks_data.maskPath))\n",
    "\n",
    "\t\tl = [image0Paths,\n",
    "\t\t\t\t image1Paths,\n",
    "\t\t\t\t image2Paths,\n",
    "\t\t\t\t image3Paths,\n",
    "\t\t\t\t image4Paths,\n",
    "\t\t\t\t image5Paths,\n",
    "\t\t\t\t image6Paths,\n",
    "\t\t\t\t image7Paths,\n",
    "\t\t\t\t maskPaths]\n",
    "\t\tfor dataset in l:\n",
    "\t\t\t\tassert len(l[0]) == len(dataset), \"List of paths of diffrenet length for differen channels/mask\"\n",
    "\t\tfor i in range(len(image0Paths)):\n",
    "\t\t\t\tassert all([slice_coords(image0Paths[i]) == slice_coords(img_dataset[i]) for img_dataset in l]), \"Slices out of order for different channels/mask of dataset\"\n",
    "\n",
    "\n",
    "\t\tif single_set:\n",
    "\t\t\t\tImgs = {\n",
    "\t\t\t\t\t\t0: image0Paths,\n",
    "\t\t\t\t\t\t1: image1Paths,\n",
    "\t\t\t\t\t\t2: image2Paths,\n",
    "\t\t\t\t\t\t3: image3Paths,\n",
    "\t\t\t\t\t\t4: image4Paths,\n",
    "\t\t\t\t\t\t5: image5Paths,\n",
    "\t\t\t\t\t\t6: image6Paths,\n",
    "\t\t\t\t\t\t7: image7Paths,\n",
    "\t\t\t\t}\n",
    "\t\t\t\treturn Imgs, maskPaths\n",
    "\n",
    "\t\tsplit = train_test_split(image0Paths,\n",
    "\t\t\t\t\t\t\t\t\t\t\t\t\t\timage1Paths,\n",
    "\t\t\t\t\t\t\t\t\t\t\t\t\t\timage2Paths,\n",
    "\t\t\t\t\t\t\t\t\t\t\t\t\t\timage3Paths,\n",
    "\t\t\t\t\t\t\t\t\t\t\t\t\t\timage4Paths,\n",
    "\t\t\t\t\t\t\t\t\t\t\t\t\t\timage5Paths,\n",
    "\t\t\t\t\t\t\t\t\t\t\t\t\t\timage6Paths,\n",
    "\t\t\t\t\t\t\t\t\t\t\t\t\t\timage7Paths,\n",
    "\t\t\t\t\t\t\t\t\t\t\t\t\t\tmaskPaths,\n",
    "\t\t\t\t\t\t\t\t\t\t\t\t\t\ttest_size=TEST_SPLIT,\n",
    "\t\t\t\t\t\t\t\t\t\t\t\t\t\trandom_state=42)\n",
    "\n",
    "\t\t(trainImages0, testImages0) = split[:2]\n",
    "\t\t(trainImages1, testImages1) = split[2:4]\n",
    "\t\t(trainImages2, testImages2) = split[4:6]\n",
    "\t\t(trainImages3, testImages3) = split[6:8]\n",
    "\t\t(trainImages4, testImages4) = split[8:10]\n",
    "\t\t(trainImages5, testImages5) = split[10:12]\n",
    "\t\t(trainImages6, testImages6) = split[12:14]\n",
    "\t\t(trainImages7, testImages7) = split[14:16]\n",
    "\t\t(trainMasks, testMasks) = split[16:]\n",
    "\n",
    "\t\ttrainImages = {\n",
    "\t\t\t\t0: trainImages0,\n",
    "\t\t\t\t1: trainImages1,\n",
    "\t\t\t\t2: trainImages2,\n",
    "\t\t\t\t3: trainImages3,\n",
    "\t\t\t\t4: trainImages4,\n",
    "\t\t\t\t5: trainImages5,\n",
    "\t\t\t\t6: trainImages6,\n",
    "\t\t\t\t7: trainImages7,\n",
    "\t\t}\n",
    "\n",
    "\t\ttestImages = {\n",
    "\t\t\t\t0: testImages0,\n",
    "\t\t\t\t1: testImages1,\n",
    "\t\t\t\t2: testImages2,\n",
    "\t\t\t\t3: testImages3,\n",
    "\t\t\t\t4: testImages4,\n",
    "\t\t\t\t5: testImages5,\n",
    "\t\t\t\t6: testImages6,\n",
    "\t\t\t\t7: testImages7,\n",
    "\t\t}\n",
    "\n",
    "\t\treturn trainImages, testImages, trainMasks, testMasks"
   ]
  },
  {
   "cell_type": "code",
   "execution_count": 54,
   "metadata": {
    "colab": {
     "base_uri": "https://localhost:8080/"
    },
    "executionInfo": {
     "elapsed": 33405,
     "status": "ok",
     "timestamp": 1687112712531,
     "user": {
      "displayName": "Ivan Klabučar",
      "userId": "04386316414841804865"
     },
     "user_tz": -120
    },
    "id": "EKsKq-0m21Tg",
    "outputId": "ec4de81f-917b-450a-a22a-e2e2ab28d503"
   },
   "outputs": [
    {
     "name": "stdout",
     "output_type": "stream",
     "text": [
      "TEST_TRAIN_SAME_DATASET False: False, training on: nks\n",
      "[INFO] found 632 examples in the training set...\n",
      "[INFO] found 96 examples in the test set...\n"
     ]
    }
   ],
   "source": [
    "if TEST_TRAIN_SAME_DATASET:\n",
    "\t\tprint(f\"TEST_TRAIN_SAME_DATASET False: {TEST_TRAIN_SAME_DATASET}\")\n",
    "\t\ttrainImages, testImages, trainMasks, testMasks = load_img_and_mask_paths(mask_version=TRAIN_DATASET_NAME)\n",
    "elif TRAIN_DATASET_NAME == 'train_polygons':\n",
    "\t\tprint(f\"TEST_TRAIN_SAME_DATASET False: {TEST_TRAIN_SAME_DATASET}, training on: {TRAIN_DATASET_NAME}\")\n",
    "\t\tImages_train_dataset, Masks_train_dataset = load_img_and_mask_paths(mask_version=TRAIN_DATASET_NAME, single_set=True)\n",
    "\t\tImages_test_dataset, Masks_test_dataset = load_img_and_mask_paths(mask_version=TEST_DATASET_NAME, single_set=True)\n",
    "\t\ttestImages, testMasks = filter_data_present_in_other_set(Images_test_dataset, Masks_test_dataset, Masks_train_dataset)\n",
    "\t\ttrainImages, trainMasks = (Images_train_dataset, Masks_train_dataset)\n",
    "elif TRAIN_DATASET_NAME == 'nks':\n",
    "\t\tprint(f\"TEST_TRAIN_SAME_DATASET False: {TEST_TRAIN_SAME_DATASET}, training on: {TRAIN_DATASET_NAME}\")\n",
    "\t\tImages_train_dataset, Masks_train_dataset = load_img_and_mask_paths(mask_version=TRAIN_DATASET_NAME, single_set=True)\n",
    "\t\tImages_test_dataset, Masks_test_dataset = load_img_and_mask_paths(mask_version=TEST_DATASET_NAME, single_set=True)\n",
    "\t\ttrainImages, trainMasks = filter_data_present_in_other_set(Images_train_dataset, Masks_train_dataset, Masks_test_dataset)\n",
    "\t\ttestImages, testMasks = (Images_test_dataset, Masks_test_dataset)\n",
    "\n",
    "# define transformations\n",
    "img_transforms = transforms.Compose([\n",
    "   # transforms.ToPILImage(),\n",
    " \t  transforms.Resize((INPUT_IMAGE_HEIGHT, INPUT_IMAGE_WIDTH), antialias=True),\n",
    "\t # transforms.ToTensor()\n",
    "])\n",
    "\n",
    "mask_transforms = transforms.Compose([\n",
    "    transforms.ToPILImage(),\n",
    " \t  transforms.Resize((INPUT_IMAGE_HEIGHT, INPUT_IMAGE_WIDTH), interpolation=torchvision.transforms.InterpolationMode.NEAREST),\n",
    "\t  transforms.ToTensor()\n",
    "])\n",
    "\n",
    "#create the train and test datasets\n",
    "trainDS = ForestSegmentationDataset(\n",
    "\t\tchannels=list(np.arange(8)),\n",
    "\t\timagePaths=trainImages,\n",
    "\t\tmaskPaths=trainMasks,\n",
    "\t\ttransforms_img=img_transforms,\n",
    "\t\ttransforms_mask=mask_transforms\n",
    "\t\t)\n",
    "\n",
    "testDS = ForestSegmentationDataset(\n",
    "\t\tchannels=list(np.arange(8)),\n",
    "\t\timagePaths=testImages,\n",
    "\t\tmaskPaths=testMasks,\n",
    "    transforms_img=img_transforms,\n",
    "\t\ttransforms_mask=mask_transforms\n",
    "\t\t)\n",
    "print(f\"[INFO] found {len(trainDS)} examples in the training set...\")\n",
    "print(f\"[INFO] found {len(testDS)} examples in the test set...\")\n",
    "# create the training and test data loaders\n",
    "trainLoader = DataLoader(trainDS, shuffle=True,\n",
    "\tbatch_size=BATCH_SIZE, pin_memory=PIN_MEMORY,\n",
    "\tnum_workers=os.cpu_count())\n",
    "testLoader = DataLoader(testDS, shuffle=False,\n",
    "\tbatch_size=BATCH_SIZE, pin_memory=PIN_MEMORY,\n",
    "\tnum_workers=os.cpu_count())"
   ]
  },
  {
   "cell_type": "code",
   "execution_count": 55,
   "metadata": {
    "colab": {
     "base_uri": "https://localhost:8080/"
    },
    "executionInfo": {
     "elapsed": 6,
     "status": "ok",
     "timestamp": 1687112714671,
     "user": {
      "displayName": "Ivan Klabučar",
      "userId": "04386316414841804865"
     },
     "user_tz": -120
    },
    "id": "Ee7MnrFNUPUq",
    "outputId": "033e91b7-6627-47c5-ee8c-ab92be5a0632"
   },
   "outputs": [
    {
     "data": {
      "text/plain": [
       "632"
      ]
     },
     "execution_count": 55,
     "metadata": {},
     "output_type": "execute_result"
    }
   ],
   "source": [
    "len(trainDS)"
   ]
  },
  {
   "cell_type": "code",
   "execution_count": 56,
   "metadata": {
    "colab": {
     "base_uri": "https://localhost:8080/"
    },
    "executionInfo": {
     "elapsed": 5,
     "status": "ok",
     "timestamp": 1687112714672,
     "user": {
      "displayName": "Ivan Klabučar",
      "userId": "04386316414841804865"
     },
     "user_tz": -120
    },
    "id": "QnE0YhtrVQtF",
    "outputId": "6704182b-06b5-4fab-87b2-f49817dd74ef"
   },
   "outputs": [
    {
     "data": {
      "text/plain": [
       "96"
      ]
     },
     "execution_count": 56,
     "metadata": {},
     "output_type": "execute_result"
    }
   ],
   "source": [
    "len(testDS)"
   ]
  },
  {
   "cell_type": "code",
   "execution_count": 57,
   "metadata": {
    "colab": {
     "base_uri": "https://localhost:8080/"
    },
    "executionInfo": {
     "elapsed": 5747,
     "status": "ok",
     "timestamp": 1687112728735,
     "user": {
      "displayName": "Ivan Klabučar",
      "userId": "04386316414841804865"
     },
     "user_tz": -120
    },
    "id": "w6yTs6iE3Tjx",
    "outputId": "232bcbea-2814-4db4-a550-43e8f86563dd"
   },
   "outputs": [
    {
     "name": "stdout",
     "output_type": "stream",
     "text": [
      "Initializing new model from scratch\n"
     ]
    }
   ],
   "source": [
    "# initialize our UNet model\n",
    "if PRETRAINED_MODEL_PATH:\n",
    "    print(f\"Loading pretrained model {PRETRAINED_MODEL_PATH}\")\n",
    "    unet = torch.load(PRETRAINED_MODEL_PATH).to(DEVICE)\n",
    "else:\n",
    "    print('Initializing new model from scratch')\n",
    "    unet = UNet().to(DEVICE)\n"
   ]
  },
  {
   "cell_type": "code",
   "execution_count": 58,
   "metadata": {
    "executionInfo": {
     "elapsed": 466,
     "status": "ok",
     "timestamp": 1687112739000,
     "user": {
      "displayName": "Ivan Klabučar",
      "userId": "04386316414841804865"
     },
     "user_tz": -120
    },
    "id": "cbs37CPRTce2"
   },
   "outputs": [],
   "source": [
    "# initialize loss function and optimizer\n",
    "lossFunc = CrossEntropyLoss(weight=CLASS_WEIGHTS.to(DEVICE))\n",
    "opt = Adam(unet.parameters(), lr=INIT_LR, weight_decay=WEIGHT_DECAY)\n",
    "# calculate steps per epoch for training and test set\n",
    "trainSteps = len(trainDS) // BATCH_SIZE\n",
    "testSteps = len(testDS) // BATCH_SIZE\n",
    "# initialize a dictionary to store training history\n",
    "H = {\"train_loss\": [], \"test_loss\": []}"
   ]
  },
  {
   "cell_type": "code",
   "execution_count": 60,
   "metadata": {
    "colab": {
     "base_uri": "https://localhost:8080/",
     "height": 1000
    },
    "executionInfo": {
     "elapsed": 4536401,
     "status": "ok",
     "timestamp": 1687117299270,
     "user": {
      "displayName": "Ivan Klabučar",
      "userId": "04386316414841804865"
     },
     "user_tz": -120
    },
    "id": "FAmjR_KZ3hfl",
    "outputId": "2fbe1903-f7c3-471d-b399-d424dfd967af"
   },
   "outputs": [
    {
     "name": "stderr",
     "output_type": "stream",
     "text": [
      "  0%|          | 0/270 [00:00<?, ?it/s]"
     ]
    },
    {
     "name": "stdout",
     "output_type": "stream",
     "text": [
      "[INFO] training the network...\n"
     ]
    },
    {
     "name": "stderr",
     "output_type": "stream",
     "text": [
      "  0%|          | 1/270 [00:09<42:54,  9.57s/it]"
     ]
    },
    {
     "name": "stdout",
     "output_type": "stream",
     "text": [
      "[INFO] EPOCH: 1/270\n",
      "Train loss: 2.358626, Test loss: 2.8367\n"
     ]
    },
    {
     "name": "stderr",
     "output_type": "stream",
     "text": [
      "  1%|          | 2/270 [00:19<42:59,  9.62s/it]"
     ]
    },
    {
     "name": "stdout",
     "output_type": "stream",
     "text": [
      "[INFO] EPOCH: 2/270\n",
      "Train loss: 2.223434, Test loss: 2.9398\n"
     ]
    },
    {
     "name": "stderr",
     "output_type": "stream",
     "text": [
      "  1%|          | 3/270 [00:28<42:35,  9.57s/it]"
     ]
    },
    {
     "name": "stdout",
     "output_type": "stream",
     "text": [
      "[INFO] EPOCH: 3/270\n",
      "Train loss: 2.209957, Test loss: 2.7293\n"
     ]
    },
    {
     "name": "stderr",
     "output_type": "stream",
     "text": [
      "  1%|▏         | 4/270 [00:38<42:23,  9.56s/it]"
     ]
    },
    {
     "name": "stdout",
     "output_type": "stream",
     "text": [
      "[INFO] EPOCH: 4/270\n",
      "Train loss: 2.202796, Test loss: 2.8866\n"
     ]
    },
    {
     "name": "stderr",
     "output_type": "stream",
     "text": [
      "  2%|▏         | 5/270 [00:47<42:14,  9.57s/it]"
     ]
    },
    {
     "name": "stdout",
     "output_type": "stream",
     "text": [
      "[INFO] EPOCH: 5/270\n",
      "Train loss: 2.202550, Test loss: 2.8219\n"
     ]
    },
    {
     "name": "stderr",
     "output_type": "stream",
     "text": [
      "  2%|▏         | 6/270 [00:57<41:51,  9.52s/it]"
     ]
    },
    {
     "name": "stdout",
     "output_type": "stream",
     "text": [
      "[INFO] EPOCH: 6/270\n",
      "Train loss: 2.197780, Test loss: 2.8966\n"
     ]
    },
    {
     "name": "stderr",
     "output_type": "stream",
     "text": [
      "  3%|▎         | 7/270 [01:06<41:38,  9.50s/it]"
     ]
    },
    {
     "name": "stdout",
     "output_type": "stream",
     "text": [
      "[INFO] EPOCH: 7/270\n",
      "Train loss: 2.185298, Test loss: 3.1507\n"
     ]
    },
    {
     "name": "stderr",
     "output_type": "stream",
     "text": [
      "  3%|▎         | 8/270 [01:16<41:26,  9.49s/it]"
     ]
    },
    {
     "name": "stdout",
     "output_type": "stream",
     "text": [
      "[INFO] EPOCH: 8/270\n",
      "Train loss: 2.184156, Test loss: 2.8707\n"
     ]
    },
    {
     "name": "stderr",
     "output_type": "stream",
     "text": [
      "  3%|▎         | 9/270 [01:25<41:29,  9.54s/it]"
     ]
    },
    {
     "name": "stdout",
     "output_type": "stream",
     "text": [
      "[INFO] EPOCH: 9/270\n",
      "Train loss: 2.155725, Test loss: 2.7272\n"
     ]
    },
    {
     "name": "stderr",
     "output_type": "stream",
     "text": [
      "  4%|▎         | 10/270 [01:35<41:20,  9.54s/it]"
     ]
    },
    {
     "name": "stdout",
     "output_type": "stream",
     "text": [
      "[INFO] EPOCH: 10/270\n",
      "Train loss: 2.130799, Test loss: 2.8683\n"
     ]
    },
    {
     "name": "stderr",
     "output_type": "stream",
     "text": [
      "  4%|▍         | 11/270 [01:44<41:11,  9.54s/it]"
     ]
    },
    {
     "name": "stdout",
     "output_type": "stream",
     "text": [
      "[INFO] EPOCH: 11/270\n",
      "Train loss: 2.124847, Test loss: 2.8990\n"
     ]
    },
    {
     "name": "stderr",
     "output_type": "stream",
     "text": [
      "  4%|▍         | 12/270 [01:54<40:53,  9.51s/it]"
     ]
    },
    {
     "name": "stdout",
     "output_type": "stream",
     "text": [
      "[INFO] EPOCH: 12/270\n",
      "Train loss: 2.090933, Test loss: 3.0487\n"
     ]
    },
    {
     "name": "stderr",
     "output_type": "stream",
     "text": [
      "  5%|▍         | 13/270 [02:03<40:43,  9.51s/it]"
     ]
    },
    {
     "name": "stdout",
     "output_type": "stream",
     "text": [
      "[INFO] EPOCH: 13/270\n",
      "Train loss: 2.086472, Test loss: 2.8666\n"
     ]
    },
    {
     "name": "stderr",
     "output_type": "stream",
     "text": [
      "  5%|▌         | 14/270 [02:13<40:47,  9.56s/it]"
     ]
    },
    {
     "name": "stdout",
     "output_type": "stream",
     "text": [
      "[INFO] EPOCH: 14/270\n",
      "Train loss: 2.039498, Test loss: 2.9668\n"
     ]
    },
    {
     "name": "stderr",
     "output_type": "stream",
     "text": [
      "  6%|▌         | 15/270 [02:23<40:41,  9.57s/it]"
     ]
    },
    {
     "name": "stdout",
     "output_type": "stream",
     "text": [
      "[INFO] EPOCH: 15/270\n",
      "Train loss: 2.032081, Test loss: 2.7651\n"
     ]
    },
    {
     "name": "stderr",
     "output_type": "stream",
     "text": [
      "  6%|▌         | 16/270 [02:32<40:29,  9.57s/it]"
     ]
    },
    {
     "name": "stdout",
     "output_type": "stream",
     "text": [
      "[INFO] EPOCH: 16/270\n",
      "Train loss: 1.972951, Test loss: 2.7602\n"
     ]
    },
    {
     "name": "stderr",
     "output_type": "stream",
     "text": [
      "  6%|▋         | 17/270 [02:42<40:23,  9.58s/it]"
     ]
    },
    {
     "name": "stdout",
     "output_type": "stream",
     "text": [
      "[INFO] EPOCH: 17/270\n",
      "Train loss: 1.967289, Test loss: 2.6355\n"
     ]
    },
    {
     "name": "stderr",
     "output_type": "stream",
     "text": [
      "  7%|▋         | 18/270 [02:51<40:10,  9.56s/it]"
     ]
    },
    {
     "name": "stdout",
     "output_type": "stream",
     "text": [
      "[INFO] EPOCH: 18/270\n",
      "Train loss: 1.949771, Test loss: 2.8069\n"
     ]
    },
    {
     "name": "stderr",
     "output_type": "stream",
     "text": [
      "  7%|▋         | 19/270 [03:01<40:00,  9.56s/it]"
     ]
    },
    {
     "name": "stdout",
     "output_type": "stream",
     "text": [
      "[INFO] EPOCH: 19/270\n",
      "Train loss: 1.920408, Test loss: 2.6156\n"
     ]
    },
    {
     "name": "stderr",
     "output_type": "stream",
     "text": [
      "  7%|▋         | 20/270 [03:10<39:43,  9.53s/it]"
     ]
    },
    {
     "name": "stdout",
     "output_type": "stream",
     "text": [
      "[INFO] EPOCH: 20/270\n",
      "Train loss: 1.934909, Test loss: 2.6810\n"
     ]
    },
    {
     "name": "stderr",
     "output_type": "stream",
     "text": [
      "  8%|▊         | 21/270 [03:20<39:41,  9.57s/it]"
     ]
    },
    {
     "name": "stdout",
     "output_type": "stream",
     "text": [
      "[INFO] EPOCH: 21/270\n",
      "Train loss: 1.917051, Test loss: 2.8582\n"
     ]
    },
    {
     "name": "stderr",
     "output_type": "stream",
     "text": [
      "  8%|▊         | 22/270 [03:30<39:26,  9.54s/it]"
     ]
    },
    {
     "name": "stdout",
     "output_type": "stream",
     "text": [
      "[INFO] EPOCH: 22/270\n",
      "Train loss: 1.881653, Test loss: 2.7041\n"
     ]
    },
    {
     "name": "stderr",
     "output_type": "stream",
     "text": [
      "  9%|▊         | 23/270 [03:39<39:15,  9.54s/it]"
     ]
    },
    {
     "name": "stdout",
     "output_type": "stream",
     "text": [
      "[INFO] EPOCH: 23/270\n",
      "Train loss: 1.889286, Test loss: 2.6314\n"
     ]
    },
    {
     "name": "stderr",
     "output_type": "stream",
     "text": [
      "  9%|▉         | 24/270 [03:49<39:03,  9.53s/it]"
     ]
    },
    {
     "name": "stdout",
     "output_type": "stream",
     "text": [
      "[INFO] EPOCH: 24/270\n",
      "Train loss: 1.891712, Test loss: 2.6786\n"
     ]
    },
    {
     "name": "stderr",
     "output_type": "stream",
     "text": [
      "  9%|▉         | 25/270 [03:58<38:55,  9.53s/it]"
     ]
    },
    {
     "name": "stdout",
     "output_type": "stream",
     "text": [
      "[INFO] EPOCH: 25/270\n",
      "Train loss: 1.862685, Test loss: 2.5873\n"
     ]
    },
    {
     "name": "stderr",
     "output_type": "stream",
     "text": [
      " 10%|▉         | 26/270 [04:08<38:46,  9.53s/it]"
     ]
    },
    {
     "name": "stdout",
     "output_type": "stream",
     "text": [
      "[INFO] EPOCH: 26/270\n",
      "Train loss: 1.851622, Test loss: 2.4860\n"
     ]
    },
    {
     "name": "stderr",
     "output_type": "stream",
     "text": [
      " 10%|█         | 27/270 [04:17<38:31,  9.51s/it]"
     ]
    },
    {
     "name": "stdout",
     "output_type": "stream",
     "text": [
      "[INFO] EPOCH: 27/270\n",
      "Train loss: 1.856554, Test loss: 2.6548\n"
     ]
    },
    {
     "name": "stderr",
     "output_type": "stream",
     "text": [
      " 10%|█         | 28/270 [04:27<38:30,  9.55s/it]"
     ]
    },
    {
     "name": "stdout",
     "output_type": "stream",
     "text": [
      "[INFO] EPOCH: 28/270\n",
      "Train loss: 1.828217, Test loss: 2.5901\n"
     ]
    },
    {
     "name": "stderr",
     "output_type": "stream",
     "text": [
      " 11%|█         | 29/270 [04:36<38:17,  9.53s/it]"
     ]
    },
    {
     "name": "stdout",
     "output_type": "stream",
     "text": [
      "[INFO] EPOCH: 29/270\n",
      "Train loss: 1.833313, Test loss: 2.5655\n"
     ]
    },
    {
     "name": "stderr",
     "output_type": "stream",
     "text": [
      " 11%|█         | 30/270 [04:46<38:09,  9.54s/it]"
     ]
    },
    {
     "name": "stdout",
     "output_type": "stream",
     "text": [
      "[INFO] EPOCH: 30/270\n",
      "Train loss: 1.807162, Test loss: 2.7479\n"
     ]
    },
    {
     "name": "stderr",
     "output_type": "stream",
     "text": [
      " 11%|█▏        | 31/270 [04:55<37:57,  9.53s/it]"
     ]
    },
    {
     "name": "stdout",
     "output_type": "stream",
     "text": [
      "[INFO] EPOCH: 31/270\n",
      "Train loss: 1.832100, Test loss: 2.7752\n"
     ]
    },
    {
     "name": "stderr",
     "output_type": "stream",
     "text": [
      " 12%|█▏        | 32/270 [05:05<37:42,  9.51s/it]"
     ]
    },
    {
     "name": "stdout",
     "output_type": "stream",
     "text": [
      "[INFO] EPOCH: 32/270\n",
      "Train loss: 1.811410, Test loss: 2.8328\n"
     ]
    },
    {
     "name": "stderr",
     "output_type": "stream",
     "text": [
      " 12%|█▏        | 33/270 [05:14<37:31,  9.50s/it]"
     ]
    },
    {
     "name": "stdout",
     "output_type": "stream",
     "text": [
      "[INFO] EPOCH: 33/270\n",
      "Train loss: 1.814398, Test loss: 2.6628\n"
     ]
    },
    {
     "name": "stderr",
     "output_type": "stream",
     "text": [
      " 13%|█▎        | 34/270 [05:24<37:26,  9.52s/it]"
     ]
    },
    {
     "name": "stdout",
     "output_type": "stream",
     "text": [
      "[INFO] EPOCH: 34/270\n",
      "Train loss: 1.775287, Test loss: 2.6886\n"
     ]
    },
    {
     "name": "stderr",
     "output_type": "stream",
     "text": [
      " 13%|█▎        | 35/270 [05:33<37:17,  9.52s/it]"
     ]
    },
    {
     "name": "stdout",
     "output_type": "stream",
     "text": [
      "[INFO] EPOCH: 35/270\n",
      "Train loss: 1.778712, Test loss: 2.5345\n"
     ]
    },
    {
     "name": "stderr",
     "output_type": "stream",
     "text": [
      " 13%|█▎        | 36/270 [05:43<37:21,  9.58s/it]"
     ]
    },
    {
     "name": "stdout",
     "output_type": "stream",
     "text": [
      "[INFO] EPOCH: 36/270\n",
      "Train loss: 1.747561, Test loss: 2.4944\n"
     ]
    },
    {
     "name": "stderr",
     "output_type": "stream",
     "text": [
      " 14%|█▎        | 37/270 [05:53<37:16,  9.60s/it]"
     ]
    },
    {
     "name": "stdout",
     "output_type": "stream",
     "text": [
      "[INFO] EPOCH: 37/270\n",
      "Train loss: 1.720580, Test loss: 2.5402\n"
     ]
    },
    {
     "name": "stderr",
     "output_type": "stream",
     "text": [
      " 14%|█▍        | 38/270 [06:02<37:10,  9.62s/it]"
     ]
    },
    {
     "name": "stdout",
     "output_type": "stream",
     "text": [
      "[INFO] EPOCH: 38/270\n",
      "Train loss: 1.777001, Test loss: 2.5162\n"
     ]
    },
    {
     "name": "stderr",
     "output_type": "stream",
     "text": [
      " 14%|█▍        | 39/270 [06:12<36:52,  9.58s/it]"
     ]
    },
    {
     "name": "stdout",
     "output_type": "stream",
     "text": [
      "[INFO] EPOCH: 39/270\n",
      "Train loss: 1.721665, Test loss: 2.5941\n"
     ]
    },
    {
     "name": "stderr",
     "output_type": "stream",
     "text": [
      " 15%|█▍        | 40/270 [06:21<36:32,  9.53s/it]"
     ]
    },
    {
     "name": "stdout",
     "output_type": "stream",
     "text": [
      "[INFO] EPOCH: 40/270\n",
      "Train loss: 1.737127, Test loss: 2.5621\n"
     ]
    },
    {
     "name": "stderr",
     "output_type": "stream",
     "text": [
      " 15%|█▌        | 41/270 [06:31<36:22,  9.53s/it]"
     ]
    },
    {
     "name": "stdout",
     "output_type": "stream",
     "text": [
      "[INFO] EPOCH: 41/270\n",
      "Train loss: 1.720310, Test loss: 2.5642\n"
     ]
    },
    {
     "name": "stderr",
     "output_type": "stream",
     "text": [
      " 16%|█▌        | 42/270 [06:40<36:16,  9.55s/it]"
     ]
    },
    {
     "name": "stdout",
     "output_type": "stream",
     "text": [
      "[INFO] EPOCH: 42/270\n",
      "Train loss: 1.727904, Test loss: 2.6402\n"
     ]
    },
    {
     "name": "stderr",
     "output_type": "stream",
     "text": [
      " 16%|█▌        | 43/270 [06:50<36:04,  9.53s/it]"
     ]
    },
    {
     "name": "stdout",
     "output_type": "stream",
     "text": [
      "[INFO] EPOCH: 43/270\n",
      "Train loss: 1.721364, Test loss: 2.6234\n"
     ]
    },
    {
     "name": "stderr",
     "output_type": "stream",
     "text": [
      " 16%|█▋        | 44/270 [06:59<35:52,  9.52s/it]"
     ]
    },
    {
     "name": "stdout",
     "output_type": "stream",
     "text": [
      "[INFO] EPOCH: 44/270\n",
      "Train loss: 1.690981, Test loss: 2.6124\n"
     ]
    },
    {
     "name": "stderr",
     "output_type": "stream",
     "text": [
      " 17%|█▋        | 45/270 [07:09<35:40,  9.51s/it]"
     ]
    },
    {
     "name": "stdout",
     "output_type": "stream",
     "text": [
      "[INFO] EPOCH: 45/270\n",
      "Train loss: 1.718458, Test loss: 2.6126\n"
     ]
    },
    {
     "name": "stderr",
     "output_type": "stream",
     "text": [
      " 17%|█▋        | 46/270 [07:18<35:21,  9.47s/it]"
     ]
    },
    {
     "name": "stdout",
     "output_type": "stream",
     "text": [
      "[INFO] EPOCH: 46/270\n",
      "Train loss: 1.667079, Test loss: 2.5920\n"
     ]
    },
    {
     "name": "stderr",
     "output_type": "stream",
     "text": [
      " 17%|█▋        | 47/270 [07:28<35:20,  9.51s/it]"
     ]
    },
    {
     "name": "stdout",
     "output_type": "stream",
     "text": [
      "[INFO] EPOCH: 47/270\n",
      "Train loss: 1.668030, Test loss: 2.5461\n"
     ]
    },
    {
     "name": "stderr",
     "output_type": "stream",
     "text": [
      " 18%|█▊        | 48/270 [07:37<35:11,  9.51s/it]"
     ]
    },
    {
     "name": "stdout",
     "output_type": "stream",
     "text": [
      "[INFO] EPOCH: 48/270\n",
      "Train loss: 1.679530, Test loss: 2.5874\n"
     ]
    },
    {
     "name": "stderr",
     "output_type": "stream",
     "text": [
      " 18%|█▊        | 49/270 [07:47<35:14,  9.57s/it]"
     ]
    },
    {
     "name": "stdout",
     "output_type": "stream",
     "text": [
      "[INFO] EPOCH: 49/270\n",
      "Train loss: 1.666856, Test loss: 2.5875\n"
     ]
    },
    {
     "name": "stderr",
     "output_type": "stream",
     "text": [
      " 19%|█▊        | 50/270 [07:57<35:05,  9.57s/it]"
     ]
    },
    {
     "name": "stdout",
     "output_type": "stream",
     "text": [
      "[INFO] EPOCH: 50/270\n",
      "Train loss: 1.671768, Test loss: 2.6439\n"
     ]
    },
    {
     "name": "stderr",
     "output_type": "stream",
     "text": [
      " 19%|█▉        | 51/270 [08:06<34:59,  9.58s/it]"
     ]
    },
    {
     "name": "stdout",
     "output_type": "stream",
     "text": [
      "[INFO] EPOCH: 51/270\n",
      "Train loss: 1.672557, Test loss: 2.5332\n"
     ]
    },
    {
     "name": "stderr",
     "output_type": "stream",
     "text": [
      " 19%|█▉        | 52/270 [08:16<34:45,  9.57s/it]"
     ]
    },
    {
     "name": "stdout",
     "output_type": "stream",
     "text": [
      "[INFO] EPOCH: 52/270\n",
      "Train loss: 1.655394, Test loss: 2.5303\n"
     ]
    },
    {
     "name": "stderr",
     "output_type": "stream",
     "text": [
      " 20%|█▉        | 53/270 [08:25<34:39,  9.58s/it]"
     ]
    },
    {
     "name": "stdout",
     "output_type": "stream",
     "text": [
      "[INFO] EPOCH: 53/270\n",
      "Train loss: 1.667280, Test loss: 2.6191\n"
     ]
    },
    {
     "name": "stderr",
     "output_type": "stream",
     "text": [
      " 20%|██        | 54/270 [08:35<34:33,  9.60s/it]"
     ]
    },
    {
     "name": "stdout",
     "output_type": "stream",
     "text": [
      "[INFO] EPOCH: 54/270\n",
      "Train loss: 1.644842, Test loss: 2.4562\n"
     ]
    },
    {
     "name": "stderr",
     "output_type": "stream",
     "text": [
      " 20%|██        | 55/270 [08:45<34:17,  9.57s/it]"
     ]
    },
    {
     "name": "stdout",
     "output_type": "stream",
     "text": [
      "[INFO] EPOCH: 55/270\n",
      "Train loss: 1.648774, Test loss: 2.6219\n"
     ]
    },
    {
     "name": "stderr",
     "output_type": "stream",
     "text": [
      " 21%|██        | 56/270 [08:54<34:04,  9.55s/it]"
     ]
    },
    {
     "name": "stdout",
     "output_type": "stream",
     "text": [
      "[INFO] EPOCH: 56/270\n",
      "Train loss: 1.647044, Test loss: 2.6382\n"
     ]
    },
    {
     "name": "stderr",
     "output_type": "stream",
     "text": [
      " 21%|██        | 57/270 [09:04<33:55,  9.56s/it]"
     ]
    },
    {
     "name": "stdout",
     "output_type": "stream",
     "text": [
      "[INFO] EPOCH: 57/270\n",
      "Train loss: 1.646962, Test loss: 2.5921\n"
     ]
    },
    {
     "name": "stderr",
     "output_type": "stream",
     "text": [
      " 21%|██▏       | 58/270 [09:13<33:52,  9.59s/it]"
     ]
    },
    {
     "name": "stdout",
     "output_type": "stream",
     "text": [
      "[INFO] EPOCH: 58/270\n",
      "Train loss: 1.620437, Test loss: 2.4447\n"
     ]
    },
    {
     "name": "stderr",
     "output_type": "stream",
     "text": [
      " 22%|██▏       | 59/270 [09:23<33:42,  9.59s/it]"
     ]
    },
    {
     "name": "stdout",
     "output_type": "stream",
     "text": [
      "[INFO] EPOCH: 59/270\n",
      "Train loss: 1.627091, Test loss: 2.5432\n"
     ]
    },
    {
     "name": "stderr",
     "output_type": "stream",
     "text": [
      " 22%|██▏       | 60/270 [09:32<33:31,  9.58s/it]"
     ]
    },
    {
     "name": "stdout",
     "output_type": "stream",
     "text": [
      "[INFO] EPOCH: 60/270\n",
      "Train loss: 1.618409, Test loss: 2.8453\n"
     ]
    },
    {
     "name": "stderr",
     "output_type": "stream",
     "text": [
      " 23%|██▎       | 61/270 [09:42<33:17,  9.56s/it]"
     ]
    },
    {
     "name": "stdout",
     "output_type": "stream",
     "text": [
      "[INFO] EPOCH: 61/270\n",
      "Train loss: 1.628420, Test loss: 2.6107\n"
     ]
    },
    {
     "name": "stderr",
     "output_type": "stream",
     "text": [
      " 23%|██▎       | 62/270 [09:51<33:06,  9.55s/it]"
     ]
    },
    {
     "name": "stdout",
     "output_type": "stream",
     "text": [
      "[INFO] EPOCH: 62/270\n",
      "Train loss: 1.618202, Test loss: 2.6415\n"
     ]
    },
    {
     "name": "stderr",
     "output_type": "stream",
     "text": [
      " 23%|██▎       | 63/270 [10:01<32:58,  9.56s/it]"
     ]
    },
    {
     "name": "stdout",
     "output_type": "stream",
     "text": [
      "[INFO] EPOCH: 63/270\n",
      "Train loss: 1.623523, Test loss: 2.5031\n"
     ]
    },
    {
     "name": "stderr",
     "output_type": "stream",
     "text": [
      " 24%|██▎       | 64/270 [10:11<32:47,  9.55s/it]"
     ]
    },
    {
     "name": "stdout",
     "output_type": "stream",
     "text": [
      "[INFO] EPOCH: 64/270\n",
      "Train loss: 1.595248, Test loss: 2.6311\n"
     ]
    },
    {
     "name": "stderr",
     "output_type": "stream",
     "text": [
      " 24%|██▍       | 65/270 [10:20<32:36,  9.55s/it]"
     ]
    },
    {
     "name": "stdout",
     "output_type": "stream",
     "text": [
      "[INFO] EPOCH: 65/270\n",
      "Train loss: 1.597126, Test loss: 2.5079\n"
     ]
    },
    {
     "name": "stderr",
     "output_type": "stream",
     "text": [
      " 24%|██▍       | 66/270 [10:30<32:35,  9.59s/it]"
     ]
    },
    {
     "name": "stdout",
     "output_type": "stream",
     "text": [
      "[INFO] EPOCH: 66/270\n",
      "Train loss: 1.622076, Test loss: 2.5210\n"
     ]
    },
    {
     "name": "stderr",
     "output_type": "stream",
     "text": [
      " 25%|██▍       | 67/270 [10:39<32:18,  9.55s/it]"
     ]
    },
    {
     "name": "stdout",
     "output_type": "stream",
     "text": [
      "[INFO] EPOCH: 67/270\n",
      "Train loss: 1.599094, Test loss: 2.6900\n"
     ]
    },
    {
     "name": "stderr",
     "output_type": "stream",
     "text": [
      " 25%|██▌       | 68/270 [10:49<32:06,  9.54s/it]"
     ]
    },
    {
     "name": "stdout",
     "output_type": "stream",
     "text": [
      "[INFO] EPOCH: 68/270\n",
      "Train loss: 1.590557, Test loss: 2.7100\n"
     ]
    },
    {
     "name": "stderr",
     "output_type": "stream",
     "text": [
      " 26%|██▌       | 69/270 [10:58<31:50,  9.51s/it]"
     ]
    },
    {
     "name": "stdout",
     "output_type": "stream",
     "text": [
      "[INFO] EPOCH: 69/270\n",
      "Train loss: 1.603301, Test loss: 2.5242\n"
     ]
    },
    {
     "name": "stderr",
     "output_type": "stream",
     "text": [
      " 26%|██▌       | 70/270 [11:08<31:42,  9.51s/it]"
     ]
    },
    {
     "name": "stdout",
     "output_type": "stream",
     "text": [
      "[INFO] EPOCH: 70/270\n",
      "Train loss: 1.593942, Test loss: 2.5301\n"
     ]
    },
    {
     "name": "stderr",
     "output_type": "stream",
     "text": [
      " 26%|██▋       | 71/270 [11:17<31:36,  9.53s/it]"
     ]
    },
    {
     "name": "stdout",
     "output_type": "stream",
     "text": [
      "[INFO] EPOCH: 71/270\n",
      "Train loss: 1.584304, Test loss: 2.5346\n"
     ]
    },
    {
     "name": "stderr",
     "output_type": "stream",
     "text": [
      " 27%|██▋       | 72/270 [11:27<31:34,  9.57s/it]"
     ]
    },
    {
     "name": "stdout",
     "output_type": "stream",
     "text": [
      "[INFO] EPOCH: 72/270\n",
      "Train loss: 1.579286, Test loss: 2.7478\n"
     ]
    },
    {
     "name": "stderr",
     "output_type": "stream",
     "text": [
      " 27%|██▋       | 73/270 [11:36<31:21,  9.55s/it]"
     ]
    },
    {
     "name": "stdout",
     "output_type": "stream",
     "text": [
      "[INFO] EPOCH: 73/270\n",
      "Train loss: 1.587881, Test loss: 2.4660\n"
     ]
    },
    {
     "name": "stderr",
     "output_type": "stream",
     "text": [
      " 27%|██▋       | 74/270 [11:46<31:08,  9.53s/it]"
     ]
    },
    {
     "name": "stdout",
     "output_type": "stream",
     "text": [
      "[INFO] EPOCH: 74/270\n",
      "Train loss: 1.607287, Test loss: 2.4897\n"
     ]
    },
    {
     "name": "stderr",
     "output_type": "stream",
     "text": [
      " 28%|██▊       | 75/270 [11:55<30:59,  9.54s/it]"
     ]
    },
    {
     "name": "stdout",
     "output_type": "stream",
     "text": [
      "[INFO] EPOCH: 75/270\n",
      "Train loss: 1.571964, Test loss: 2.6016\n"
     ]
    },
    {
     "name": "stderr",
     "output_type": "stream",
     "text": [
      " 28%|██▊       | 76/270 [12:05<30:47,  9.53s/it]"
     ]
    },
    {
     "name": "stdout",
     "output_type": "stream",
     "text": [
      "[INFO] EPOCH: 76/270\n",
      "Train loss: 1.556272, Test loss: 2.6529\n"
     ]
    },
    {
     "name": "stderr",
     "output_type": "stream",
     "text": [
      " 29%|██▊       | 77/270 [12:15<30:47,  9.57s/it]"
     ]
    },
    {
     "name": "stdout",
     "output_type": "stream",
     "text": [
      "[INFO] EPOCH: 77/270\n",
      "Train loss: 1.561985, Test loss: 2.4989\n"
     ]
    },
    {
     "name": "stderr",
     "output_type": "stream",
     "text": [
      " 29%|██▉       | 78/270 [12:24<30:35,  9.56s/it]"
     ]
    },
    {
     "name": "stdout",
     "output_type": "stream",
     "text": [
      "[INFO] EPOCH: 78/270\n",
      "Train loss: 1.569971, Test loss: 2.5065\n"
     ]
    },
    {
     "name": "stderr",
     "output_type": "stream",
     "text": [
      " 29%|██▉       | 79/270 [12:34<30:26,  9.56s/it]"
     ]
    },
    {
     "name": "stdout",
     "output_type": "stream",
     "text": [
      "[INFO] EPOCH: 79/270\n",
      "Train loss: 1.555328, Test loss: 2.4822\n"
     ]
    },
    {
     "name": "stderr",
     "output_type": "stream",
     "text": [
      " 30%|██▉       | 80/270 [12:43<30:12,  9.54s/it]"
     ]
    },
    {
     "name": "stdout",
     "output_type": "stream",
     "text": [
      "[INFO] EPOCH: 80/270\n",
      "Train loss: 1.566938, Test loss: 2.8189\n"
     ]
    },
    {
     "name": "stderr",
     "output_type": "stream",
     "text": [
      " 30%|███       | 81/270 [12:53<30:06,  9.56s/it]"
     ]
    },
    {
     "name": "stdout",
     "output_type": "stream",
     "text": [
      "[INFO] EPOCH: 81/270\n",
      "Train loss: 1.589787, Test loss: 2.5853\n"
     ]
    },
    {
     "name": "stderr",
     "output_type": "stream",
     "text": [
      " 30%|███       | 82/270 [13:02<29:56,  9.55s/it]"
     ]
    },
    {
     "name": "stdout",
     "output_type": "stream",
     "text": [
      "[INFO] EPOCH: 82/270\n",
      "Train loss: 1.564590, Test loss: 2.5487\n"
     ]
    },
    {
     "name": "stderr",
     "output_type": "stream",
     "text": [
      " 31%|███       | 83/270 [13:12<29:39,  9.52s/it]"
     ]
    },
    {
     "name": "stdout",
     "output_type": "stream",
     "text": [
      "[INFO] EPOCH: 83/270\n",
      "Train loss: 1.575985, Test loss: 2.5536\n"
     ]
    },
    {
     "name": "stderr",
     "output_type": "stream",
     "text": [
      " 31%|███       | 84/270 [13:21<29:25,  9.49s/it]"
     ]
    },
    {
     "name": "stdout",
     "output_type": "stream",
     "text": [
      "[INFO] EPOCH: 84/270\n",
      "Train loss: 1.524533, Test loss: 2.7013\n"
     ]
    },
    {
     "name": "stderr",
     "output_type": "stream",
     "text": [
      " 31%|███▏      | 85/270 [13:31<29:17,  9.50s/it]"
     ]
    },
    {
     "name": "stdout",
     "output_type": "stream",
     "text": [
      "[INFO] EPOCH: 85/270\n",
      "Train loss: 1.563814, Test loss: 2.6650\n"
     ]
    },
    {
     "name": "stderr",
     "output_type": "stream",
     "text": [
      " 32%|███▏      | 86/270 [13:40<29:16,  9.55s/it]"
     ]
    },
    {
     "name": "stdout",
     "output_type": "stream",
     "text": [
      "[INFO] EPOCH: 86/270\n",
      "Train loss: 1.544873, Test loss: 2.5305\n"
     ]
    },
    {
     "name": "stderr",
     "output_type": "stream",
     "text": [
      " 32%|███▏      | 87/270 [13:50<29:05,  9.54s/it]"
     ]
    },
    {
     "name": "stdout",
     "output_type": "stream",
     "text": [
      "[INFO] EPOCH: 87/270\n",
      "Train loss: 1.520524, Test loss: 2.6266\n"
     ]
    },
    {
     "name": "stderr",
     "output_type": "stream",
     "text": [
      " 33%|███▎      | 88/270 [13:59<28:56,  9.54s/it]"
     ]
    },
    {
     "name": "stdout",
     "output_type": "stream",
     "text": [
      "[INFO] EPOCH: 88/270\n",
      "Train loss: 1.529276, Test loss: 2.6931\n"
     ]
    },
    {
     "name": "stderr",
     "output_type": "stream",
     "text": [
      " 33%|███▎      | 89/270 [14:09<28:48,  9.55s/it]"
     ]
    },
    {
     "name": "stdout",
     "output_type": "stream",
     "text": [
      "[INFO] EPOCH: 89/270\n",
      "Train loss: 1.544282, Test loss: 2.5184\n"
     ]
    },
    {
     "name": "stderr",
     "output_type": "stream",
     "text": [
      " 33%|███▎      | 90/270 [14:19<28:36,  9.54s/it]"
     ]
    },
    {
     "name": "stdout",
     "output_type": "stream",
     "text": [
      "[INFO] EPOCH: 90/270\n",
      "Train loss: 1.548126, Test loss: 2.6037\n"
     ]
    },
    {
     "name": "stderr",
     "output_type": "stream",
     "text": [
      " 34%|███▎      | 91/270 [14:28<28:28,  9.55s/it]"
     ]
    },
    {
     "name": "stdout",
     "output_type": "stream",
     "text": [
      "[INFO] EPOCH: 91/270\n",
      "Train loss: 1.526941, Test loss: 2.5694\n"
     ]
    },
    {
     "name": "stderr",
     "output_type": "stream",
     "text": [
      " 34%|███▍      | 92/270 [14:38<28:21,  9.56s/it]"
     ]
    },
    {
     "name": "stdout",
     "output_type": "stream",
     "text": [
      "[INFO] EPOCH: 92/270\n",
      "Train loss: 1.521130, Test loss: 2.5487\n"
     ]
    },
    {
     "name": "stderr",
     "output_type": "stream",
     "text": [
      " 34%|███▍      | 93/270 [14:47<28:09,  9.55s/it]"
     ]
    },
    {
     "name": "stdout",
     "output_type": "stream",
     "text": [
      "[INFO] EPOCH: 93/270\n",
      "Train loss: 1.518947, Test loss: 2.6240\n"
     ]
    },
    {
     "name": "stderr",
     "output_type": "stream",
     "text": [
      " 35%|███▍      | 94/270 [14:57<28:00,  9.55s/it]"
     ]
    },
    {
     "name": "stdout",
     "output_type": "stream",
     "text": [
      "[INFO] EPOCH: 94/270\n",
      "Train loss: 1.540378, Test loss: 2.6461\n"
     ]
    },
    {
     "name": "stderr",
     "output_type": "stream",
     "text": [
      " 35%|███▌      | 95/270 [15:06<27:46,  9.52s/it]"
     ]
    },
    {
     "name": "stdout",
     "output_type": "stream",
     "text": [
      "[INFO] EPOCH: 95/270\n",
      "Train loss: 1.568037, Test loss: 2.4707\n"
     ]
    },
    {
     "name": "stderr",
     "output_type": "stream",
     "text": [
      " 36%|███▌      | 96/270 [15:16<27:38,  9.53s/it]"
     ]
    },
    {
     "name": "stdout",
     "output_type": "stream",
     "text": [
      "[INFO] EPOCH: 96/270\n",
      "Train loss: 1.508505, Test loss: 3.0220\n"
     ]
    },
    {
     "name": "stderr",
     "output_type": "stream",
     "text": [
      " 36%|███▌      | 97/270 [15:25<27:33,  9.56s/it]"
     ]
    },
    {
     "name": "stdout",
     "output_type": "stream",
     "text": [
      "[INFO] EPOCH: 97/270\n",
      "Train loss: 1.497722, Test loss: 2.6579\n"
     ]
    },
    {
     "name": "stderr",
     "output_type": "stream",
     "text": [
      " 36%|███▋      | 98/270 [15:35<27:28,  9.58s/it]"
     ]
    },
    {
     "name": "stdout",
     "output_type": "stream",
     "text": [
      "[INFO] EPOCH: 98/270\n",
      "Train loss: 1.503956, Test loss: 2.6716\n"
     ]
    },
    {
     "name": "stderr",
     "output_type": "stream",
     "text": [
      " 37%|███▋      | 99/270 [15:45<27:15,  9.56s/it]"
     ]
    },
    {
     "name": "stdout",
     "output_type": "stream",
     "text": [
      "[INFO] EPOCH: 99/270\n",
      "Train loss: 1.487810, Test loss: 2.7566\n"
     ]
    },
    {
     "name": "stderr",
     "output_type": "stream",
     "text": [
      " 37%|███▋      | 100/270 [15:54<27:15,  9.62s/it]"
     ]
    },
    {
     "name": "stdout",
     "output_type": "stream",
     "text": [
      "[INFO] EPOCH: 100/270\n",
      "Train loss: 1.486456, Test loss: 2.7229\n"
     ]
    },
    {
     "name": "stderr",
     "output_type": "stream",
     "text": [
      " 37%|███▋      | 101/270 [16:04<27:08,  9.64s/it]"
     ]
    },
    {
     "name": "stdout",
     "output_type": "stream",
     "text": [
      "[INFO] EPOCH: 101/270\n",
      "Train loss: 1.522588, Test loss: 2.6079\n"
     ]
    },
    {
     "name": "stderr",
     "output_type": "stream",
     "text": [
      " 38%|███▊      | 102/270 [16:13<26:51,  9.59s/it]"
     ]
    },
    {
     "name": "stdout",
     "output_type": "stream",
     "text": [
      "[INFO] EPOCH: 102/270\n",
      "Train loss: 1.466872, Test loss: 2.6296\n"
     ]
    },
    {
     "name": "stderr",
     "output_type": "stream",
     "text": [
      " 38%|███▊      | 103/270 [16:23<26:42,  9.60s/it]"
     ]
    },
    {
     "name": "stdout",
     "output_type": "stream",
     "text": [
      "[INFO] EPOCH: 103/270\n",
      "Train loss: 1.509022, Test loss: 2.7794\n"
     ]
    },
    {
     "name": "stderr",
     "output_type": "stream",
     "text": [
      " 39%|███▊      | 104/270 [16:33<26:26,  9.56s/it]"
     ]
    },
    {
     "name": "stdout",
     "output_type": "stream",
     "text": [
      "[INFO] EPOCH: 104/270\n",
      "Train loss: 1.481836, Test loss: 2.5887\n"
     ]
    },
    {
     "name": "stderr",
     "output_type": "stream",
     "text": [
      " 39%|███▉      | 105/270 [16:42<26:16,  9.56s/it]"
     ]
    },
    {
     "name": "stdout",
     "output_type": "stream",
     "text": [
      "[INFO] EPOCH: 105/270\n",
      "Train loss: 1.468865, Test loss: 2.6469\n"
     ]
    },
    {
     "name": "stderr",
     "output_type": "stream",
     "text": [
      " 39%|███▉      | 106/270 [16:52<26:01,  9.52s/it]"
     ]
    },
    {
     "name": "stdout",
     "output_type": "stream",
     "text": [
      "[INFO] EPOCH: 106/270\n",
      "Train loss: 1.492212, Test loss: 2.6005\n"
     ]
    },
    {
     "name": "stderr",
     "output_type": "stream",
     "text": [
      " 40%|███▉      | 107/270 [17:01<25:51,  9.52s/it]"
     ]
    },
    {
     "name": "stdout",
     "output_type": "stream",
     "text": [
      "[INFO] EPOCH: 107/270\n",
      "Train loss: 1.490858, Test loss: 2.6195\n"
     ]
    },
    {
     "name": "stderr",
     "output_type": "stream",
     "text": [
      " 40%|████      | 108/270 [17:11<25:43,  9.53s/it]"
     ]
    },
    {
     "name": "stdout",
     "output_type": "stream",
     "text": [
      "[INFO] EPOCH: 108/270\n",
      "Train loss: 1.468983, Test loss: 2.5651\n"
     ]
    },
    {
     "name": "stderr",
     "output_type": "stream",
     "text": [
      " 40%|████      | 109/270 [17:20<25:35,  9.54s/it]"
     ]
    },
    {
     "name": "stdout",
     "output_type": "stream",
     "text": [
      "[INFO] EPOCH: 109/270\n",
      "Train loss: 1.456968, Test loss: 3.0030\n"
     ]
    },
    {
     "name": "stderr",
     "output_type": "stream",
     "text": [
      " 41%|████      | 110/270 [17:30<25:21,  9.51s/it]"
     ]
    },
    {
     "name": "stdout",
     "output_type": "stream",
     "text": [
      "[INFO] EPOCH: 110/270\n",
      "Train loss: 1.462326, Test loss: 2.7172\n"
     ]
    },
    {
     "name": "stderr",
     "output_type": "stream",
     "text": [
      " 41%|████      | 111/270 [17:39<25:08,  9.49s/it]"
     ]
    },
    {
     "name": "stdout",
     "output_type": "stream",
     "text": [
      "[INFO] EPOCH: 111/270\n",
      "Train loss: 1.428337, Test loss: 2.7022\n"
     ]
    },
    {
     "name": "stderr",
     "output_type": "stream",
     "text": [
      " 41%|████▏     | 112/270 [17:49<24:59,  9.49s/it]"
     ]
    },
    {
     "name": "stdout",
     "output_type": "stream",
     "text": [
      "[INFO] EPOCH: 112/270\n",
      "Train loss: 1.436066, Test loss: 2.5308\n"
     ]
    },
    {
     "name": "stderr",
     "output_type": "stream",
     "text": [
      " 42%|████▏     | 113/270 [17:58<24:51,  9.50s/it]"
     ]
    },
    {
     "name": "stdout",
     "output_type": "stream",
     "text": [
      "[INFO] EPOCH: 113/270\n",
      "Train loss: 1.454885, Test loss: 2.6714\n"
     ]
    },
    {
     "name": "stderr",
     "output_type": "stream",
     "text": [
      " 42%|████▏     | 114/270 [18:08<24:49,  9.55s/it]"
     ]
    },
    {
     "name": "stdout",
     "output_type": "stream",
     "text": [
      "[INFO] EPOCH: 114/270\n",
      "Train loss: 1.445767, Test loss: 2.7841\n"
     ]
    },
    {
     "name": "stderr",
     "output_type": "stream",
     "text": [
      " 43%|████▎     | 115/270 [18:17<24:34,  9.51s/it]"
     ]
    },
    {
     "name": "stdout",
     "output_type": "stream",
     "text": [
      "[INFO] EPOCH: 115/270\n",
      "Train loss: 1.427755, Test loss: 2.6490\n"
     ]
    },
    {
     "name": "stderr",
     "output_type": "stream",
     "text": [
      " 43%|████▎     | 116/270 [18:27<24:27,  9.53s/it]"
     ]
    },
    {
     "name": "stdout",
     "output_type": "stream",
     "text": [
      "[INFO] EPOCH: 116/270\n",
      "Train loss: 1.423758, Test loss: 2.7276\n"
     ]
    },
    {
     "name": "stderr",
     "output_type": "stream",
     "text": [
      " 43%|████▎     | 117/270 [18:36<24:20,  9.54s/it]"
     ]
    },
    {
     "name": "stdout",
     "output_type": "stream",
     "text": [
      "[INFO] EPOCH: 117/270\n",
      "Train loss: 1.382445, Test loss: 2.7088\n"
     ]
    },
    {
     "name": "stderr",
     "output_type": "stream",
     "text": [
      " 44%|████▎     | 118/270 [18:46<24:11,  9.55s/it]"
     ]
    },
    {
     "name": "stdout",
     "output_type": "stream",
     "text": [
      "[INFO] EPOCH: 118/270\n",
      "Train loss: 1.389290, Test loss: 2.7952\n"
     ]
    },
    {
     "name": "stderr",
     "output_type": "stream",
     "text": [
      " 44%|████▍     | 119/270 [18:55<24:04,  9.57s/it]"
     ]
    },
    {
     "name": "stdout",
     "output_type": "stream",
     "text": [
      "[INFO] EPOCH: 119/270\n",
      "Train loss: 1.425208, Test loss: 2.7501\n"
     ]
    },
    {
     "name": "stderr",
     "output_type": "stream",
     "text": [
      " 44%|████▍     | 120/270 [19:05<23:58,  9.59s/it]"
     ]
    },
    {
     "name": "stdout",
     "output_type": "stream",
     "text": [
      "[INFO] EPOCH: 120/270\n",
      "Train loss: 1.401948, Test loss: 2.6195\n"
     ]
    },
    {
     "name": "stderr",
     "output_type": "stream",
     "text": [
      " 45%|████▍     | 121/270 [19:15<23:47,  9.58s/it]"
     ]
    },
    {
     "name": "stdout",
     "output_type": "stream",
     "text": [
      "[INFO] EPOCH: 121/270\n",
      "Train loss: 1.359262, Test loss: 2.6356\n"
     ]
    },
    {
     "name": "stderr",
     "output_type": "stream",
     "text": [
      " 45%|████▌     | 122/270 [19:24<23:38,  9.59s/it]"
     ]
    },
    {
     "name": "stdout",
     "output_type": "stream",
     "text": [
      "[INFO] EPOCH: 122/270\n",
      "Train loss: 1.371629, Test loss: 2.7065\n"
     ]
    },
    {
     "name": "stderr",
     "output_type": "stream",
     "text": [
      " 46%|████▌     | 123/270 [19:34<23:25,  9.56s/it]"
     ]
    },
    {
     "name": "stdout",
     "output_type": "stream",
     "text": [
      "[INFO] EPOCH: 123/270\n",
      "Train loss: 1.351640, Test loss: 2.8300\n"
     ]
    },
    {
     "name": "stderr",
     "output_type": "stream",
     "text": [
      " 46%|████▌     | 124/270 [19:43<23:14,  9.55s/it]"
     ]
    },
    {
     "name": "stdout",
     "output_type": "stream",
     "text": [
      "[INFO] EPOCH: 124/270\n",
      "Train loss: 1.314391, Test loss: 2.5577\n"
     ]
    },
    {
     "name": "stderr",
     "output_type": "stream",
     "text": [
      " 46%|████▋     | 125/270 [19:53<23:06,  9.56s/it]"
     ]
    },
    {
     "name": "stdout",
     "output_type": "stream",
     "text": [
      "[INFO] EPOCH: 125/270\n",
      "Train loss: 1.342710, Test loss: 2.9215\n"
     ]
    },
    {
     "name": "stderr",
     "output_type": "stream",
     "text": [
      " 47%|████▋     | 126/270 [20:02<22:53,  9.54s/it]"
     ]
    },
    {
     "name": "stdout",
     "output_type": "stream",
     "text": [
      "[INFO] EPOCH: 126/270\n",
      "Train loss: 1.359942, Test loss: 2.6757\n"
     ]
    },
    {
     "name": "stderr",
     "output_type": "stream",
     "text": [
      " 47%|████▋     | 127/270 [20:12<22:42,  9.53s/it]"
     ]
    },
    {
     "name": "stdout",
     "output_type": "stream",
     "text": [
      "[INFO] EPOCH: 127/270\n",
      "Train loss: 1.300349, Test loss: 3.0492\n"
     ]
    },
    {
     "name": "stderr",
     "output_type": "stream",
     "text": [
      " 47%|████▋     | 128/270 [20:21<22:29,  9.50s/it]"
     ]
    },
    {
     "name": "stdout",
     "output_type": "stream",
     "text": [
      "[INFO] EPOCH: 128/270\n",
      "Train loss: 1.293649, Test loss: 2.7371\n"
     ]
    },
    {
     "name": "stderr",
     "output_type": "stream",
     "text": [
      " 48%|████▊     | 129/270 [20:31<22:24,  9.53s/it]"
     ]
    },
    {
     "name": "stdout",
     "output_type": "stream",
     "text": [
      "[INFO] EPOCH: 129/270\n",
      "Train loss: 1.340945, Test loss: 2.7451\n"
     ]
    },
    {
     "name": "stderr",
     "output_type": "stream",
     "text": [
      " 48%|████▊     | 130/270 [20:40<22:11,  9.51s/it]"
     ]
    },
    {
     "name": "stdout",
     "output_type": "stream",
     "text": [
      "[INFO] EPOCH: 130/270\n",
      "Train loss: 1.276235, Test loss: 3.0327\n"
     ]
    },
    {
     "name": "stderr",
     "output_type": "stream",
     "text": [
      " 49%|████▊     | 131/270 [20:50<22:04,  9.53s/it]"
     ]
    },
    {
     "name": "stdout",
     "output_type": "stream",
     "text": [
      "[INFO] EPOCH: 131/270\n",
      "Train loss: 1.238353, Test loss: 3.0115\n"
     ]
    },
    {
     "name": "stderr",
     "output_type": "stream",
     "text": [
      " 49%|████▉     | 132/270 [21:00<21:55,  9.54s/it]"
     ]
    },
    {
     "name": "stdout",
     "output_type": "stream",
     "text": [
      "[INFO] EPOCH: 132/270\n",
      "Train loss: 1.229769, Test loss: 2.9437\n"
     ]
    },
    {
     "name": "stderr",
     "output_type": "stream",
     "text": [
      " 49%|████▉     | 133/270 [21:09<21:47,  9.55s/it]"
     ]
    },
    {
     "name": "stdout",
     "output_type": "stream",
     "text": [
      "[INFO] EPOCH: 133/270\n",
      "Train loss: 1.213685, Test loss: 3.1199\n"
     ]
    },
    {
     "name": "stderr",
     "output_type": "stream",
     "text": [
      " 50%|████▉     | 134/270 [21:19<21:37,  9.54s/it]"
     ]
    },
    {
     "name": "stdout",
     "output_type": "stream",
     "text": [
      "[INFO] EPOCH: 134/270\n",
      "Train loss: 1.206517, Test loss: 2.9751\n"
     ]
    },
    {
     "name": "stderr",
     "output_type": "stream",
     "text": [
      " 50%|█████     | 135/270 [21:28<21:25,  9.53s/it]"
     ]
    },
    {
     "name": "stdout",
     "output_type": "stream",
     "text": [
      "[INFO] EPOCH: 135/270\n",
      "Train loss: 1.214194, Test loss: 2.9325\n"
     ]
    },
    {
     "name": "stderr",
     "output_type": "stream",
     "text": [
      " 50%|█████     | 136/270 [21:38<21:20,  9.55s/it]"
     ]
    },
    {
     "name": "stdout",
     "output_type": "stream",
     "text": [
      "[INFO] EPOCH: 136/270\n",
      "Train loss: 1.284238, Test loss: 3.0723\n"
     ]
    },
    {
     "name": "stderr",
     "output_type": "stream",
     "text": [
      " 51%|█████     | 137/270 [21:47<21:08,  9.54s/it]"
     ]
    },
    {
     "name": "stdout",
     "output_type": "stream",
     "text": [
      "[INFO] EPOCH: 137/270\n",
      "Train loss: 1.224683, Test loss: 3.2518\n"
     ]
    },
    {
     "name": "stderr",
     "output_type": "stream",
     "text": [
      " 51%|█████     | 138/270 [21:57<20:56,  9.52s/it]"
     ]
    },
    {
     "name": "stdout",
     "output_type": "stream",
     "text": [
      "[INFO] EPOCH: 138/270\n",
      "Train loss: 1.198889, Test loss: 3.0248\n"
     ]
    },
    {
     "name": "stderr",
     "output_type": "stream",
     "text": [
      " 51%|█████▏    | 139/270 [22:06<20:44,  9.50s/it]"
     ]
    },
    {
     "name": "stdout",
     "output_type": "stream",
     "text": [
      "[INFO] EPOCH: 139/270\n",
      "Train loss: 1.160604, Test loss: 3.1284\n"
     ]
    },
    {
     "name": "stderr",
     "output_type": "stream",
     "text": [
      " 52%|█████▏    | 140/270 [22:16<20:39,  9.54s/it]"
     ]
    },
    {
     "name": "stdout",
     "output_type": "stream",
     "text": [
      "[INFO] EPOCH: 140/270\n",
      "Train loss: 1.116700, Test loss: 3.2040\n"
     ]
    },
    {
     "name": "stderr",
     "output_type": "stream",
     "text": [
      " 52%|█████▏    | 141/270 [22:25<20:32,  9.56s/it]"
     ]
    },
    {
     "name": "stdout",
     "output_type": "stream",
     "text": [
      "[INFO] EPOCH: 141/270\n",
      "Train loss: 1.112498, Test loss: 3.2576\n"
     ]
    },
    {
     "name": "stderr",
     "output_type": "stream",
     "text": [
      " 53%|█████▎    | 142/270 [22:35<20:22,  9.55s/it]"
     ]
    },
    {
     "name": "stdout",
     "output_type": "stream",
     "text": [
      "[INFO] EPOCH: 142/270\n",
      "Train loss: 1.085743, Test loss: 3.4192\n"
     ]
    },
    {
     "name": "stderr",
     "output_type": "stream",
     "text": [
      " 53%|█████▎    | 143/270 [22:45<20:17,  9.59s/it]"
     ]
    },
    {
     "name": "stdout",
     "output_type": "stream",
     "text": [
      "[INFO] EPOCH: 143/270\n",
      "Train loss: 1.088841, Test loss: 3.4263\n"
     ]
    },
    {
     "name": "stderr",
     "output_type": "stream",
     "text": [
      " 53%|█████▎    | 144/270 [22:54<20:04,  9.56s/it]"
     ]
    },
    {
     "name": "stdout",
     "output_type": "stream",
     "text": [
      "[INFO] EPOCH: 144/270\n",
      "Train loss: 1.099668, Test loss: 3.3421\n"
     ]
    },
    {
     "name": "stderr",
     "output_type": "stream",
     "text": [
      " 54%|█████▎    | 145/270 [23:04<19:54,  9.56s/it]"
     ]
    },
    {
     "name": "stdout",
     "output_type": "stream",
     "text": [
      "[INFO] EPOCH: 145/270\n",
      "Train loss: 1.083969, Test loss: 3.1976\n"
     ]
    },
    {
     "name": "stderr",
     "output_type": "stream",
     "text": [
      " 54%|█████▍    | 146/270 [23:13<19:43,  9.54s/it]"
     ]
    },
    {
     "name": "stdout",
     "output_type": "stream",
     "text": [
      "[INFO] EPOCH: 146/270\n",
      "Train loss: 1.044515, Test loss: 3.3908\n"
     ]
    },
    {
     "name": "stderr",
     "output_type": "stream",
     "text": [
      " 54%|█████▍    | 147/270 [23:23<19:36,  9.57s/it]"
     ]
    },
    {
     "name": "stdout",
     "output_type": "stream",
     "text": [
      "[INFO] EPOCH: 147/270\n",
      "Train loss: 1.043818, Test loss: 3.8736\n"
     ]
    },
    {
     "name": "stderr",
     "output_type": "stream",
     "text": [
      " 55%|█████▍    | 148/270 [23:32<19:22,  9.53s/it]"
     ]
    },
    {
     "name": "stdout",
     "output_type": "stream",
     "text": [
      "[INFO] EPOCH: 148/270\n",
      "Train loss: 1.026931, Test loss: 3.3752\n"
     ]
    },
    {
     "name": "stderr",
     "output_type": "stream",
     "text": [
      " 55%|█████▌    | 149/270 [23:42<19:14,  9.54s/it]"
     ]
    },
    {
     "name": "stdout",
     "output_type": "stream",
     "text": [
      "[INFO] EPOCH: 149/270\n",
      "Train loss: 1.008253, Test loss: 3.5326\n"
     ]
    },
    {
     "name": "stderr",
     "output_type": "stream",
     "text": [
      " 56%|█████▌    | 150/270 [23:51<19:03,  9.53s/it]"
     ]
    },
    {
     "name": "stdout",
     "output_type": "stream",
     "text": [
      "[INFO] EPOCH: 150/270\n",
      "Train loss: 0.958301, Test loss: 3.7261\n"
     ]
    },
    {
     "name": "stderr",
     "output_type": "stream",
     "text": [
      " 56%|█████▌    | 151/270 [24:01<18:53,  9.52s/it]"
     ]
    },
    {
     "name": "stdout",
     "output_type": "stream",
     "text": [
      "[INFO] EPOCH: 151/270\n",
      "Train loss: 0.979986, Test loss: 3.8734\n"
     ]
    },
    {
     "name": "stderr",
     "output_type": "stream",
     "text": [
      " 56%|█████▋    | 152/270 [24:10<18:41,  9.51s/it]"
     ]
    },
    {
     "name": "stdout",
     "output_type": "stream",
     "text": [
      "[INFO] EPOCH: 152/270\n",
      "Train loss: 0.964540, Test loss: 4.0299\n"
     ]
    },
    {
     "name": "stderr",
     "output_type": "stream",
     "text": [
      " 57%|█████▋    | 153/270 [24:20<18:34,  9.53s/it]"
     ]
    },
    {
     "name": "stdout",
     "output_type": "stream",
     "text": [
      "[INFO] EPOCH: 153/270\n",
      "Train loss: 0.959106, Test loss: 3.8679\n"
     ]
    },
    {
     "name": "stderr",
     "output_type": "stream",
     "text": [
      " 57%|█████▋    | 154/270 [24:29<18:26,  9.54s/it]"
     ]
    },
    {
     "name": "stdout",
     "output_type": "stream",
     "text": [
      "[INFO] EPOCH: 154/270\n",
      "Train loss: 0.976219, Test loss: 4.0573\n"
     ]
    },
    {
     "name": "stderr",
     "output_type": "stream",
     "text": [
      " 57%|█████▋    | 155/270 [24:39<18:13,  9.51s/it]"
     ]
    },
    {
     "name": "stdout",
     "output_type": "stream",
     "text": [
      "[INFO] EPOCH: 155/270\n",
      "Train loss: 0.924311, Test loss: 3.8586\n"
     ]
    },
    {
     "name": "stderr",
     "output_type": "stream",
     "text": [
      " 58%|█████▊    | 156/270 [24:48<18:03,  9.50s/it]"
     ]
    },
    {
     "name": "stdout",
     "output_type": "stream",
     "text": [
      "[INFO] EPOCH: 156/270\n",
      "Train loss: 0.901780, Test loss: 4.4952\n"
     ]
    },
    {
     "name": "stderr",
     "output_type": "stream",
     "text": [
      " 58%|█████▊    | 157/270 [24:58<17:54,  9.50s/it]"
     ]
    },
    {
     "name": "stdout",
     "output_type": "stream",
     "text": [
      "[INFO] EPOCH: 157/270\n",
      "Train loss: 0.919437, Test loss: 4.1961\n"
     ]
    },
    {
     "name": "stderr",
     "output_type": "stream",
     "text": [
      " 59%|█████▊    | 158/270 [25:07<17:48,  9.54s/it]"
     ]
    },
    {
     "name": "stdout",
     "output_type": "stream",
     "text": [
      "[INFO] EPOCH: 158/270\n",
      "Train loss: 0.861632, Test loss: 4.2432\n"
     ]
    },
    {
     "name": "stderr",
     "output_type": "stream",
     "text": [
      " 59%|█████▉    | 159/270 [25:17<17:40,  9.55s/it]"
     ]
    },
    {
     "name": "stdout",
     "output_type": "stream",
     "text": [
      "[INFO] EPOCH: 159/270\n",
      "Train loss: 0.934347, Test loss: 4.1616\n"
     ]
    },
    {
     "name": "stderr",
     "output_type": "stream",
     "text": [
      " 59%|█████▉    | 160/270 [25:27<17:28,  9.53s/it]"
     ]
    },
    {
     "name": "stdout",
     "output_type": "stream",
     "text": [
      "[INFO] EPOCH: 160/270\n",
      "Train loss: 0.837333, Test loss: 4.4877\n"
     ]
    },
    {
     "name": "stderr",
     "output_type": "stream",
     "text": [
      " 60%|█████▉    | 161/270 [25:36<17:20,  9.55s/it]"
     ]
    },
    {
     "name": "stdout",
     "output_type": "stream",
     "text": [
      "[INFO] EPOCH: 161/270\n",
      "Train loss: 0.811372, Test loss: 4.2358\n"
     ]
    },
    {
     "name": "stderr",
     "output_type": "stream",
     "text": [
      " 60%|██████    | 162/270 [25:46<17:08,  9.53s/it]"
     ]
    },
    {
     "name": "stdout",
     "output_type": "stream",
     "text": [
      "[INFO] EPOCH: 162/270\n",
      "Train loss: 0.824921, Test loss: 4.1112\n"
     ]
    },
    {
     "name": "stderr",
     "output_type": "stream",
     "text": [
      " 60%|██████    | 163/270 [25:55<17:00,  9.53s/it]"
     ]
    },
    {
     "name": "stdout",
     "output_type": "stream",
     "text": [
      "[INFO] EPOCH: 163/270\n",
      "Train loss: 0.808349, Test loss: 4.6585\n"
     ]
    },
    {
     "name": "stderr",
     "output_type": "stream",
     "text": [
      " 61%|██████    | 164/270 [26:05<16:48,  9.52s/it]"
     ]
    },
    {
     "name": "stdout",
     "output_type": "stream",
     "text": [
      "[INFO] EPOCH: 164/270\n",
      "Train loss: 0.818225, Test loss: 4.4822\n"
     ]
    },
    {
     "name": "stderr",
     "output_type": "stream",
     "text": [
      " 61%|██████    | 165/270 [26:14<16:38,  9.51s/it]"
     ]
    },
    {
     "name": "stdout",
     "output_type": "stream",
     "text": [
      "[INFO] EPOCH: 165/270\n",
      "Train loss: 0.786882, Test loss: 4.6446\n"
     ]
    },
    {
     "name": "stderr",
     "output_type": "stream",
     "text": [
      " 61%|██████▏   | 166/270 [26:24<16:32,  9.55s/it]"
     ]
    },
    {
     "name": "stdout",
     "output_type": "stream",
     "text": [
      "[INFO] EPOCH: 166/270\n",
      "Train loss: 0.802730, Test loss: 4.8103\n"
     ]
    },
    {
     "name": "stderr",
     "output_type": "stream",
     "text": [
      " 62%|██████▏   | 167/270 [26:33<16:22,  9.54s/it]"
     ]
    },
    {
     "name": "stdout",
     "output_type": "stream",
     "text": [
      "[INFO] EPOCH: 167/270\n",
      "Train loss: 0.753617, Test loss: 4.5287\n"
     ]
    },
    {
     "name": "stderr",
     "output_type": "stream",
     "text": [
      " 62%|██████▏   | 168/270 [26:43<16:12,  9.53s/it]"
     ]
    },
    {
     "name": "stdout",
     "output_type": "stream",
     "text": [
      "[INFO] EPOCH: 168/270\n",
      "Train loss: 0.727325, Test loss: 4.3309\n"
     ]
    },
    {
     "name": "stderr",
     "output_type": "stream",
     "text": [
      " 63%|██████▎   | 169/270 [26:52<16:04,  9.55s/it]"
     ]
    },
    {
     "name": "stdout",
     "output_type": "stream",
     "text": [
      "[INFO] EPOCH: 169/270\n",
      "Train loss: 0.715288, Test loss: 4.8522\n"
     ]
    },
    {
     "name": "stderr",
     "output_type": "stream",
     "text": [
      " 63%|██████▎   | 170/270 [27:02<15:56,  9.57s/it]"
     ]
    },
    {
     "name": "stdout",
     "output_type": "stream",
     "text": [
      "[INFO] EPOCH: 170/270\n",
      "Train loss: 0.738000, Test loss: 4.7841\n"
     ]
    },
    {
     "name": "stderr",
     "output_type": "stream",
     "text": [
      " 63%|██████▎   | 171/270 [27:12<15:46,  9.56s/it]"
     ]
    },
    {
     "name": "stdout",
     "output_type": "stream",
     "text": [
      "[INFO] EPOCH: 171/270\n",
      "Train loss: 0.700626, Test loss: 5.0672\n"
     ]
    },
    {
     "name": "stderr",
     "output_type": "stream",
     "text": [
      " 64%|██████▎   | 172/270 [27:21<15:38,  9.58s/it]"
     ]
    },
    {
     "name": "stdout",
     "output_type": "stream",
     "text": [
      "[INFO] EPOCH: 172/270\n",
      "Train loss: 0.762405, Test loss: 4.7690\n"
     ]
    },
    {
     "name": "stderr",
     "output_type": "stream",
     "text": [
      " 64%|██████▍   | 173/270 [27:31<15:28,  9.57s/it]"
     ]
    },
    {
     "name": "stdout",
     "output_type": "stream",
     "text": [
      "[INFO] EPOCH: 173/270\n",
      "Train loss: 0.686414, Test loss: 4.7142\n"
     ]
    },
    {
     "name": "stderr",
     "output_type": "stream",
     "text": [
      " 64%|██████▍   | 174/270 [27:40<15:18,  9.56s/it]"
     ]
    },
    {
     "name": "stdout",
     "output_type": "stream",
     "text": [
      "[INFO] EPOCH: 174/270\n",
      "Train loss: 0.687566, Test loss: 4.8163\n"
     ]
    },
    {
     "name": "stderr",
     "output_type": "stream",
     "text": [
      " 65%|██████▍   | 175/270 [27:50<15:10,  9.58s/it]"
     ]
    },
    {
     "name": "stdout",
     "output_type": "stream",
     "text": [
      "[INFO] EPOCH: 175/270\n",
      "Train loss: 0.674632, Test loss: 5.1074\n"
     ]
    },
    {
     "name": "stderr",
     "output_type": "stream",
     "text": [
      " 65%|██████▌   | 176/270 [27:59<14:59,  9.57s/it]"
     ]
    },
    {
     "name": "stdout",
     "output_type": "stream",
     "text": [
      "[INFO] EPOCH: 176/270\n",
      "Train loss: 0.648029, Test loss: 4.7571\n"
     ]
    },
    {
     "name": "stderr",
     "output_type": "stream",
     "text": [
      " 66%|██████▌   | 177/270 [28:09<14:48,  9.55s/it]"
     ]
    },
    {
     "name": "stdout",
     "output_type": "stream",
     "text": [
      "[INFO] EPOCH: 177/270\n",
      "Train loss: 0.787913, Test loss: 4.5922\n"
     ]
    },
    {
     "name": "stderr",
     "output_type": "stream",
     "text": [
      " 66%|██████▌   | 178/270 [28:18<14:39,  9.55s/it]"
     ]
    },
    {
     "name": "stdout",
     "output_type": "stream",
     "text": [
      "[INFO] EPOCH: 178/270\n",
      "Train loss: 0.660815, Test loss: 5.2849\n"
     ]
    },
    {
     "name": "stderr",
     "output_type": "stream",
     "text": [
      " 66%|██████▋   | 179/270 [28:28<14:29,  9.55s/it]"
     ]
    },
    {
     "name": "stdout",
     "output_type": "stream",
     "text": [
      "[INFO] EPOCH: 179/270\n",
      "Train loss: 0.603290, Test loss: 5.2633\n"
     ]
    },
    {
     "name": "stderr",
     "output_type": "stream",
     "text": [
      " 67%|██████▋   | 180/270 [28:37<14:16,  9.52s/it]"
     ]
    },
    {
     "name": "stdout",
     "output_type": "stream",
     "text": [
      "[INFO] EPOCH: 180/270\n",
      "Train loss: 0.599843, Test loss: 5.3204\n"
     ]
    },
    {
     "name": "stderr",
     "output_type": "stream",
     "text": [
      " 67%|██████▋   | 181/270 [28:47<14:06,  9.51s/it]"
     ]
    },
    {
     "name": "stdout",
     "output_type": "stream",
     "text": [
      "[INFO] EPOCH: 181/270\n",
      "Train loss: 0.674917, Test loss: 4.8523\n"
     ]
    },
    {
     "name": "stderr",
     "output_type": "stream",
     "text": [
      " 67%|██████▋   | 182/270 [28:57<13:59,  9.54s/it]"
     ]
    },
    {
     "name": "stdout",
     "output_type": "stream",
     "text": [
      "[INFO] EPOCH: 182/270\n",
      "Train loss: 0.639051, Test loss: 5.1154\n"
     ]
    },
    {
     "name": "stderr",
     "output_type": "stream",
     "text": [
      " 68%|██████▊   | 183/270 [29:06<13:49,  9.53s/it]"
     ]
    },
    {
     "name": "stdout",
     "output_type": "stream",
     "text": [
      "[INFO] EPOCH: 183/270\n",
      "Train loss: 0.634388, Test loss: 4.9623\n"
     ]
    },
    {
     "name": "stderr",
     "output_type": "stream",
     "text": [
      " 68%|██████▊   | 184/270 [29:16<13:38,  9.52s/it]"
     ]
    },
    {
     "name": "stdout",
     "output_type": "stream",
     "text": [
      "[INFO] EPOCH: 184/270\n",
      "Train loss: 0.610876, Test loss: 5.0699\n"
     ]
    },
    {
     "name": "stderr",
     "output_type": "stream",
     "text": [
      " 69%|██████▊   | 185/270 [29:25<13:30,  9.53s/it]"
     ]
    },
    {
     "name": "stdout",
     "output_type": "stream",
     "text": [
      "[INFO] EPOCH: 185/270\n",
      "Train loss: 0.704384, Test loss: 5.4366\n"
     ]
    },
    {
     "name": "stderr",
     "output_type": "stream",
     "text": [
      " 69%|██████▉   | 186/270 [29:35<13:23,  9.57s/it]"
     ]
    },
    {
     "name": "stdout",
     "output_type": "stream",
     "text": [
      "[INFO] EPOCH: 186/270\n",
      "Train loss: 0.590026, Test loss: 5.5926\n"
     ]
    },
    {
     "name": "stderr",
     "output_type": "stream",
     "text": [
      " 69%|██████▉   | 187/270 [29:44<13:13,  9.57s/it]"
     ]
    },
    {
     "name": "stdout",
     "output_type": "stream",
     "text": [
      "[INFO] EPOCH: 187/270\n",
      "Train loss: 0.569173, Test loss: 5.4562\n"
     ]
    },
    {
     "name": "stderr",
     "output_type": "stream",
     "text": [
      " 70%|██████▉   | 188/270 [29:54<13:03,  9.56s/it]"
     ]
    },
    {
     "name": "stdout",
     "output_type": "stream",
     "text": [
      "[INFO] EPOCH: 188/270\n",
      "Train loss: 0.603313, Test loss: 5.2164\n"
     ]
    },
    {
     "name": "stderr",
     "output_type": "stream",
     "text": [
      " 70%|███████   | 189/270 [30:03<12:54,  9.57s/it]"
     ]
    },
    {
     "name": "stdout",
     "output_type": "stream",
     "text": [
      "[INFO] EPOCH: 189/270\n",
      "Train loss: 0.628914, Test loss: 4.2971\n"
     ]
    },
    {
     "name": "stderr",
     "output_type": "stream",
     "text": [
      " 70%|███████   | 190/270 [30:13<12:46,  9.59s/it]"
     ]
    },
    {
     "name": "stdout",
     "output_type": "stream",
     "text": [
      "[INFO] EPOCH: 190/270\n",
      "Train loss: 0.651429, Test loss: 5.1492\n"
     ]
    },
    {
     "name": "stderr",
     "output_type": "stream",
     "text": [
      " 71%|███████   | 191/270 [30:23<12:36,  9.57s/it]"
     ]
    },
    {
     "name": "stdout",
     "output_type": "stream",
     "text": [
      "[INFO] EPOCH: 191/270\n",
      "Train loss: 0.534172, Test loss: 5.6092\n"
     ]
    },
    {
     "name": "stderr",
     "output_type": "stream",
     "text": [
      " 71%|███████   | 192/270 [30:32<12:24,  9.55s/it]"
     ]
    },
    {
     "name": "stdout",
     "output_type": "stream",
     "text": [
      "[INFO] EPOCH: 192/270\n",
      "Train loss: 0.529720, Test loss: 5.6299\n"
     ]
    },
    {
     "name": "stderr",
     "output_type": "stream",
     "text": [
      " 71%|███████▏  | 193/270 [30:42<12:15,  9.55s/it]"
     ]
    },
    {
     "name": "stdout",
     "output_type": "stream",
     "text": [
      "[INFO] EPOCH: 193/270\n",
      "Train loss: 0.521255, Test loss: 5.6320\n"
     ]
    },
    {
     "name": "stderr",
     "output_type": "stream",
     "text": [
      " 72%|███████▏  | 194/270 [30:51<12:05,  9.55s/it]"
     ]
    },
    {
     "name": "stdout",
     "output_type": "stream",
     "text": [
      "[INFO] EPOCH: 194/270\n",
      "Train loss: 0.541892, Test loss: 5.5951\n"
     ]
    },
    {
     "name": "stderr",
     "output_type": "stream",
     "text": [
      " 72%|███████▏  | 195/270 [31:01<11:55,  9.54s/it]"
     ]
    },
    {
     "name": "stdout",
     "output_type": "stream",
     "text": [
      "[INFO] EPOCH: 195/270\n",
      "Train loss: 0.519828, Test loss: 5.2377\n"
     ]
    },
    {
     "name": "stderr",
     "output_type": "stream",
     "text": [
      " 73%|███████▎  | 196/270 [31:10<11:45,  9.54s/it]"
     ]
    },
    {
     "name": "stdout",
     "output_type": "stream",
     "text": [
      "[INFO] EPOCH: 196/270\n",
      "Train loss: 0.521442, Test loss: 5.6203\n"
     ]
    },
    {
     "name": "stderr",
     "output_type": "stream",
     "text": [
      " 73%|███████▎  | 197/270 [31:20<11:35,  9.53s/it]"
     ]
    },
    {
     "name": "stdout",
     "output_type": "stream",
     "text": [
      "[INFO] EPOCH: 197/270\n",
      "Train loss: 0.580690, Test loss: 5.0028\n"
     ]
    },
    {
     "name": "stderr",
     "output_type": "stream",
     "text": [
      " 73%|███████▎  | 198/270 [31:29<11:28,  9.56s/it]"
     ]
    },
    {
     "name": "stdout",
     "output_type": "stream",
     "text": [
      "[INFO] EPOCH: 198/270\n",
      "Train loss: 0.644617, Test loss: 5.2216\n"
     ]
    },
    {
     "name": "stderr",
     "output_type": "stream",
     "text": [
      " 74%|███████▎  | 199/270 [31:39<11:17,  9.54s/it]"
     ]
    },
    {
     "name": "stdout",
     "output_type": "stream",
     "text": [
      "[INFO] EPOCH: 199/270\n",
      "Train loss: 0.545645, Test loss: 5.3803\n"
     ]
    },
    {
     "name": "stderr",
     "output_type": "stream",
     "text": [
      " 74%|███████▍  | 200/270 [31:48<11:05,  9.51s/it]"
     ]
    },
    {
     "name": "stdout",
     "output_type": "stream",
     "text": [
      "[INFO] EPOCH: 200/270\n",
      "Train loss: 0.609094, Test loss: 5.2882\n"
     ]
    },
    {
     "name": "stderr",
     "output_type": "stream",
     "text": [
      " 74%|███████▍  | 201/270 [31:58<10:57,  9.53s/it]"
     ]
    },
    {
     "name": "stdout",
     "output_type": "stream",
     "text": [
      "[INFO] EPOCH: 201/270\n",
      "Train loss: 0.498906, Test loss: 6.3857\n"
     ]
    },
    {
     "name": "stderr",
     "output_type": "stream",
     "text": [
      " 75%|███████▍  | 202/270 [32:07<10:47,  9.52s/it]"
     ]
    },
    {
     "name": "stdout",
     "output_type": "stream",
     "text": [
      "[INFO] EPOCH: 202/270\n",
      "Train loss: 0.499543, Test loss: 5.9047\n"
     ]
    },
    {
     "name": "stderr",
     "output_type": "stream",
     "text": [
      " 75%|███████▌  | 203/270 [32:17<10:36,  9.50s/it]"
     ]
    },
    {
     "name": "stdout",
     "output_type": "stream",
     "text": [
      "[INFO] EPOCH: 203/270\n",
      "Train loss: 0.475737, Test loss: 5.8998\n"
     ]
    },
    {
     "name": "stderr",
     "output_type": "stream",
     "text": [
      " 76%|███████▌  | 204/270 [32:26<10:28,  9.52s/it]"
     ]
    },
    {
     "name": "stdout",
     "output_type": "stream",
     "text": [
      "[INFO] EPOCH: 204/270\n",
      "Train loss: 0.458708, Test loss: 5.9101\n"
     ]
    },
    {
     "name": "stderr",
     "output_type": "stream",
     "text": [
      " 76%|███████▌  | 205/270 [32:36<10:18,  9.52s/it]"
     ]
    },
    {
     "name": "stdout",
     "output_type": "stream",
     "text": [
      "[INFO] EPOCH: 205/270\n",
      "Train loss: 0.448533, Test loss: 5.9793\n"
     ]
    },
    {
     "name": "stderr",
     "output_type": "stream",
     "text": [
      " 76%|███████▋  | 206/270 [32:46<10:10,  9.54s/it]"
     ]
    },
    {
     "name": "stdout",
     "output_type": "stream",
     "text": [
      "[INFO] EPOCH: 206/270\n",
      "Train loss: 0.476388, Test loss: 6.5189\n"
     ]
    },
    {
     "name": "stderr",
     "output_type": "stream",
     "text": [
      " 77%|███████▋  | 207/270 [32:55<10:00,  9.53s/it]"
     ]
    },
    {
     "name": "stdout",
     "output_type": "stream",
     "text": [
      "[INFO] EPOCH: 207/270\n",
      "Train loss: 0.483589, Test loss: 5.7720\n"
     ]
    },
    {
     "name": "stderr",
     "output_type": "stream",
     "text": [
      " 77%|███████▋  | 208/270 [33:05<09:49,  9.51s/it]"
     ]
    },
    {
     "name": "stdout",
     "output_type": "stream",
     "text": [
      "[INFO] EPOCH: 208/270\n",
      "Train loss: 0.504269, Test loss: 6.2215\n"
     ]
    },
    {
     "name": "stderr",
     "output_type": "stream",
     "text": [
      " 77%|███████▋  | 209/270 [33:14<09:41,  9.53s/it]"
     ]
    },
    {
     "name": "stdout",
     "output_type": "stream",
     "text": [
      "[INFO] EPOCH: 209/270\n",
      "Train loss: 0.476818, Test loss: 6.1620\n"
     ]
    },
    {
     "name": "stderr",
     "output_type": "stream",
     "text": [
      " 78%|███████▊  | 210/270 [33:24<09:33,  9.56s/it]"
     ]
    },
    {
     "name": "stdout",
     "output_type": "stream",
     "text": [
      "[INFO] EPOCH: 210/270\n",
      "Train loss: 0.487608, Test loss: 5.8019\n"
     ]
    },
    {
     "name": "stderr",
     "output_type": "stream",
     "text": [
      " 78%|███████▊  | 211/270 [33:33<09:24,  9.57s/it]"
     ]
    },
    {
     "name": "stdout",
     "output_type": "stream",
     "text": [
      "[INFO] EPOCH: 211/270\n",
      "Train loss: 0.503153, Test loss: 6.5978\n"
     ]
    },
    {
     "name": "stderr",
     "output_type": "stream",
     "text": [
      " 79%|███████▊  | 212/270 [33:43<09:13,  9.55s/it]"
     ]
    },
    {
     "name": "stdout",
     "output_type": "stream",
     "text": [
      "[INFO] EPOCH: 212/270\n",
      "Train loss: 0.511648, Test loss: 5.7761\n"
     ]
    },
    {
     "name": "stderr",
     "output_type": "stream",
     "text": [
      " 79%|███████▉  | 213/270 [33:52<09:02,  9.53s/it]"
     ]
    },
    {
     "name": "stdout",
     "output_type": "stream",
     "text": [
      "[INFO] EPOCH: 213/270\n",
      "Train loss: 0.474768, Test loss: 6.2130\n"
     ]
    },
    {
     "name": "stderr",
     "output_type": "stream",
     "text": [
      " 79%|███████▉  | 214/270 [34:02<08:53,  9.52s/it]"
     ]
    },
    {
     "name": "stdout",
     "output_type": "stream",
     "text": [
      "[INFO] EPOCH: 214/270\n",
      "Train loss: 0.435987, Test loss: 6.1482\n"
     ]
    },
    {
     "name": "stderr",
     "output_type": "stream",
     "text": [
      " 80%|███████▉  | 215/270 [34:11<08:46,  9.57s/it]"
     ]
    },
    {
     "name": "stdout",
     "output_type": "stream",
     "text": [
      "[INFO] EPOCH: 215/270\n",
      "Train loss: 0.457513, Test loss: 6.3734\n"
     ]
    },
    {
     "name": "stderr",
     "output_type": "stream",
     "text": [
      " 80%|████████  | 216/270 [34:21<08:36,  9.57s/it]"
     ]
    },
    {
     "name": "stdout",
     "output_type": "stream",
     "text": [
      "[INFO] EPOCH: 216/270\n",
      "Train loss: 0.500595, Test loss: 6.0931\n"
     ]
    },
    {
     "name": "stderr",
     "output_type": "stream",
     "text": [
      " 80%|████████  | 217/270 [34:31<08:26,  9.55s/it]"
     ]
    },
    {
     "name": "stdout",
     "output_type": "stream",
     "text": [
      "[INFO] EPOCH: 217/270\n",
      "Train loss: 0.436863, Test loss: 5.9741\n"
     ]
    },
    {
     "name": "stderr",
     "output_type": "stream",
     "text": [
      " 81%|████████  | 218/270 [34:40<08:17,  9.57s/it]"
     ]
    },
    {
     "name": "stdout",
     "output_type": "stream",
     "text": [
      "[INFO] EPOCH: 218/270\n",
      "Train loss: 0.405280, Test loss: 6.3717\n"
     ]
    },
    {
     "name": "stderr",
     "output_type": "stream",
     "text": [
      " 81%|████████  | 219/270 [34:50<08:09,  9.59s/it]"
     ]
    },
    {
     "name": "stdout",
     "output_type": "stream",
     "text": [
      "[INFO] EPOCH: 219/270\n",
      "Train loss: 0.399392, Test loss: 6.2252\n"
     ]
    },
    {
     "name": "stderr",
     "output_type": "stream",
     "text": [
      " 81%|████████▏ | 220/270 [34:59<07:58,  9.56s/it]"
     ]
    },
    {
     "name": "stdout",
     "output_type": "stream",
     "text": [
      "[INFO] EPOCH: 220/270\n",
      "Train loss: 0.399765, Test loss: 6.7405\n"
     ]
    },
    {
     "name": "stderr",
     "output_type": "stream",
     "text": [
      " 82%|████████▏ | 221/270 [35:09<07:48,  9.56s/it]"
     ]
    },
    {
     "name": "stdout",
     "output_type": "stream",
     "text": [
      "[INFO] EPOCH: 221/270\n",
      "Train loss: 0.398957, Test loss: 6.1886\n"
     ]
    },
    {
     "name": "stderr",
     "output_type": "stream",
     "text": [
      " 82%|████████▏ | 222/270 [35:18<07:37,  9.54s/it]"
     ]
    },
    {
     "name": "stdout",
     "output_type": "stream",
     "text": [
      "[INFO] EPOCH: 222/270\n",
      "Train loss: 0.425239, Test loss: 5.5519\n"
     ]
    },
    {
     "name": "stderr",
     "output_type": "stream",
     "text": [
      " 83%|████████▎ | 223/270 [35:28<07:27,  9.52s/it]"
     ]
    },
    {
     "name": "stdout",
     "output_type": "stream",
     "text": [
      "[INFO] EPOCH: 223/270\n",
      "Train loss: 0.527771, Test loss: 6.5464\n"
     ]
    },
    {
     "name": "stderr",
     "output_type": "stream",
     "text": [
      " 83%|████████▎ | 224/270 [35:37<07:18,  9.52s/it]"
     ]
    },
    {
     "name": "stdout",
     "output_type": "stream",
     "text": [
      "[INFO] EPOCH: 224/270\n",
      "Train loss: 0.425686, Test loss: 6.4383\n"
     ]
    },
    {
     "name": "stderr",
     "output_type": "stream",
     "text": [
      " 83%|████████▎ | 225/270 [35:47<07:08,  9.51s/it]"
     ]
    },
    {
     "name": "stdout",
     "output_type": "stream",
     "text": [
      "[INFO] EPOCH: 225/270\n",
      "Train loss: 0.413238, Test loss: 6.0818\n"
     ]
    },
    {
     "name": "stderr",
     "output_type": "stream",
     "text": [
      " 84%|████████▎ | 226/270 [35:56<06:59,  9.53s/it]"
     ]
    },
    {
     "name": "stdout",
     "output_type": "stream",
     "text": [
      "[INFO] EPOCH: 226/270\n",
      "Train loss: 0.443254, Test loss: 6.1951\n"
     ]
    },
    {
     "name": "stderr",
     "output_type": "stream",
     "text": [
      " 84%|████████▍ | 227/270 [36:06<06:49,  9.52s/it]"
     ]
    },
    {
     "name": "stdout",
     "output_type": "stream",
     "text": [
      "[INFO] EPOCH: 227/270\n",
      "Train loss: 0.580367, Test loss: 6.2860\n"
     ]
    },
    {
     "name": "stderr",
     "output_type": "stream",
     "text": [
      " 84%|████████▍ | 228/270 [36:15<06:39,  9.51s/it]"
     ]
    },
    {
     "name": "stdout",
     "output_type": "stream",
     "text": [
      "[INFO] EPOCH: 228/270\n",
      "Train loss: 0.439443, Test loss: 6.5017\n"
     ]
    },
    {
     "name": "stderr",
     "output_type": "stream",
     "text": [
      " 85%|████████▍ | 229/270 [36:25<06:29,  9.49s/it]"
     ]
    },
    {
     "name": "stdout",
     "output_type": "stream",
     "text": [
      "[INFO] EPOCH: 229/270\n",
      "Train loss: 0.437011, Test loss: 6.1343\n"
     ]
    },
    {
     "name": "stderr",
     "output_type": "stream",
     "text": [
      " 85%|████████▌ | 230/270 [36:34<06:19,  9.49s/it]"
     ]
    },
    {
     "name": "stdout",
     "output_type": "stream",
     "text": [
      "[INFO] EPOCH: 230/270\n",
      "Train loss: 0.383279, Test loss: 6.4174\n"
     ]
    },
    {
     "name": "stderr",
     "output_type": "stream",
     "text": [
      " 86%|████████▌ | 231/270 [36:44<06:12,  9.55s/it]"
     ]
    },
    {
     "name": "stdout",
     "output_type": "stream",
     "text": [
      "[INFO] EPOCH: 231/270\n",
      "Train loss: 0.354570, Test loss: 6.9635\n"
     ]
    },
    {
     "name": "stderr",
     "output_type": "stream",
     "text": [
      " 86%|████████▌ | 232/270 [36:54<06:07,  9.67s/it]"
     ]
    },
    {
     "name": "stdout",
     "output_type": "stream",
     "text": [
      "[INFO] EPOCH: 232/270\n",
      "Train loss: 0.348509, Test loss: 6.9513\n"
     ]
    },
    {
     "name": "stderr",
     "output_type": "stream",
     "text": [
      " 86%|████████▋ | 233/270 [37:04<05:59,  9.70s/it]"
     ]
    },
    {
     "name": "stdout",
     "output_type": "stream",
     "text": [
      "[INFO] EPOCH: 233/270\n",
      "Train loss: 0.336545, Test loss: 7.2555\n"
     ]
    },
    {
     "name": "stderr",
     "output_type": "stream",
     "text": [
      " 87%|████████▋ | 234/270 [37:14<05:51,  9.76s/it]"
     ]
    },
    {
     "name": "stdout",
     "output_type": "stream",
     "text": [
      "[INFO] EPOCH: 234/270\n",
      "Train loss: 0.381668, Test loss: 6.4755\n"
     ]
    },
    {
     "name": "stderr",
     "output_type": "stream",
     "text": [
      " 87%|████████▋ | 235/270 [37:23<05:41,  9.75s/it]"
     ]
    },
    {
     "name": "stdout",
     "output_type": "stream",
     "text": [
      "[INFO] EPOCH: 235/270\n",
      "Train loss: 0.393562, Test loss: 6.4554\n"
     ]
    },
    {
     "name": "stderr",
     "output_type": "stream",
     "text": [
      " 87%|████████▋ | 236/270 [37:33<05:31,  9.74s/it]"
     ]
    },
    {
     "name": "stdout",
     "output_type": "stream",
     "text": [
      "[INFO] EPOCH: 236/270\n",
      "Train loss: 0.469345, Test loss: 5.8297\n"
     ]
    },
    {
     "name": "stderr",
     "output_type": "stream",
     "text": [
      " 88%|████████▊ | 237/270 [37:43<05:21,  9.73s/it]"
     ]
    },
    {
     "name": "stdout",
     "output_type": "stream",
     "text": [
      "[INFO] EPOCH: 237/270\n",
      "Train loss: 0.418825, Test loss: 6.2619\n"
     ]
    },
    {
     "name": "stderr",
     "output_type": "stream",
     "text": [
      " 88%|████████▊ | 238/270 [37:52<05:10,  9.71s/it]"
     ]
    },
    {
     "name": "stdout",
     "output_type": "stream",
     "text": [
      "[INFO] EPOCH: 238/270\n",
      "Train loss: 0.449419, Test loss: 5.8106\n"
     ]
    },
    {
     "name": "stderr",
     "output_type": "stream",
     "text": [
      " 89%|████████▊ | 239/270 [38:02<05:02,  9.76s/it]"
     ]
    },
    {
     "name": "stdout",
     "output_type": "stream",
     "text": [
      "[INFO] EPOCH: 239/270\n",
      "Train loss: 0.405006, Test loss: 6.3036\n"
     ]
    },
    {
     "name": "stderr",
     "output_type": "stream",
     "text": [
      " 89%|████████▉ | 240/270 [38:12<04:52,  9.76s/it]"
     ]
    },
    {
     "name": "stdout",
     "output_type": "stream",
     "text": [
      "[INFO] EPOCH: 240/270\n",
      "Train loss: 0.375251, Test loss: 6.6012\n"
     ]
    },
    {
     "name": "stderr",
     "output_type": "stream",
     "text": [
      " 89%|████████▉ | 241/270 [38:22<04:41,  9.72s/it]"
     ]
    },
    {
     "name": "stdout",
     "output_type": "stream",
     "text": [
      "[INFO] EPOCH: 241/270\n",
      "Train loss: 0.342670, Test loss: 6.8390\n"
     ]
    },
    {
     "name": "stderr",
     "output_type": "stream",
     "text": [
      " 90%|████████▉ | 242/270 [38:31<04:32,  9.74s/it]"
     ]
    },
    {
     "name": "stdout",
     "output_type": "stream",
     "text": [
      "[INFO] EPOCH: 242/270\n",
      "Train loss: 0.357424, Test loss: 7.0161\n"
     ]
    },
    {
     "name": "stderr",
     "output_type": "stream",
     "text": [
      " 90%|█████████ | 243/270 [38:41<04:22,  9.71s/it]"
     ]
    },
    {
     "name": "stdout",
     "output_type": "stream",
     "text": [
      "[INFO] EPOCH: 243/270\n",
      "Train loss: 0.395995, Test loss: 6.6576\n"
     ]
    },
    {
     "name": "stderr",
     "output_type": "stream",
     "text": [
      " 90%|█████████ | 244/270 [38:51<04:13,  9.73s/it]"
     ]
    },
    {
     "name": "stdout",
     "output_type": "stream",
     "text": [
      "[INFO] EPOCH: 244/270\n",
      "Train loss: 0.388307, Test loss: 6.7362\n"
     ]
    },
    {
     "name": "stderr",
     "output_type": "stream",
     "text": [
      " 91%|█████████ | 245/270 [39:01<04:03,  9.73s/it]"
     ]
    },
    {
     "name": "stdout",
     "output_type": "stream",
     "text": [
      "[INFO] EPOCH: 245/270\n",
      "Train loss: 0.349344, Test loss: 6.8367\n"
     ]
    },
    {
     "name": "stderr",
     "output_type": "stream",
     "text": [
      " 91%|█████████ | 246/270 [39:10<03:52,  9.69s/it]"
     ]
    },
    {
     "name": "stdout",
     "output_type": "stream",
     "text": [
      "[INFO] EPOCH: 246/270\n",
      "Train loss: 0.340468, Test loss: 6.8711\n"
     ]
    },
    {
     "name": "stderr",
     "output_type": "stream",
     "text": [
      " 91%|█████████▏| 247/270 [39:20<03:43,  9.74s/it]"
     ]
    },
    {
     "name": "stdout",
     "output_type": "stream",
     "text": [
      "[INFO] EPOCH: 247/270\n",
      "Train loss: 0.328332, Test loss: 7.1386\n"
     ]
    },
    {
     "name": "stderr",
     "output_type": "stream",
     "text": [
      " 92%|█████████▏| 248/270 [39:30<03:34,  9.73s/it]"
     ]
    },
    {
     "name": "stdout",
     "output_type": "stream",
     "text": [
      "[INFO] EPOCH: 248/270\n",
      "Train loss: 0.358531, Test loss: 6.8053\n"
     ]
    },
    {
     "name": "stderr",
     "output_type": "stream",
     "text": [
      " 92%|█████████▏| 249/270 [39:40<03:24,  9.75s/it]"
     ]
    },
    {
     "name": "stdout",
     "output_type": "stream",
     "text": [
      "[INFO] EPOCH: 249/270\n",
      "Train loss: 0.363571, Test loss: 6.2134\n"
     ]
    },
    {
     "name": "stderr",
     "output_type": "stream",
     "text": [
      " 93%|█████████▎| 250/270 [39:49<03:14,  9.74s/it]"
     ]
    },
    {
     "name": "stdout",
     "output_type": "stream",
     "text": [
      "[INFO] EPOCH: 250/270\n",
      "Train loss: 0.555211, Test loss: 5.4495\n"
     ]
    },
    {
     "name": "stderr",
     "output_type": "stream",
     "text": [
      " 93%|█████████▎| 251/270 [39:59<03:05,  9.75s/it]"
     ]
    },
    {
     "name": "stdout",
     "output_type": "stream",
     "text": [
      "[INFO] EPOCH: 251/270\n",
      "Train loss: 0.426726, Test loss: 6.2853\n"
     ]
    },
    {
     "name": "stderr",
     "output_type": "stream",
     "text": [
      " 93%|█████████▎| 252/270 [40:09<02:55,  9.74s/it]"
     ]
    },
    {
     "name": "stdout",
     "output_type": "stream",
     "text": [
      "[INFO] EPOCH: 252/270\n",
      "Train loss: 0.491930, Test loss: 5.7127\n"
     ]
    },
    {
     "name": "stderr",
     "output_type": "stream",
     "text": [
      " 94%|█████████▎| 253/270 [40:18<02:45,  9.72s/it]"
     ]
    },
    {
     "name": "stdout",
     "output_type": "stream",
     "text": [
      "[INFO] EPOCH: 253/270\n",
      "Train loss: 0.374927, Test loss: 6.4110\n"
     ]
    },
    {
     "name": "stderr",
     "output_type": "stream",
     "text": [
      " 94%|█████████▍| 254/270 [40:28<02:36,  9.75s/it]"
     ]
    },
    {
     "name": "stdout",
     "output_type": "stream",
     "text": [
      "[INFO] EPOCH: 254/270\n",
      "Train loss: 0.310843, Test loss: 6.9189\n"
     ]
    },
    {
     "name": "stderr",
     "output_type": "stream",
     "text": [
      " 94%|█████████▍| 255/270 [40:38<02:26,  9.74s/it]"
     ]
    },
    {
     "name": "stdout",
     "output_type": "stream",
     "text": [
      "[INFO] EPOCH: 255/270\n",
      "Train loss: 0.291304, Test loss: 7.2152\n"
     ]
    },
    {
     "name": "stderr",
     "output_type": "stream",
     "text": [
      " 95%|█████████▍| 256/270 [40:48<02:16,  9.73s/it]"
     ]
    },
    {
     "name": "stdout",
     "output_type": "stream",
     "text": [
      "[INFO] EPOCH: 256/270\n",
      "Train loss: 0.301343, Test loss: 7.2568\n"
     ]
    },
    {
     "name": "stderr",
     "output_type": "stream",
     "text": [
      " 95%|█████████▌| 257/270 [40:57<02:06,  9.72s/it]"
     ]
    },
    {
     "name": "stdout",
     "output_type": "stream",
     "text": [
      "[INFO] EPOCH: 257/270\n",
      "Train loss: 0.287140, Test loss: 7.3236\n"
     ]
    },
    {
     "name": "stderr",
     "output_type": "stream",
     "text": [
      " 96%|█████████▌| 258/270 [41:07<01:56,  9.70s/it]"
     ]
    },
    {
     "name": "stdout",
     "output_type": "stream",
     "text": [
      "[INFO] EPOCH: 258/270\n",
      "Train loss: 0.280437, Test loss: 7.4146\n"
     ]
    },
    {
     "name": "stderr",
     "output_type": "stream",
     "text": [
      " 96%|█████████▌| 259/270 [41:17<01:47,  9.74s/it]"
     ]
    },
    {
     "name": "stdout",
     "output_type": "stream",
     "text": [
      "[INFO] EPOCH: 259/270\n",
      "Train loss: 0.298235, Test loss: 7.2057\n"
     ]
    },
    {
     "name": "stderr",
     "output_type": "stream",
     "text": [
      " 96%|█████████▋| 260/270 [41:27<01:37,  9.75s/it]"
     ]
    },
    {
     "name": "stdout",
     "output_type": "stream",
     "text": [
      "[INFO] EPOCH: 260/270\n",
      "Train loss: 0.298911, Test loss: 7.1084\n"
     ]
    },
    {
     "name": "stderr",
     "output_type": "stream",
     "text": [
      " 97%|█████████▋| 261/270 [41:36<01:27,  9.74s/it]"
     ]
    },
    {
     "name": "stdout",
     "output_type": "stream",
     "text": [
      "[INFO] EPOCH: 261/270\n",
      "Train loss: 0.466396, Test loss: 5.1714\n"
     ]
    },
    {
     "name": "stderr",
     "output_type": "stream",
     "text": [
      " 97%|█████████▋| 262/270 [41:46<01:18,  9.76s/it]"
     ]
    },
    {
     "name": "stdout",
     "output_type": "stream",
     "text": [
      "[INFO] EPOCH: 262/270\n",
      "Train loss: 0.693400, Test loss: 5.1961\n"
     ]
    },
    {
     "name": "stderr",
     "output_type": "stream",
     "text": [
      " 97%|█████████▋| 263/270 [41:56<01:08,  9.75s/it]"
     ]
    },
    {
     "name": "stdout",
     "output_type": "stream",
     "text": [
      "[INFO] EPOCH: 263/270\n",
      "Train loss: 0.476265, Test loss: 5.8303\n"
     ]
    },
    {
     "name": "stderr",
     "output_type": "stream",
     "text": [
      " 98%|█████████▊| 264/270 [42:06<00:58,  9.72s/it]"
     ]
    },
    {
     "name": "stdout",
     "output_type": "stream",
     "text": [
      "[INFO] EPOCH: 264/270\n",
      "Train loss: 0.338649, Test loss: 6.3251\n"
     ]
    },
    {
     "name": "stderr",
     "output_type": "stream",
     "text": [
      " 98%|█████████▊| 265/270 [42:15<00:48,  9.74s/it]"
     ]
    },
    {
     "name": "stdout",
     "output_type": "stream",
     "text": [
      "[INFO] EPOCH: 265/270\n",
      "Train loss: 0.301394, Test loss: 6.9771\n"
     ]
    },
    {
     "name": "stderr",
     "output_type": "stream",
     "text": [
      " 99%|█████████▊| 266/270 [42:25<00:38,  9.72s/it]"
     ]
    },
    {
     "name": "stdout",
     "output_type": "stream",
     "text": [
      "[INFO] EPOCH: 266/270\n",
      "Train loss: 0.279596, Test loss: 7.2715\n"
     ]
    },
    {
     "name": "stderr",
     "output_type": "stream",
     "text": [
      " 99%|█████████▉| 267/270 [42:35<00:29,  9.72s/it]"
     ]
    },
    {
     "name": "stdout",
     "output_type": "stream",
     "text": [
      "[INFO] EPOCH: 267/270\n",
      "Train loss: 0.262644, Test loss: 7.6858\n"
     ]
    },
    {
     "name": "stderr",
     "output_type": "stream",
     "text": [
      " 99%|█████████▉| 268/270 [42:44<00:19,  9.72s/it]"
     ]
    },
    {
     "name": "stdout",
     "output_type": "stream",
     "text": [
      "[INFO] EPOCH: 268/270\n",
      "Train loss: 0.275517, Test loss: 7.6950\n"
     ]
    },
    {
     "name": "stderr",
     "output_type": "stream",
     "text": [
      "100%|█████████▉| 269/270 [42:54<00:09,  9.71s/it]"
     ]
    },
    {
     "name": "stdout",
     "output_type": "stream",
     "text": [
      "[INFO] EPOCH: 269/270\n",
      "Train loss: 0.271092, Test loss: 7.4854\n"
     ]
    },
    {
     "name": "stderr",
     "output_type": "stream",
     "text": [
      "100%|██████████| 270/270 [43:04<00:00,  9.57s/it]"
     ]
    },
    {
     "name": "stdout",
     "output_type": "stream",
     "text": [
      "[INFO] EPOCH: 270/270\n",
      "Train loss: 0.481097, Test loss: 5.7615\n",
      "[INFO] total time taken to train the model: 2584.41s\n"
     ]
    },
    {
     "name": "stderr",
     "output_type": "stream",
     "text": [
      "\n"
     ]
    },
    {
     "data": {
      "image/png": "[encoded data removed]",
      "text/plain": [
       "<Figure size 432x288 with 1 Axes>"
      ]
     },
     "metadata": {},
     "output_type": "display_data"
    }
   ],
   "source": [
    "# loop over epochs\n",
    "print(\"[INFO] training the network...\")\n",
    "startTime = time.time()\n",
    "for e in tqdm(range(NUM_EPOCHS)):\n",
    "    # set the model in training mode\n",
    "    unet.train()\n",
    "    # initialize the total training and validation loss\n",
    "    totalTrainLoss = 0\n",
    "    totalTestLoss = 0\n",
    "    # loop over the training set\n",
    "    for (i, (x, y)) in enumerate(trainLoader):\n",
    "        # send the input to the device\n",
    "        (x, y) = (x.to(DEVICE), y.to(DEVICE))\n",
    "        # perform a forward pass and calculate the training loss\n",
    "        pred = unet(x)\n",
    "        loss = lossFunc(pred, y)\n",
    "        # first, zero out any previously accumulated gradients, then\n",
    "        # perform backpropagation, and then update model parameters\n",
    "        opt.zero_grad()\n",
    "        loss.backward()\n",
    "        opt.step()\n",
    "        # add the loss to the total training loss so far\n",
    "        totalTrainLoss += loss\n",
    "      # switch off autograd\n",
    "    with torch.no_grad():\n",
    "        # set the model in evaluation mode\n",
    "        unet.eval()\n",
    "        # loop over the validation set\n",
    "        maximum_mask_vals = []\n",
    "        minimum_mask_vals = []\n",
    "        for (x, y) in testLoader:\n",
    "            # send the input to the device\n",
    "            (x, y) = (x.to(DEVICE), y.to(DEVICE))\n",
    "            # make the predictions and calculate the validation loss\n",
    "            pred = unet(x)\n",
    "            minimum_mask_vals.append(int(pred.min()))\n",
    "            maximum_mask_vals.append(int(pred.max()))\n",
    "            totalTestLoss += lossFunc(pred, y)\n",
    "    # calculate the average training and validation loss\n",
    "    avgTrainLoss = totalTrainLoss / trainSteps\n",
    "    avgTestLoss = totalTestLoss / testSteps\n",
    "    avgTrainLoss = avgTrainLoss.cpu().detach().item()\n",
    "    avgTestLoss = avgTestLoss.cpu().detach().item()\n",
    "    # Save model if best model so far\n",
    "    if H['test_loss'] and avgTestLoss < min(H['test_loss']):\n",
    "        torch.save(unet, OUTPUT_MODEL_PATH)\n",
    "    # update our training history\n",
    "    H[\"train_loss\"].append(avgTrainLoss)\n",
    "    H[\"test_loss\"].append(avgTestLoss)\n",
    "    # print the model training and validation information\n",
    "    print(\"[INFO] EPOCH: {}/{}\".format(e + 1, NUM_EPOCHS))\n",
    "    print(\"Train loss: {:.6f}, Test loss: {:.4f}\".format(\n",
    "      avgTrainLoss, avgTestLoss))\n",
    "# display the total time needed to perform the training\n",
    "endTime = time.time()\n",
    "print(\"[INFO] total time taken to train the model: {:.2f}s\".format(\n",
    "  endTime - startTime))\n",
    "\n",
    "\n",
    "# plot the training loss\n",
    "plt.style.use(\"ggplot\")\n",
    "plt.figure()\n",
    "plt.plot(H[\"train_loss\"], label=\"train_loss\")\n",
    "plt.plot(H[\"test_loss\"], label=\"test_loss\")\n",
    "plt.title(f\"Training Loss {_output_model_name}\")\n",
    "plt.xlabel(\"Epoch #\")\n",
    "plt.ylabel(\"Loss\")\n",
    "plt.legend(loc=\"lower left\")\n",
    "plt.savefig(PLOT_PATH)\n",
    "# serialize the model to disk\n",
    "# torch.save(unet, OUTPUT_MODEL_PATH)\n",
    "unet = torch.load(OUTPUT_MODEL_PATH).to(DEVICE)\n",
    "\n"
   ]
  },
  {
   "cell_type": "code",
   "execution_count": 61,
   "metadata": {
    "colab": {
     "base_uri": "https://localhost:8080/",
     "height": 35
    },
    "executionInfo": {
     "elapsed": 9,
     "status": "ok",
     "timestamp": 1687117299271,
     "user": {
      "displayName": "Ivan Klabučar",
      "userId": "04386316414841804865"
     },
     "user_tz": -120
    },
    "id": "QGEhtxUhUhKs",
    "outputId": "42f61fa9-7a57-45ab-95e4-501cd69992ae"
   },
   "outputs": [
    {
     "data": {
      "text/plain": [
       "'/data/ForestSegmentationOutput/3percent_smoothly_weighted_0_weight_0.55_max_complexity=256_unet_nks_13_class_forest_270_epoch_0.0005_lr_0.0001_wd.pth'"
      ]
     },
     "execution_count": 61,
     "metadata": {},
     "output_type": "execute_result"
    }
   ],
   "source": [
    "OUTPUT_MODEL_PATH"
   ]
  },
  {
   "cell_type": "code",
   "execution_count": 62,
   "metadata": {
    "colab": {
     "base_uri": "https://localhost:8080/"
    },
    "id": "vsVlU_Zus4xx",
    "outputId": "46d8db45-897c-4584-d814-6fb1ad254d0e"
   },
   "outputs": [
    {
     "name": "stdout",
     "output_type": "stream",
     "text": [
      "[INFO] load up 3percent_smoothly_weighted_0_weight_0.55_max_complexity=256_unet_nks_13_class_forest_270_epoch_0.0005_lr_0.0001_wd and testing on nks\n",
      "predicted counts: (array([ 0,  1,  2,  3,  4,  7,  8,  9, 10, 11]), array([  257597, 12645795, 55994884,     1300, 38504240, 34892214,\n",
      "        7360766, 20816963, 17480772,  2362013]))\n",
      "ground_truth counts: (array([ 0,  1,  2,  3,  4,  5,  6,  7,  8,  9, 10, 11]), array([ 8825114, 21552685, 29659142,  5230464, 33901442,   545771,\n",
      "        2161609, 54155759,  3710859, 19510814,  7521982,  3540903]))\n",
      "[INFO] load up 3percent_smoothly_weighted_0_weight_0.55_max_complexity=256_unet_nks_13_class_forest_270_epoch_0.0005_lr_0.0001_wd and testing on train_polygons\n",
      "predicted counts: (array([ 0,  1,  2,  3,  4,  7,  8,  9, 10, 11]), array([  13978, 1202769, 7273172,     383, 5492325, 5013399, 2083411,\n",
      "       3023567,  993416,   69404]))\n",
      "ground_truth counts: (array([ 0,  1,  2,  3,  4,  5,  6,  7,  8,  9, 10, 11, 12]), array([2781905, 2341592, 2343347,  698684, 3511157,  881135, 1054556,\n",
      "       5901863, 1959774, 1751434,  778852,  836569,  324956]))\n",
      "[INFO] load up 3percent_smoothly_weighted_0_weight_0.55_max_complexity=256_unet_nks_13_class_forest_270_epoch_0.0005_lr_0.0001_wd and testing on nks_hrsume\n",
      "predicted counts: (array([ 0,  1,  2,  3,  4,  7,  8,  9, 10, 11]), array([  244566, 12737289, 56052093,     1300, 38680074, 35013311,\n",
      "        7360484, 20864868, 17523864,  2362983]))\n",
      "ground_truth counts: (array([ 0,  1,  2,  3,  4,  5,  6,  7,  8, 10, 11, 12]), array([ 8657718, 12497589, 40015895,  5244709, 53569117, 12415389,\n",
      "       14864449, 27584527,  3223722,  2199230,  1331381,  9237106]))\n"
     ]
    },
    {
     "data": {
      "image/png": "[encoded data removed]",
      "text/plain": [
       "<Figure size 792x792 with 2 Axes>"
      ]
     },
     "metadata": {},
     "output_type": "display_data"
    },
    {
     "data": {
      "image/png": "[encoded data removed]",
      "text/plain": [
       "<Figure size 792x792 with 2 Axes>"
      ]
     },
     "metadata": {},
     "output_type": "display_data"
    },
    {
     "data": {
      "image/png": "[encoded data removed]",
      "text/plain": [
       "<Figure size 792x792 with 2 Axes>"
      ]
     },
     "metadata": {},
     "output_type": "display_data"
    }
   ],
   "source": [
    "# Testing models on other daatsets\n",
    "# define transformations\n",
    "img_transforms = transforms.Compose([\n",
    "   # transforms.ToPILImage(),\n",
    " \t  transforms.Resize((INPUT_IMAGE_HEIGHT, INPUT_IMAGE_WIDTH), antialias=True),\n",
    "\t # transforms.ToTensor()\n",
    "])\n",
    "\n",
    "mask_transforms = transforms.Compose([\n",
    "    transforms.ToPILImage(),\n",
    " \t  transforms.Resize((INPUT_IMAGE_HEIGHT, INPUT_IMAGE_WIDTH), interpolation=torchvision.transforms.InterpolationMode.NEAREST),\n",
    "\t  transforms.ToTensor()\n",
    "])\n",
    "\n",
    "Images_nks, Masks_nks = load_img_and_mask_paths(mask_version='nks', single_set=True)\n",
    "Images_nks_hrsume, Masks_nks_hrsume = load_img_and_mask_paths(mask_version='nks_hrsume', single_set=True)\n",
    "Images_train_polygons, Masks_train_polygons = load_img_and_mask_paths(mask_version='train_polygons', single_set=True)\n",
    "\n",
    "\n",
    "test_sets = {\n",
    "    'nks': ForestSegmentationDataset(\n",
    "              channels=list(np.arange(8)),\n",
    "              imagePaths=Images_nks,\n",
    "              maskPaths=Masks_nks,\n",
    "              transforms_img=img_transforms,\n",
    "              transforms_mask=mask_transforms\n",
    "          ),\n",
    "    'nks_hrsume': ForestSegmentationDataset(\n",
    "                      channels=list(np.arange(8)),\n",
    "                      imagePaths=Images_nks_hrsume,\n",
    "                      maskPaths=Masks_nks_hrsume,\n",
    "                      transforms_img=img_transforms,\n",
    "                      transforms_mask=mask_transforms\n",
    "                  ),\n",
    "    'train_polygons': ForestSegmentationDataset(\n",
    "                          channels=list(np.arange(8)),\n",
    "                          imagePaths=Images_train_polygons,\n",
    "                          maskPaths=Masks_train_polygons,\n",
    "                          transforms_img=img_transforms,\n",
    "                          transforms_mask=mask_transforms\n",
    "                      )\n",
    "}\n",
    "\n",
    "\n",
    "models = {\n",
    "    'nks': os.path.join(dir_prefix, 'ForestSegmentationOutput', 'unet_nks_12_class_forest_70_epoch.pth'),\n",
    "    'nks_hrsume': os.path.join(dir_prefix, 'ForestSegmentationOutput', 'unet_nks_hrsume_12_class_forest_70_epoch.pth'),\n",
    "    'train_polygons': os.path.join(dir_prefix, 'ForestSegmentationOutput', 'unet_train_polygons_12_class_forest_70_epoch.pth'),\n",
    "    'nks_140epoch': os.path.join(dir_prefix, 'ForestSegmentationOutput', 'unet_nks_13_class_forest_70+70_epoch.pth'),\n",
    "    'nks_more_complex_70_epoch_0.0007_lr_0.0001_wd': os.path.join(dir_prefix, 'ForestSegmentationOutput', 'more_complex_unet_nks_13_class_forest_70_epoch_0.0007_lr_0.0001_wd.pth'),\n",
    "    _output_model_name: OUTPUT_MODEL_PATH\n",
    "}\n",
    "\n",
    "for dataset_name in ['nks', 'train_polygons', 'nks_hrsume']:\n",
    "    Loader = DataLoader(test_sets[dataset_name], shuffle=False,\n",
    "                            batch_size=1, pin_memory=PIN_MEMORY,\n",
    "                            num_workers=os.cpu_count())\n",
    "    for model_name in [_output_model_name]:\n",
    "        print(f\"[INFO] load up {model_name} and testing on {dataset_name}\")\n",
    "        unet = torch.load(models[model_name]).to(DEVICE)\n",
    "\n",
    "        ground_truth = np.array([], dtype=np.int32)\n",
    "        predicted = np.array([], dtype=np.int32)\n",
    "        unet.eval()\n",
    "        with torch.no_grad():\n",
    "          for (i, (input, target)) in enumerate(Loader):\n",
    "              (input, target) = (input.to(DEVICE), target.to(DEVICE))\n",
    "              # make the predictions and calculate the validation loss\n",
    "              pred = unet(input)\n",
    "              pred = pred[0]\n",
    "              pred_class = pred.softmax(dim=0).argmax(dim=0)\n",
    "\n",
    "              ground_truth = np.concatenate([ground_truth, target[0].flatten().cpu().numpy()])\n",
    "              predicted = np.concatenate([predicted, pred_class.flatten().cpu().numpy()])\n",
    "\n",
    "        cf_matrix = confusion_matrix(ground_truth, predicted, labels=np.arange(0,13))\n",
    "        print(f\"predicted counts: {np.unique(predicted, return_counts=True)}\")\n",
    "        print(f\"ground_truth counts: {np.unique(ground_truth, return_counts=True)}\")\n",
    "\n",
    "\n",
    "        sns.set(font_scale=0.6)\n",
    "        make_confusion_matrix(cf_matrix,\n",
    "                      group_names=None,\n",
    "                      count=True,\n",
    "                      percent=True,\n",
    "                      cbar=True,\n",
    "                      xyticks=True,\n",
    "                      xyplotlabels=True,\n",
    "                      sum_stats=True,\n",
    "                      figsize=(11,11),\n",
    "                      cmap='Blues',\n",
    "                      title=f\"{model_name} model on {dataset_name} dataset CFM\")\n"
   ]
  },
  {
   "cell_type": "code",
   "execution_count": 63,
   "metadata": {},
   "outputs": [],
   "source": [
    "exit(0)"
   ]
  },
  {
   "cell_type": "code",
   "execution_count": null,
   "metadata": {
    "id": "6Yz_09_nrxbS"
   },
   "outputs": [],
   "source": [
    "from google.colab import runtime\n"
   ]
  },
  {
   "cell_type": "code",
   "execution_count": null,
   "metadata": {
    "id": "s8uHRH63H7QF"
   },
   "outputs": [],
   "source": [
    "runtime.unassign()"
   ]
  }
 ],
 "metadata": {
  "accelerator": "GPU",
  "colab": {
   "authorship_tag": "ABX9TyOrNFUNxo+sXxfgZPJMtLFh",
   "gpuType": "T4",
   "provenance": []
  },
  "gpuClass": "standard",
  "kernelspec": {
   "display_name": "Python 3",
   "language": "python",
   "name": "python3"
  },
  "language_info": {
   "codemirror_mode": {
    "name": "ipython",
    "version": 3
   },
   "file_extension": ".py",
   "mimetype": "text/x-python",
   "name": "python",
   "nbconvert_exporter": "python",
   "pygments_lexer": "ipython3",
   "version": "3.8.5"
  }
 },
 "nbformat": 4,
 "nbformat_minor": 4
}
