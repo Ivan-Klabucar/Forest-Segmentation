{
 "cells": [
  {
   "cell_type": "code",
   "execution_count": 1,
   "id": "1246aac3-0f09-4b00-ab53-e59b8c48fbc4",
   "metadata": {},
   "outputs": [],
   "source": [
    "import os\n",
    "import seaborn as sns\n",
    "import pandas as pd\n",
    "import cv2\n",
    "from imutils import paths\n",
    "from tqdm import tqdm\n",
    "import time\n",
    "import numpy as np\n",
    "import random\n",
    "from os.path import exists\n",
    "from datetime import datetime\n",
    "from pathlib import Path\n",
    "import sys\n",
    "import tqdm"
   ]
  },
  {
   "cell_type": "code",
   "execution_count": 2,
   "id": "616a74e4-ed3a-40d4-9a23-f62e6deeff55",
   "metadata": {},
   "outputs": [],
   "source": [
    "nks_mask_path = '/data/raw_forest/nks.tif'\n",
    "nks = cv2.imread(nks_mask_path, cv2.IMREAD_UNCHANGED)"
   ]
  },
  {
   "cell_type": "code",
   "execution_count": 3,
   "id": "d4918a5f-7101-4f41-af38-6b2d232e8baa",
   "metadata": {},
   "outputs": [],
   "source": [
    "tp_mask_path = '/data/raw_forest/train_polygons.tif'\n",
    "tp = cv2.imread(tp_mask_path, cv2.IMREAD_UNCHANGED)"
   ]
  },
  {
   "cell_type": "code",
   "execution_count": 19,
   "id": "d0ed29fd-f819-4150-90c3-18fc8f197e15",
   "metadata": {},
   "outputs": [],
   "source": [
    "def give_count_df(mask):\n",
    "    unique, counts = np.unique(mask, return_counts=True)\n",
    "    return pd.DataFrame({'class': unique, 'occurances': counts})"
   ]
  },
  {
   "cell_type": "code",
   "execution_count": 33,
   "id": "72447b18-8b6e-46de-9e26-bf3c5d81d4a3",
   "metadata": {},
   "outputs": [],
   "source": [
    "nks_cnts = give_count_df(nks)\n",
    "tp_cnts = give_count_df(tp)"
   ]
  },
  {
   "cell_type": "code",
   "execution_count": 34,
   "id": "df7f7fc6-1043-4d29-9006-3c16117d7e64",
   "metadata": {},
   "outputs": [],
   "source": [
    "nks_cnts.drop([0], inplace=True)\n",
    "nks_cnts['Share (%)'] = (nks_cnts.occurances / nks_cnts.occurances.sum())*100"
   ]
  },
  {
   "cell_type": "code",
   "execution_count": 46,
   "id": "c32f34c3-88bf-4969-84db-c9270452a7f8",
   "metadata": {},
   "outputs": [
    {
     "data": {
      "text/html": [
       "<style  type=\"text/css\" >\n",
       "</style><table id=\"T_66b22_\" ><caption>nks</caption><thead>    <tr>        <th class=\"blank level0\" ></th>        <th class=\"col_heading level0 col0\" >class</th>        <th class=\"col_heading level0 col1\" >Share (%)</th>    </tr></thead><tbody>\n",
       "                <tr>\n",
       "                        <th id=\"T_66b22_level0_row0\" class=\"row_heading level0 row0\" >1</th>\n",
       "                        <td id=\"T_66b22_row0_col0\" class=\"data row0 col0\" >1</td>\n",
       "                        <td id=\"T_66b22_row0_col1\" class=\"data row0 col1\" >13.28</td>\n",
       "            </tr>\n",
       "            <tr>\n",
       "                        <th id=\"T_66b22_level0_row1\" class=\"row_heading level0 row1\" >2</th>\n",
       "                        <td id=\"T_66b22_row1_col0\" class=\"data row1 col0\" >2</td>\n",
       "                        <td id=\"T_66b22_row1_col1\" class=\"data row1 col1\" >16.05</td>\n",
       "            </tr>\n",
       "            <tr>\n",
       "                        <th id=\"T_66b22_level0_row2\" class=\"row_heading level0 row2\" >3</th>\n",
       "                        <td id=\"T_66b22_row2_col0\" class=\"data row2 col0\" >3</td>\n",
       "                        <td id=\"T_66b22_row2_col1\" class=\"data row2 col1\" >2.89</td>\n",
       "            </tr>\n",
       "            <tr>\n",
       "                        <th id=\"T_66b22_level0_row3\" class=\"row_heading level0 row3\" >4</th>\n",
       "                        <td id=\"T_66b22_row3_col0\" class=\"data row3 col0\" >4</td>\n",
       "                        <td id=\"T_66b22_row3_col1\" class=\"data row3 col1\" >18.49</td>\n",
       "            </tr>\n",
       "            <tr>\n",
       "                        <th id=\"T_66b22_level0_row4\" class=\"row_heading level0 row4\" >5</th>\n",
       "                        <td id=\"T_66b22_row4_col0\" class=\"data row4 col0\" >5</td>\n",
       "                        <td id=\"T_66b22_row4_col1\" class=\"data row4 col1\" >0.30</td>\n",
       "            </tr>\n",
       "            <tr>\n",
       "                        <th id=\"T_66b22_level0_row5\" class=\"row_heading level0 row5\" >6</th>\n",
       "                        <td id=\"T_66b22_row5_col0\" class=\"data row5 col0\" >6</td>\n",
       "                        <td id=\"T_66b22_row5_col1\" class=\"data row5 col1\" >1.12</td>\n",
       "            </tr>\n",
       "            <tr>\n",
       "                        <th id=\"T_66b22_level0_row6\" class=\"row_heading level0 row6\" >7</th>\n",
       "                        <td id=\"T_66b22_row6_col0\" class=\"data row6 col0\" >7</td>\n",
       "                        <td id=\"T_66b22_row6_col1\" class=\"data row6 col1\" >29.28</td>\n",
       "            </tr>\n",
       "            <tr>\n",
       "                        <th id=\"T_66b22_level0_row7\" class=\"row_heading level0 row7\" >8</th>\n",
       "                        <td id=\"T_66b22_row7_col0\" class=\"data row7 col0\" >8</td>\n",
       "                        <td id=\"T_66b22_row7_col1\" class=\"data row7 col1\" >1.98</td>\n",
       "            </tr>\n",
       "            <tr>\n",
       "                        <th id=\"T_66b22_level0_row8\" class=\"row_heading level0 row8\" >9</th>\n",
       "                        <td id=\"T_66b22_row8_col0\" class=\"data row8 col0\" >9</td>\n",
       "                        <td id=\"T_66b22_row8_col1\" class=\"data row8 col1\" >10.30</td>\n",
       "            </tr>\n",
       "            <tr>\n",
       "                        <th id=\"T_66b22_level0_row9\" class=\"row_heading level0 row9\" >10</th>\n",
       "                        <td id=\"T_66b22_row9_col0\" class=\"data row9 col0\" >10</td>\n",
       "                        <td id=\"T_66b22_row9_col1\" class=\"data row9 col1\" >4.04</td>\n",
       "            </tr>\n",
       "            <tr>\n",
       "                        <th id=\"T_66b22_level0_row10\" class=\"row_heading level0 row10\" >11</th>\n",
       "                        <td id=\"T_66b22_row10_col0\" class=\"data row10 col0\" >11</td>\n",
       "                        <td id=\"T_66b22_row10_col1\" class=\"data row10 col1\" >2.27</td>\n",
       "            </tr>\n",
       "    </tbody></table>"
      ],
      "text/plain": [
       "<pandas.io.formats.style.Styler at 0x7faa7df14700>"
      ]
     },
     "execution_count": 46,
     "metadata": {},
     "output_type": "execute_result"
    }
   ],
   "source": [
    "nks_cnts[['class', 'Share (%)']].style \\\n",
    "                               .format('{:.2f}', subset=['Share (%)'])\\\n",
    "                               .format('{:.0f}', subset=['class'])\\\n",
    "                               .set_caption(\"nks\")"
   ]
  },
  {
   "cell_type": "code",
   "execution_count": 36,
   "id": "43fa7b4e-7f92-4ffb-b33b-82e2392e367b",
   "metadata": {},
   "outputs": [
    {
     "data": {
      "text/plain": [
       "100.0"
      ]
     },
     "execution_count": 36,
     "metadata": {},
     "output_type": "execute_result"
    }
   ],
   "source": [
    "nks_cnts['Share (%)'].sum()"
   ]
  },
  {
   "cell_type": "code",
   "execution_count": 38,
   "id": "15887206-7e95-47d7-9e02-4206e82973bc",
   "metadata": {},
   "outputs": [],
   "source": [
    "tp_cnts.drop([0,12], inplace=True)\n",
    "tp_cnts['Share (%)'] = (tp_cnts.occurances / tp_cnts.occurances.sum())*100"
   ]
  },
  {
   "cell_type": "code",
   "execution_count": 42,
   "id": "43d95c77-d9c9-4038-878b-f776030f3657",
   "metadata": {},
   "outputs": [
    {
     "data": {
      "text/html": [
       "<style  type=\"text/css\" >\n",
       "</style><table id=\"T_0b0c7_\" ><caption>train_polygons</caption><thead>    <tr>        <th class=\"blank level0\" ></th>        <th class=\"col_heading level0 col0\" >class</th>        <th class=\"col_heading level0 col1\" >Share (%)</th>    </tr></thead><tbody>\n",
       "                <tr>\n",
       "                        <th id=\"T_0b0c7_level0_row0\" class=\"row_heading level0 row0\" >1</th>\n",
       "                        <td id=\"T_0b0c7_row0_col0\" class=\"data row0 col0\" >1</td>\n",
       "                        <td id=\"T_0b0c7_row0_col1\" class=\"data row0 col1\" >10.26</td>\n",
       "            </tr>\n",
       "            <tr>\n",
       "                        <th id=\"T_0b0c7_level0_row1\" class=\"row_heading level0 row1\" >2</th>\n",
       "                        <td id=\"T_0b0c7_row1_col0\" class=\"data row1 col0\" >2</td>\n",
       "                        <td id=\"T_0b0c7_row1_col1\" class=\"data row1 col1\" >10.97</td>\n",
       "            </tr>\n",
       "            <tr>\n",
       "                        <th id=\"T_0b0c7_level0_row2\" class=\"row_heading level0 row2\" >3</th>\n",
       "                        <td id=\"T_0b0c7_row2_col0\" class=\"data row2 col0\" >3</td>\n",
       "                        <td id=\"T_0b0c7_row2_col1\" class=\"data row2 col1\" >3.14</td>\n",
       "            </tr>\n",
       "            <tr>\n",
       "                        <th id=\"T_0b0c7_level0_row3\" class=\"row_heading level0 row3\" >4</th>\n",
       "                        <td id=\"T_0b0c7_row3_col0\" class=\"data row3 col0\" >4</td>\n",
       "                        <td id=\"T_0b0c7_row3_col1\" class=\"data row3 col1\" >16.78</td>\n",
       "            </tr>\n",
       "            <tr>\n",
       "                        <th id=\"T_0b0c7_level0_row4\" class=\"row_heading level0 row4\" >5</th>\n",
       "                        <td id=\"T_0b0c7_row4_col0\" class=\"data row4 col0\" >5</td>\n",
       "                        <td id=\"T_0b0c7_row4_col1\" class=\"data row4 col1\" >3.87</td>\n",
       "            </tr>\n",
       "            <tr>\n",
       "                        <th id=\"T_0b0c7_level0_row5\" class=\"row_heading level0 row5\" >6</th>\n",
       "                        <td id=\"T_0b0c7_row5_col0\" class=\"data row5 col0\" >6</td>\n",
       "                        <td id=\"T_0b0c7_row5_col1\" class=\"data row5 col1\" >4.54</td>\n",
       "            </tr>\n",
       "            <tr>\n",
       "                        <th id=\"T_0b0c7_level0_row6\" class=\"row_heading level0 row6\" >7</th>\n",
       "                        <td id=\"T_0b0c7_row6_col0\" class=\"data row6 col0\" >7</td>\n",
       "                        <td id=\"T_0b0c7_row6_col1\" class=\"data row6 col1\" >27.45</td>\n",
       "            </tr>\n",
       "            <tr>\n",
       "                        <th id=\"T_0b0c7_level0_row7\" class=\"row_heading level0 row7\" >8</th>\n",
       "                        <td id=\"T_0b0c7_row7_col0\" class=\"data row7 col0\" >8</td>\n",
       "                        <td id=\"T_0b0c7_row7_col1\" class=\"data row7 col1\" >8.47</td>\n",
       "            </tr>\n",
       "            <tr>\n",
       "                        <th id=\"T_0b0c7_level0_row8\" class=\"row_heading level0 row8\" >9</th>\n",
       "                        <td id=\"T_0b0c7_row8_col0\" class=\"data row8 col0\" >9</td>\n",
       "                        <td id=\"T_0b0c7_row8_col1\" class=\"data row8 col1\" >7.51</td>\n",
       "            </tr>\n",
       "            <tr>\n",
       "                        <th id=\"T_0b0c7_level0_row9\" class=\"row_heading level0 row9\" >10</th>\n",
       "                        <td id=\"T_0b0c7_row9_col0\" class=\"data row9 col0\" >10</td>\n",
       "                        <td id=\"T_0b0c7_row9_col1\" class=\"data row9 col1\" >3.52</td>\n",
       "            </tr>\n",
       "            <tr>\n",
       "                        <th id=\"T_0b0c7_level0_row10\" class=\"row_heading level0 row10\" >11</th>\n",
       "                        <td id=\"T_0b0c7_row10_col0\" class=\"data row10 col0\" >11</td>\n",
       "                        <td id=\"T_0b0c7_row10_col1\" class=\"data row10 col1\" >3.49</td>\n",
       "            </tr>\n",
       "    </tbody></table>"
      ],
      "text/plain": [
       "<pandas.io.formats.style.Styler at 0x7faa7df02f10>"
      ]
     },
     "execution_count": 42,
     "metadata": {},
     "output_type": "execute_result"
    }
   ],
   "source": [
    "tp_cnts[['class', 'Share (%)']].style \\\n",
    "                               .format('{:.2f}', subset=['Share (%)'])\\\n",
    "                               .format('{:.0f}', subset=['class'])\\\n",
    "                               .set_caption(\"train_polygons\")"
   ]
  },
  {
   "cell_type": "code",
   "execution_count": 44,
   "id": "25bd8950-b353-4304-81ff-382ea2056179",
   "metadata": {},
   "outputs": [
    {
     "data": {
      "text/plain": [
       "99.99999999999999"
      ]
     },
     "execution_count": 44,
     "metadata": {},
     "output_type": "execute_result"
    }
   ],
   "source": [
    "tp_cnts['Share (%)'].sum()"
   ]
  },
  {
   "cell_type": "code",
   "execution_count": null,
   "id": "8dd7aec2-b068-4b41-9b1d-4241984f9f32",
   "metadata": {},
   "outputs": [],
   "source": []
  }
 ],
 "metadata": {
  "kernelspec": {
   "display_name": "Python 3",
   "language": "python",
   "name": "python3"
  },
  "language_info": {
   "codemirror_mode": {
    "name": "ipython",
    "version": 3
   },
   "file_extension": ".py",
   "mimetype": "text/x-python",
   "name": "python",
   "nbconvert_exporter": "python",
   "pygments_lexer": "ipython3",
   "version": "3.8.5"
  }
 },
 "nbformat": 4,
 "nbformat_minor": 5
}
