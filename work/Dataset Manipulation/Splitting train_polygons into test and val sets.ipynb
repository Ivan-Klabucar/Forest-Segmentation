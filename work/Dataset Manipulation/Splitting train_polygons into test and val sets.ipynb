{
 "cells": [
  {
   "cell_type": "code",
   "execution_count": 1,
   "metadata": {
    "colab": {
     "base_uri": "https://localhost:8080/"
    },
    "executionInfo": {
     "elapsed": 22820,
     "status": "ok",
     "timestamp": 1684092982953,
     "user": {
      "displayName": "Ivan Klabučar",
      "userId": "04386316414841804865"
     },
     "user_tz": -120
    },
    "id": "d2vE9zgT7A5q",
    "outputId": "de3493e6-2882-4ed0-bf63-2ea8d9f34a57"
   },
   "outputs": [
    {
     "name": "stdout",
     "output_type": "stream",
     "text": [
      "Requirement already satisfied: imutils in /usr/local/lib/python3.8/dist-packages (0.5.4)\n",
      "\u001b[33mWARNING: Running pip as the 'root' user can result in broken permissions and conflicting behaviour with the system package manager. It is recommended to use a virtual environment instead: https://pip.pypa.io/warnings/venv\u001b[0m\n",
      "\u001b[33mWARNING: You are using pip version 21.1.3; however, version 23.3.1 is available.\n",
      "You should consider upgrading via the '/usr/bin/python3 -m pip install --upgrade pip' command.\u001b[0m\n",
      "Requirement already satisfied: shortuuid in /usr/local/lib/python3.8/dist-packages (1.0.1)\n",
      "\u001b[33mWARNING: Running pip as the 'root' user can result in broken permissions and conflicting behaviour with the system package manager. It is recommended to use a virtual environment instead: https://pip.pypa.io/warnings/venv\u001b[0m\n",
      "\u001b[33mWARNING: You are using pip version 21.1.3; however, version 23.3.1 is available.\n",
      "You should consider upgrading via the '/usr/bin/python3 -m pip install --upgrade pip' command.\u001b[0m\n"
     ]
    }
   ],
   "source": [
    "#!pip install opencv-contrib-python\n",
    "!pip install imutils\n",
    "#!pip install scikit-learn\n",
    "#!pip install tqdm\n",
    "!pip install shortuuid"
   ]
  },
  {
   "cell_type": "code",
   "execution_count": 1,
   "metadata": {
    "colab": {
     "base_uri": "https://localhost:8080/"
    },
    "executionInfo": {
     "elapsed": 6590,
     "status": "ok",
     "timestamp": 1687112336204,
     "user": {
      "displayName": "Ivan Klabučar",
      "userId": "04386316414841804865"
     },
     "user_tz": -120
    },
    "id": "wOXbdDNs53Eh",
    "outputId": "e292f3ed-64f6-4cdb-b265-4e37e97c961f"
   },
   "outputs": [],
   "source": [
    "import os\n",
    "import seaborn as sns\n",
    "import pandas as pd\n",
    "import cv2\n",
    "from sklearn.model_selection import train_test_split\n",
    "from imutils import paths\n",
    "from tqdm import tqdm\n",
    "import time\n",
    "import numpy as np\n",
    "import random\n",
    "from os.path import exists\n",
    "from datetime import datetime\n",
    "from pathlib import Path\n",
    "import sys\n",
    "import tqdm"
   ]
  },
  {
   "cell_type": "markdown",
   "metadata": {},
   "source": [
    "## Function Definitions"
   ]
  },
  {
   "cell_type": "code",
   "execution_count": 2,
   "metadata": {},
   "outputs": [],
   "source": [
    "def slice_coords(path):\n",
    "\t\tpath_no_ext = os.path.splitext(path)[0]\n",
    "\t\tcoords = os.path.basename(path_no_ext).split('_')[-2:]\n",
    "\t\treturn tuple([int(x) for x in coords])\n",
    "\n",
    "\n",
    "def filter_data_present_in_other_set(Imgs, masks, slices_to_filter_out):\n",
    "\t\tslices_to_filter_out = set([slice_coords(path) for path in slices_to_filter_out])\n",
    "\t\tfor k in Imgs:\n",
    "\t\t\t\tpaths_to_keep = [path for path in Imgs[k] if slice_coords(path) not in slices_to_filter_out]\n",
    "\t\t\t\tImgs[k] = paths_to_keep\n",
    "\n",
    "\t\tpaths_to_keep = [path for path in masks if slice_coords(path) not in slices_to_filter_out]\n",
    "\t\tmasks = paths_to_keep\n",
    "\n",
    "\t\treturn Imgs, masks\n",
    "\n",
    "## NEW WAY\n",
    "def load_img_and_mask_paths(mask_version='nks', single_set=True, TEST_SPLIT=None, RANDOM_STATE=None):\n",
    "\t\twv2_0_data = pd.read_csv(f'/data/ForestDataset8C/Dataset-wv2_0-{mask_version}.csv')\n",
    "\t\twv2_1_data = pd.read_csv(f'/data/ForestDataset8C/Dataset-wv2_1-{mask_version}.csv')\n",
    "\t\twv2_2_data = pd.read_csv(f'/data/ForestDataset8C/Dataset-wv2_2-{mask_version}.csv')\n",
    "\t\twv2_3_data = pd.read_csv(f'/data/ForestDataset8C/Dataset-wv2_3-{mask_version}.csv')\n",
    "\t\twv2_4_data = pd.read_csv(f'/data/ForestDataset8C/Dataset-wv2_4-{mask_version}.csv')\n",
    "\t\twv2_5_data = pd.read_csv(f'/data/ForestDataset8C/Dataset-wv2_5-{mask_version}.csv')\n",
    "\t\twv2_6_data = pd.read_csv(f'/data/ForestDataset8C/Dataset-wv2_6-{mask_version}.csv')\n",
    "\t\twv2_7_data = pd.read_csv(f'/data/ForestDataset8C/Dataset-wv2_7-{mask_version}.csv')\n",
    "\t\timage0Paths = list(sorted(wv2_0_data.imgPath))\n",
    "\t\timage1Paths = list(sorted(wv2_1_data.imgPath))\n",
    "\t\timage2Paths = list(sorted(wv2_2_data.imgPath))\n",
    "\t\timage3Paths = list(sorted(wv2_3_data.imgPath))\n",
    "\t\timage4Paths = list(sorted(wv2_4_data.imgPath))\n",
    "\t\timage5Paths = list(sorted(wv2_5_data.imgPath))\n",
    "\t\timage6Paths = list(sorted(wv2_6_data.imgPath))\n",
    "\t\timage7Paths = list(sorted(wv2_7_data.imgPath))\n",
    "\t\tmaskPaths = list(sorted(wv2_7_data.maskPath))\n",
    "\n",
    "\t\tl = [image0Paths,\n",
    "             image1Paths,\n",
    "             image2Paths,\n",
    "             image3Paths,\n",
    "             image4Paths,\n",
    "             image5Paths,\n",
    "             image6Paths,\n",
    "             image7Paths,\n",
    "             maskPaths]\n",
    "\t\tfor dataset in l:\n",
    "\t\t\t\tassert len(l[0]) == len(dataset), \"List of paths of diffrenet length for differen channels/mask\"\n",
    "\t\tfor i in range(len(image0Paths)):\n",
    "\t\t\t\tassert all([slice_coords(image0Paths[i]) == slice_coords(img_dataset[i]) for img_dataset in l]), \"Slices out of order for different channels/mask of dataset\"\n",
    "                \n",
    "\t\tif single_set:\n",
    "\t\t\t\tImgs = {\n",
    "\t\t\t\t\t\t0: image0Paths,\n",
    "\t\t\t\t\t\t1: image1Paths,\n",
    "\t\t\t\t\t\t2: image2Paths,\n",
    "\t\t\t\t\t\t3: image3Paths,\n",
    "\t\t\t\t\t\t4: image4Paths,\n",
    "\t\t\t\t\t\t5: image5Paths,\n",
    "\t\t\t\t\t\t6: image6Paths,\n",
    "\t\t\t\t\t\t7: image7Paths,\n",
    "\t\t\t\t}\n",
    "\t\t\t\treturn Imgs, maskPaths\n",
    "\t\tsplit = train_test_split(image0Paths,\n",
    "                                 image1Paths,\n",
    "                                 image2Paths,\n",
    "                                 image3Paths,\n",
    "                                 image4Paths,\n",
    "                                 image5Paths,\n",
    "                                 image6Paths,\n",
    "                                 image7Paths,\n",
    "                                 maskPaths,\n",
    "                                 test_size=TEST_SPLIT,\n",
    "                                 random_state=RANDOM_STATE)\n",
    "\n",
    "\t\t(trainImages0, testImages0) = split[:2]\n",
    "\t\t(trainImages1, testImages1) = split[2:4]\n",
    "\t\t(trainImages2, testImages2) = split[4:6]\n",
    "\t\t(trainImages3, testImages3) = split[6:8]\n",
    "\t\t(trainImages4, testImages4) = split[8:10]\n",
    "\t\t(trainImages5, testImages5) = split[10:12]\n",
    "\t\t(trainImages6, testImages6) = split[12:14]\n",
    "\t\t(trainImages7, testImages7) = split[14:16]\n",
    "\t\t(trainMasks, testMasks) = split[16:]\n",
    "\n",
    "\t\ttrainImages = {\n",
    "\t\t\t\t0: trainImages0,\n",
    "\t\t\t\t1: trainImages1,\n",
    "\t\t\t\t2: trainImages2,\n",
    "\t\t\t\t3: trainImages3,\n",
    "\t\t\t\t4: trainImages4,\n",
    "\t\t\t\t5: trainImages5,\n",
    "\t\t\t\t6: trainImages6,\n",
    "\t\t\t\t7: trainImages7,\n",
    "\t\t}\n",
    "\n",
    "\t\ttestImages = {\n",
    "\t\t\t\t0: testImages0,\n",
    "\t\t\t\t1: testImages1,\n",
    "\t\t\t\t2: testImages2,\n",
    "\t\t\t\t3: testImages3,\n",
    "\t\t\t\t4: testImages4,\n",
    "\t\t\t\t5: testImages5,\n",
    "\t\t\t\t6: testImages6,\n",
    "\t\t\t\t7: testImages7,\n",
    "\t\t}\n",
    "\n",
    "\t\treturn trainImages, testImages, trainMasks, testMasks"
   ]
  },
  {
   "cell_type": "code",
   "execution_count": 3,
   "metadata": {},
   "outputs": [],
   "source": [
    "def get_class_counts(paths, labels):\n",
    "    counts = {l: 0 for l in labels}\n",
    "    for path in paths:\n",
    "        mask = cv2.imread(path, cv2.IMREAD_UNCHANGED)\n",
    "        mask[mask < 0] = 0 # Background class should be zero not -3.4e+38\n",
    "        counts_in_mask = np.unique(mask, return_counts=True)\n",
    "        for i in range(len(counts_in_mask[0])):\n",
    "            counts[counts_in_mask[0][i]] += counts_in_mask[1][i]\n",
    "    return counts"
   ]
  },
  {
   "cell_type": "code",
   "execution_count": 4,
   "metadata": {},
   "outputs": [],
   "source": [
    "def get_proportions(counts):\n",
    "    df = pd.DataFrame([counts])\n",
    "    return df.div(df.sum(axis=1)*0.01, axis=0)"
   ]
  },
  {
   "cell_type": "code",
   "execution_count": 5,
   "metadata": {},
   "outputs": [],
   "source": [
    "Imgs, maskPaths = load_img_and_mask_paths(mask_version='train_polygons')\n",
    "\n",
    "counts_global = get_class_counts(paths=maskPaths, labels=range(13))\n",
    "proportions_global = get_proportions(counts_global)"
   ]
  },
  {
   "cell_type": "code",
   "execution_count": 6,
   "metadata": {},
   "outputs": [],
   "source": [
    "# Sanity check that it works"
   ]
  },
  {
   "cell_type": "code",
   "execution_count": 7,
   "metadata": {},
   "outputs": [
    {
     "data": {
      "text/plain": [
       "{0: 3496450,\n",
       " 1: 2941809,\n",
       " 2: 2945983,\n",
       " 3: 878024,\n",
       " 4: 4411736,\n",
       " 5: 1106848,\n",
       " 6: 1325334,\n",
       " 7: 7418729,\n",
       " 8: 2462666,\n",
       " 9: 2201673,\n",
       " 10: 978627,\n",
       " 11: 1051232,\n",
       " 12: 408185}"
      ]
     },
     "execution_count": 7,
     "metadata": {},
     "output_type": "execute_result"
    }
   ],
   "source": [
    "counts_global"
   ]
  },
  {
   "cell_type": "code",
   "execution_count": 8,
   "metadata": {},
   "outputs": [
    {
     "data": {
      "text/plain": [
       "31627296"
      ]
     },
     "execution_count": 8,
     "metadata": {},
     "output_type": "execute_result"
    }
   ],
   "source": [
    "# Sum of all counts\n",
    "s=0\n",
    "for k in counts_global: s+= counts_global[k]\n",
    "s"
   ]
  },
  {
   "cell_type": "code",
   "execution_count": 9,
   "metadata": {},
   "outputs": [
    {
     "data": {
      "text/html": [
       "<div>\n",
       "<style scoped>\n",
       "    .dataframe tbody tr th:only-of-type {\n",
       "        vertical-align: middle;\n",
       "    }\n",
       "\n",
       "    .dataframe tbody tr th {\n",
       "        vertical-align: top;\n",
       "    }\n",
       "\n",
       "    .dataframe thead th {\n",
       "        text-align: right;\n",
       "    }\n",
       "</style>\n",
       "<table border=\"1\" class=\"dataframe\">\n",
       "  <thead>\n",
       "    <tr style=\"text-align: right;\">\n",
       "      <th></th>\n",
       "      <th>0</th>\n",
       "      <th>1</th>\n",
       "      <th>2</th>\n",
       "      <th>3</th>\n",
       "      <th>4</th>\n",
       "      <th>5</th>\n",
       "      <th>6</th>\n",
       "      <th>7</th>\n",
       "      <th>8</th>\n",
       "      <th>9</th>\n",
       "      <th>10</th>\n",
       "      <th>11</th>\n",
       "      <th>12</th>\n",
       "    </tr>\n",
       "  </thead>\n",
       "  <tbody>\n",
       "    <tr>\n",
       "      <th>0</th>\n",
       "      <td>3496450</td>\n",
       "      <td>2941809</td>\n",
       "      <td>2945983</td>\n",
       "      <td>878024</td>\n",
       "      <td>4411736</td>\n",
       "      <td>1106848</td>\n",
       "      <td>1325334</td>\n",
       "      <td>7418729</td>\n",
       "      <td>2462666</td>\n",
       "      <td>2201673</td>\n",
       "      <td>978627</td>\n",
       "      <td>1051232</td>\n",
       "      <td>408185</td>\n",
       "    </tr>\n",
       "  </tbody>\n",
       "</table>\n",
       "</div>"
      ],
      "text/plain": [
       "        0        1        2       3        4        5        6        7   \\\n",
       "0  3496450  2941809  2945983  878024  4411736  1106848  1325334  7418729   \n",
       "\n",
       "        8        9       10       11      12  \n",
       "0  2462666  2201673  978627  1051232  408185  "
      ]
     },
     "execution_count": 9,
     "metadata": {},
     "output_type": "execute_result"
    }
   ],
   "source": [
    "# Class counts in total train_polygons\n",
    "df = pd.DataFrame([counts_global])\n",
    "df\n"
   ]
  },
  {
   "cell_type": "code",
   "execution_count": 10,
   "metadata": {},
   "outputs": [
    {
     "data": {
      "text/plain": [
       "0    31627296\n",
       "dtype: int64"
      ]
     },
     "execution_count": 10,
     "metadata": {},
     "output_type": "execute_result"
    }
   ],
   "source": [
    "df.sum(axis=1)"
   ]
  },
  {
   "cell_type": "code",
   "execution_count": 11,
   "metadata": {},
   "outputs": [
    {
     "data": {
      "text/html": [
       "<div>\n",
       "<style scoped>\n",
       "    .dataframe tbody tr th:only-of-type {\n",
       "        vertical-align: middle;\n",
       "    }\n",
       "\n",
       "    .dataframe tbody tr th {\n",
       "        vertical-align: top;\n",
       "    }\n",
       "\n",
       "    .dataframe thead th {\n",
       "        text-align: right;\n",
       "    }\n",
       "</style>\n",
       "<table border=\"1\" class=\"dataframe\">\n",
       "  <thead>\n",
       "    <tr style=\"text-align: right;\">\n",
       "      <th></th>\n",
       "      <th>0</th>\n",
       "      <th>1</th>\n",
       "      <th>2</th>\n",
       "      <th>3</th>\n",
       "      <th>4</th>\n",
       "      <th>5</th>\n",
       "      <th>6</th>\n",
       "      <th>7</th>\n",
       "      <th>8</th>\n",
       "      <th>9</th>\n",
       "      <th>10</th>\n",
       "      <th>11</th>\n",
       "      <th>12</th>\n",
       "    </tr>\n",
       "  </thead>\n",
       "  <tbody>\n",
       "    <tr>\n",
       "      <th>0</th>\n",
       "      <td>11.055166</td>\n",
       "      <td>9.301488</td>\n",
       "      <td>9.314685</td>\n",
       "      <td>2.776159</td>\n",
       "      <td>13.949141</td>\n",
       "      <td>3.499661</td>\n",
       "      <td>4.190475</td>\n",
       "      <td>23.456729</td>\n",
       "      <td>7.786521</td>\n",
       "      <td>6.961306</td>\n",
       "      <td>3.094248</td>\n",
       "      <td>3.323812</td>\n",
       "      <td>1.29061</td>\n",
       "    </tr>\n",
       "  </tbody>\n",
       "</table>\n",
       "</div>"
      ],
      "text/plain": [
       "          0         1         2         3          4         5         6   \\\n",
       "0  11.055166  9.301488  9.314685  2.776159  13.949141  3.499661  4.190475   \n",
       "\n",
       "          7         8         9         10        11       12  \n",
       "0  23.456729  7.786521  6.961306  3.094248  3.323812  1.29061  "
      ]
     },
     "execution_count": 11,
     "metadata": {},
     "output_type": "execute_result"
    }
   ],
   "source": [
    "# Percent of class in whole train_polygons datase\n",
    "df.div(df.sum(axis=1)*0.01, axis=0)"
   ]
  },
  {
   "cell_type": "code",
   "execution_count": 12,
   "metadata": {},
   "outputs": [
    {
     "data": {
      "text/plain": [
       "0    100.0\n",
       "dtype: float64"
      ]
     },
     "execution_count": 12,
     "metadata": {},
     "output_type": "execute_result"
    }
   ],
   "source": [
    "# sanity check of above\n",
    "df.div(df.sum(axis=1)*0.01, axis=0).sum(axis=1)"
   ]
  },
  {
   "cell_type": "code",
   "execution_count": 13,
   "metadata": {},
   "outputs": [
    {
     "data": {
      "text/html": [
       "<div>\n",
       "<style scoped>\n",
       "    .dataframe tbody tr th:only-of-type {\n",
       "        vertical-align: middle;\n",
       "    }\n",
       "\n",
       "    .dataframe tbody tr th {\n",
       "        vertical-align: top;\n",
       "    }\n",
       "\n",
       "    .dataframe thead th {\n",
       "        text-align: right;\n",
       "    }\n",
       "</style>\n",
       "<table border=\"1\" class=\"dataframe\">\n",
       "  <thead>\n",
       "    <tr style=\"text-align: right;\">\n",
       "      <th></th>\n",
       "      <th>0</th>\n",
       "      <th>1</th>\n",
       "      <th>2</th>\n",
       "      <th>3</th>\n",
       "      <th>4</th>\n",
       "      <th>5</th>\n",
       "      <th>6</th>\n",
       "      <th>7</th>\n",
       "      <th>8</th>\n",
       "      <th>9</th>\n",
       "      <th>10</th>\n",
       "      <th>11</th>\n",
       "      <th>12</th>\n",
       "    </tr>\n",
       "  </thead>\n",
       "  <tbody>\n",
       "    <tr>\n",
       "      <th>0</th>\n",
       "      <td>11.055166</td>\n",
       "      <td>9.301488</td>\n",
       "      <td>9.314685</td>\n",
       "      <td>2.776159</td>\n",
       "      <td>13.949141</td>\n",
       "      <td>3.499661</td>\n",
       "      <td>4.190475</td>\n",
       "      <td>23.456729</td>\n",
       "      <td>7.786521</td>\n",
       "      <td>6.961306</td>\n",
       "      <td>3.094248</td>\n",
       "      <td>3.323812</td>\n",
       "      <td>1.29061</td>\n",
       "    </tr>\n",
       "  </tbody>\n",
       "</table>\n",
       "</div>"
      ],
      "text/plain": [
       "          0         1         2         3          4         5         6   \\\n",
       "0  11.055166  9.301488  9.314685  2.776159  13.949141  3.499661  4.190475   \n",
       "\n",
       "          7         8         9         10        11       12  \n",
       "0  23.456729  7.786521  6.961306  3.094248  3.323812  1.29061  "
      ]
     },
     "execution_count": 13,
     "metadata": {},
     "output_type": "execute_result"
    }
   ],
   "source": [
    "proportions_global"
   ]
  },
  {
   "cell_type": "code",
   "execution_count": 14,
   "metadata": {},
   "outputs": [
    {
     "data": {
      "text/html": [
       "<div>\n",
       "<style scoped>\n",
       "    .dataframe tbody tr th:only-of-type {\n",
       "        vertical-align: middle;\n",
       "    }\n",
       "\n",
       "    .dataframe tbody tr th {\n",
       "        vertical-align: top;\n",
       "    }\n",
       "\n",
       "    .dataframe thead th {\n",
       "        text-align: right;\n",
       "    }\n",
       "</style>\n",
       "<table border=\"1\" class=\"dataframe\">\n",
       "  <thead>\n",
       "    <tr style=\"text-align: right;\">\n",
       "      <th></th>\n",
       "      <th>0</th>\n",
       "      <th>1</th>\n",
       "      <th>2</th>\n",
       "      <th>3</th>\n",
       "      <th>4</th>\n",
       "      <th>5</th>\n",
       "      <th>6</th>\n",
       "      <th>7</th>\n",
       "      <th>8</th>\n",
       "      <th>9</th>\n",
       "      <th>10</th>\n",
       "      <th>11</th>\n",
       "      <th>12</th>\n",
       "    </tr>\n",
       "  </thead>\n",
       "  <tbody>\n",
       "    <tr>\n",
       "      <th>0</th>\n",
       "      <td>11.103111</td>\n",
       "      <td>11.008366</td>\n",
       "      <td>7.439357</td>\n",
       "      <td>1.537835</td>\n",
       "      <td>7.337934</td>\n",
       "      <td>3.443754</td>\n",
       "      <td>3.332828</td>\n",
       "      <td>29.102721</td>\n",
       "      <td>7.755441</td>\n",
       "      <td>10.182373</td>\n",
       "      <td>2.298756</td>\n",
       "      <td>4.743848</td>\n",
       "      <td>0.713674</td>\n",
       "    </tr>\n",
       "  </tbody>\n",
       "</table>\n",
       "</div>"
      ],
      "text/plain": [
       "          0          1         2         3         4         5         6   \\\n",
       "0  11.103111  11.008366  7.439357  1.537835  7.337934  3.443754  3.332828   \n",
       "\n",
       "          7         8          9         10        11        12  \n",
       "0  29.102721  7.755441  10.182373  2.298756  4.743848  0.713674  "
      ]
     },
     "execution_count": 14,
     "metadata": {},
     "output_type": "execute_result"
    }
   ],
   "source": [
    "# Testing train_polygons split\n",
    "valImages, testImages, valMasks, testMasks = load_img_and_mask_paths(mask_version='train_polygons',\n",
    "                                          single_set=False,\n",
    "                                          TEST_SPLIT=0.3,\n",
    "                                          RANDOM_STATE=42)\n",
    "\n",
    "counts = get_class_counts(paths=testMasks, labels=range(13))\n",
    "proportions = get_proportions(counts)\n",
    "proportions"
   ]
  },
  {
   "cell_type": "code",
   "execution_count": 25,
   "metadata": {},
   "outputs": [
    {
     "data": {
      "text/plain": [
       "24.035893464979715"
      ]
     },
     "execution_count": 25,
     "metadata": {},
     "output_type": "execute_result"
    }
   ],
   "source": [
    "np.abs((proportions_global - proportions).values.squeeze()[1:]).sum()"
   ]
  },
  {
   "cell_type": "code",
   "execution_count": 14,
   "metadata": {},
   "outputs": [
    {
     "name": "stderr",
     "output_type": "stream",
     "text": [
      "100%|██████████| 150/150 [00:28<00:00,  5.33it/s]"
     ]
    },
    {
     "name": "stdout",
     "output_type": "stream",
     "text": [
      "Best Random state was: 39 with sum of diffs: 6.726993037912568 with test_split=0.5\n"
     ]
    },
    {
     "name": "stderr",
     "output_type": "stream",
     "text": [
      "\n"
     ]
    }
   ],
   "source": [
    "best_rand_state = None\n",
    "sum_of_diffs = []\n",
    "TEST_SPLIT=0.5\n",
    "for rand_state in tqdm.tqdm(range(150)):\n",
    "    valImages, testImages, valMasks, testMasks = load_img_and_mask_paths(mask_version='train_polygons',\n",
    "                                          single_set=False,\n",
    "                                          TEST_SPLIT=TEST_SPLIT,\n",
    "                                          RANDOM_STATE=rand_state)\n",
    "\n",
    "    counts = get_class_counts(paths=testMasks, labels=range(13))\n",
    "    proportions = get_proportions(counts)\n",
    "    sum_of_diff = np.abs((proportions_global - proportions).values.squeeze()[1:]).sum()\n",
    "    \n",
    "#     SAME RESULT EVEN WITH THIS ADDITION \n",
    "#     counts = get_class_counts(paths=valMasks, labels=range(13))\n",
    "#     proportions = get_proportions(counts)\n",
    "#     sum_of_diff += np.abs((proportions_global - proportions).values.squeeze()[1:]).sum()\n",
    "    \n",
    "    if best_rand_state is None or sum_of_diff < np.min(sum_of_diffs):\n",
    "        best_rand_state = rand_state\n",
    "    sum_of_diffs.append(sum_of_diff)\n",
    "print(f\"Best Random state was: {best_rand_state} with sum of diffs: {sum_of_diffs[best_rand_state]} with test_split={TEST_SPLIT}\")\n",
    "    "
   ]
  },
  {
   "cell_type": "code",
   "execution_count": 20,
   "metadata": {},
   "outputs": [],
   "source": [
    "def save_train_polygons_dataset(images, masks, name='train_polygons_validation'):\n",
    "    for channel in images:\n",
    "        df = pd.DataFrame({'imgPath': sorted(images[channel]), 'maskPath':sorted(masks)})\n",
    "        df.to_csv(f'/data/ForestDataset8C/Dataset-wv2_{channel}-{name}.csv', index=False)"
   ]
  },
  {
   "cell_type": "code",
   "execution_count": 21,
   "metadata": {},
   "outputs": [
    {
     "name": "stdout",
     "output_type": "stream",
     "text": [
      "total sum of share (%) deviations: 6.726993037912568\n"
     ]
    }
   ],
   "source": [
    "valImages, testImages, valMasks, testMasks = load_img_and_mask_paths(mask_version='train_polygons',\n",
    "                                          single_set=False,\n",
    "                                          TEST_SPLIT=0.5,\n",
    "                                          RANDOM_STATE=39)\n",
    "\n",
    "counts = get_class_counts(paths=testMasks, labels=range(13))\n",
    "proportions = get_proportions(counts)\n",
    "print(f\"total sum of share (%) deviations: {np.abs((proportions_global - proportions).values.squeeze()[1:]).sum()}\")\n",
    "\n",
    "save_train_polygons_dataset(valImages, valMasks, name='train_polygons_validation')\n",
    "save_train_polygons_dataset(testImages, testMasks, name='train_polygons_test')"
   ]
  },
  {
   "cell_type": "code",
   "execution_count": 16,
   "metadata": {},
   "outputs": [
    {
     "data": {
      "text/html": [
       "<div>\n",
       "<style scoped>\n",
       "    .dataframe tbody tr th:only-of-type {\n",
       "        vertical-align: middle;\n",
       "    }\n",
       "\n",
       "    .dataframe tbody tr th {\n",
       "        vertical-align: top;\n",
       "    }\n",
       "\n",
       "    .dataframe thead th {\n",
       "        text-align: right;\n",
       "    }\n",
       "</style>\n",
       "<table border=\"1\" class=\"dataframe\">\n",
       "  <thead>\n",
       "    <tr style=\"text-align: right;\">\n",
       "      <th></th>\n",
       "      <th>0</th>\n",
       "      <th>1</th>\n",
       "      <th>2</th>\n",
       "      <th>3</th>\n",
       "      <th>4</th>\n",
       "      <th>5</th>\n",
       "      <th>6</th>\n",
       "      <th>7</th>\n",
       "      <th>8</th>\n",
       "      <th>9</th>\n",
       "      <th>10</th>\n",
       "      <th>11</th>\n",
       "      <th>12</th>\n",
       "    </tr>\n",
       "  </thead>\n",
       "  <tbody>\n",
       "    <tr>\n",
       "      <th>0</th>\n",
       "      <td>9.283854</td>\n",
       "      <td>11.969819</td>\n",
       "      <td>8.571767</td>\n",
       "      <td>2.407079</td>\n",
       "      <td>14.664902</td>\n",
       "      <td>2.508137</td>\n",
       "      <td>2.449144</td>\n",
       "      <td>24.021706</td>\n",
       "      <td>9.478237</td>\n",
       "      <td>6.561098</td>\n",
       "      <td>4.490444</td>\n",
       "      <td>2.75524</td>\n",
       "      <td>0.838573</td>\n",
       "    </tr>\n",
       "  </tbody>\n",
       "</table>\n",
       "</div>"
      ],
      "text/plain": [
       "         0          1         2         3          4         5         6   \\\n",
       "0  9.283854  11.969819  8.571767  2.407079  14.664902  2.508137  2.449144   \n",
       "\n",
       "          7         8         9         10       11        12  \n",
       "0  24.021706  9.478237  6.561098  4.490444  2.75524  0.838573  "
      ]
     },
     "execution_count": 16,
     "metadata": {},
     "output_type": "execute_result"
    }
   ],
   "source": [
    "proportions"
   ]
  },
  {
   "cell_type": "code",
   "execution_count": 17,
   "metadata": {},
   "outputs": [
    {
     "data": {
      "text/html": [
       "<div>\n",
       "<style scoped>\n",
       "    .dataframe tbody tr th:only-of-type {\n",
       "        vertical-align: middle;\n",
       "    }\n",
       "\n",
       "    .dataframe tbody tr th {\n",
       "        vertical-align: top;\n",
       "    }\n",
       "\n",
       "    .dataframe thead th {\n",
       "        text-align: right;\n",
       "    }\n",
       "</style>\n",
       "<table border=\"1\" class=\"dataframe\">\n",
       "  <thead>\n",
       "    <tr style=\"text-align: right;\">\n",
       "      <th></th>\n",
       "      <th>0</th>\n",
       "      <th>1</th>\n",
       "      <th>2</th>\n",
       "      <th>3</th>\n",
       "      <th>4</th>\n",
       "      <th>5</th>\n",
       "      <th>6</th>\n",
       "      <th>7</th>\n",
       "      <th>8</th>\n",
       "      <th>9</th>\n",
       "      <th>10</th>\n",
       "      <th>11</th>\n",
       "      <th>12</th>\n",
       "    </tr>\n",
       "  </thead>\n",
       "  <tbody>\n",
       "    <tr>\n",
       "      <th>0</th>\n",
       "      <td>1.771312</td>\n",
       "      <td>-2.668331</td>\n",
       "      <td>0.742918</td>\n",
       "      <td>0.36908</td>\n",
       "      <td>-0.715761</td>\n",
       "      <td>0.991523</td>\n",
       "      <td>1.741331</td>\n",
       "      <td>-0.564977</td>\n",
       "      <td>-1.691716</td>\n",
       "      <td>0.400208</td>\n",
       "      <td>-1.396196</td>\n",
       "      <td>0.568572</td>\n",
       "      <td>0.452037</td>\n",
       "    </tr>\n",
       "  </tbody>\n",
       "</table>\n",
       "</div>"
      ],
      "text/plain": [
       "         0         1         2        3         4         5         6   \\\n",
       "0  1.771312 -2.668331  0.742918  0.36908 -0.715761  0.991523  1.741331   \n",
       "\n",
       "         7         8         9         10        11        12  \n",
       "0 -0.564977 -1.691716  0.400208 -1.396196  0.568572  0.452037  "
      ]
     },
     "execution_count": 17,
     "metadata": {},
     "output_type": "execute_result"
    }
   ],
   "source": [
    "proportions_global - proportions"
   ]
  },
  {
   "cell_type": "code",
   "execution_count": 19,
   "metadata": {},
   "outputs": [
    {
     "data": {
      "text/plain": [
       "6.726993037912568"
      ]
     },
     "execution_count": 19,
     "metadata": {},
     "output_type": "execute_result"
    }
   ],
   "source": [
    "sum_of_diffs[39]"
   ]
  },
  {
   "cell_type": "code",
   "execution_count": 18,
   "metadata": {},
   "outputs": [
    {
     "data": {
      "text/plain": [
       "[12.923128173840723,\n",
       " 15.591336040867986,\n",
       " 12.702356850234683,\n",
       " 9.724018139268054,\n",
       " 11.680340930821274,\n",
       " 15.319880649929729,\n",
       " 21.337037475476876,\n",
       " 18.720506489078296,\n",
       " 11.83197577181432,\n",
       " 15.477440752443714,\n",
       " 17.530654533349924,\n",
       " 8.08941112133013,\n",
       " 9.691432362728696,\n",
       " 12.44966373350412,\n",
       " 14.571451192033615,\n",
       " 13.021713901814433,\n",
       " 9.638421191618782,\n",
       " 12.209896160582302,\n",
       " 11.753739554592336,\n",
       " 8.865576115011537,\n",
       " 15.712788092918222,\n",
       " 8.39927637190356,\n",
       " 7.689370599370876,\n",
       " 10.248135028679023,\n",
       " 19.5409876329611,\n",
       " 14.320086042132719,\n",
       " 12.391163632831589,\n",
       " 14.062890485484438,\n",
       " 8.42543731844796,\n",
       " 17.237565930391266,\n",
       " 7.353831323423915,\n",
       " 10.095387225009684,\n",
       " 13.008124374590858,\n",
       " 10.961563075136107,\n",
       " 12.942314132703594,\n",
       " 18.332797087680213,\n",
       " 14.21818672073642,\n",
       " 11.157621568407238,\n",
       " 12.578691520135012,\n",
       " 6.726993037912568,\n",
       " 19.18532017406736,\n",
       " 11.700020134506595,\n",
       " 13.745449500330345,\n",
       " 17.26817872764083,\n",
       " 17.220700751654523,\n",
       " 9.440237951420189,\n",
       " 12.7023947921441,\n",
       " 20.756981564279158,\n",
       " 10.291667046085761,\n",
       " 7.614429004616771,\n",
       " 10.47048094152595,\n",
       " 16.64870749620834,\n",
       " 14.457878409839399,\n",
       " 10.352026300319825,\n",
       " 14.007729272840777,\n",
       " 11.657765494716964,\n",
       " 12.494605925210934,\n",
       " 8.339897283662822,\n",
       " 9.62092997137662,\n",
       " 11.776333961651353,\n",
       " 11.504353707632795,\n",
       " 12.804951773303667,\n",
       " 13.86796392584431,\n",
       " 14.76913486375819,\n",
       " 7.483428238696092,\n",
       " 10.41782389490395,\n",
       " 12.76565660244872,\n",
       " 9.51483806898952,\n",
       " 10.450909239917317,\n",
       " 11.849036983749736,\n",
       " 10.732033494105849,\n",
       " 12.78086498447417,\n",
       " 12.292122601944847,\n",
       " 10.740513510861,\n",
       " 11.380441755121907,\n",
       " 15.55021965836093,\n",
       " 8.182792484061865,\n",
       " 13.789228140148303,\n",
       " 11.525348230844646,\n",
       " 13.205687896935606,\n",
       " 14.599597765170945,\n",
       " 8.101350175493979,\n",
       " 11.488032362931058,\n",
       " 11.505201076943157,\n",
       " 10.544492959499284,\n",
       " 20.50044366739414,\n",
       " 10.035008999820914,\n",
       " 13.20874222064384,\n",
       " 12.604555255055633,\n",
       " 7.415303540334274,\n",
       " 10.287708440203042,\n",
       " 9.217398793750814,\n",
       " 10.182874944478343,\n",
       " 12.620920865318363,\n",
       " 12.351805225460943,\n",
       " 12.6239309234656,\n",
       " 10.522613125067664,\n",
       " 13.264618005914889,\n",
       " 9.701404761254329,\n",
       " 11.840930062437202,\n",
       " 16.634403396357374,\n",
       " 11.157178912797349,\n",
       " 12.603113462497708,\n",
       " 12.55063347811966,\n",
       " 10.37742208502428,\n",
       " 12.329938038332457,\n",
       " 12.988558996633794,\n",
       " 9.687100661403363,\n",
       " 15.422342776315746,\n",
       " 11.136001003689978,\n",
       " 19.028272287330537,\n",
       " 11.88446207984394,\n",
       " 15.253659370690428,\n",
       " 11.484187582776597,\n",
       " 12.416376031640514,\n",
       " 16.221924251760253,\n",
       " 13.727319591279631,\n",
       " 6.947460826243253,\n",
       " 9.04487060797104,\n",
       " 11.998939144212644,\n",
       " 12.91658951811751,\n",
       " 20.96492852250158,\n",
       " 11.357878966320737,\n",
       " 9.73266889461559,\n",
       " 9.981751206299771,\n",
       " 18.133266909697245,\n",
       " 13.81274580033652,\n",
       " 10.090088004994165,\n",
       " 8.263254626636435,\n",
       " 12.782958113143781,\n",
       " 12.741455987890962,\n",
       " 8.749201955171886,\n",
       " 11.012266113423038,\n",
       " 13.65988417093892,\n",
       " 10.328578200298882,\n",
       " 11.33073785378301,\n",
       " 15.538356488015921,\n",
       " 11.425295415706737,\n",
       " 15.207199502606858,\n",
       " 9.860691220646878,\n",
       " 12.19386570385277,\n",
       " 11.42430892606184,\n",
       " 9.815957709441868,\n",
       " 17.220580602274694,\n",
       " 15.279725462461286,\n",
       " 13.461700930740328,\n",
       " 9.046559022940183,\n",
       " 18.21978711047571,\n",
       " 8.753558951103502,\n",
       " 12.302651481808624]"
      ]
     },
     "execution_count": 18,
     "metadata": {},
     "output_type": "execute_result"
    }
   ],
   "source": [
    "sum_of_diffs"
   ]
  },
  {
   "cell_type": "code",
   "execution_count": null,
   "metadata": {},
   "outputs": [],
   "source": []
  }
 ],
 "metadata": {
  "accelerator": "GPU",
  "colab": {
   "authorship_tag": "ABX9TyOrNFUNxo+sXxfgZPJMtLFh",
   "gpuType": "T4",
   "provenance": []
  },
  "gpuClass": "standard",
  "kernelspec": {
   "display_name": "Python 3",
   "language": "python",
   "name": "python3"
  },
  "language_info": {
   "codemirror_mode": {
    "name": "ipython",
    "version": 3
   },
   "file_extension": ".py",
   "mimetype": "text/x-python",
   "name": "python",
   "nbconvert_exporter": "python",
   "pygments_lexer": "ipython3",
   "version": "3.8.5"
  }
 },
 "nbformat": 4,
 "nbformat_minor": 4
}
