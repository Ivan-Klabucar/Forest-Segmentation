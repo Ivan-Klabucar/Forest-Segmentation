{
 "cells": [
  {
   "cell_type": "code",
   "execution_count": 1,
   "metadata": {
    "colab": {
     "base_uri": "https://localhost:8080/"
    },
    "executionInfo": {
     "elapsed": 6590,
     "status": "ok",
     "timestamp": 1687112336204,
     "user": {
      "displayName": "Ivan Klabučar",
      "userId": "04386316414841804865"
     },
     "user_tz": -120
    },
    "id": "wOXbdDNs53Eh",
    "outputId": "e292f3ed-64f6-4cdb-b265-4e37e97c961f"
   },
   "outputs": [
    {
     "data": {
      "text/plain": [
       "<matplotlib.pyplot._IoffContext at 0x7f9f14584f70>"
      ]
     },
     "execution_count": 1,
     "metadata": {},
     "output_type": "execute_result"
    }
   ],
   "source": [
    "import os\n",
    "import seaborn as sns\n",
    "import pandas as pd\n",
    "import matplotlib.pyplot as plt\n",
    "from tqdm import tqdm\n",
    "import time\n",
    "import numpy as np\n",
    "from os.path import exists\n",
    "from datetime import datetime\n",
    "import json\n",
    "from pathlib import Path\n",
    "import sys\n",
    "\n",
    "\n",
    "\n",
    "plt.ioff()   # interactive mode"
   ]
  },
  {
   "cell_type": "code",
   "execution_count": 2,
   "metadata": {},
   "outputs": [],
   "source": [
    "highres_model = pd.read_csv('/data/ForestSegmentationOutput/experiemnts/14th_run_val_test_manually_increased_weight_7_17-11-2023_09h30min/unet_id=Up4MW_width=512_num_layers=5_lr=0.00085_epochs=400_train_polygons_test_CFM_data.csv', index_col=0)\n",
    "lowres_model = pd.read_csv('/data/ForestSegmentationOutput/experiemnts/14th_run_val_test_manually_increased_weight_7_17-11-2023_09h30min/unet_id=8tUqP_width=32_num_layers=2_lr=0.00085_epochs=400_train_polygons_test_CFM_data.csv', index_col=0)"
   ]
  },
  {
   "cell_type": "code",
   "execution_count": 13,
   "metadata": {},
   "outputs": [],
   "source": [
    "def print_acc(acc, name):\n",
    "    print(f\"Overall accuracy of model {name} is {acc*100:.4f}%\")"
   ]
  },
  {
   "cell_type": "code",
   "execution_count": 14,
   "metadata": {},
   "outputs": [
    {
     "name": "stdout",
     "output_type": "stream",
     "text": [
      "Overall accuracy of model high res UNET is 28.8810%\n",
      "Overall accuracy of model low res UNET is 28.7862%\n"
     ]
    }
   ],
   "source": [
    "print_acc(acc=np.trace(highres_model.values) / np.sum(highres_model.values),\n",
    "          name=\"high res UNET\")\n",
    "\n",
    "print_acc(acc=np.trace(lowres_model.values) / np.sum(lowres_model.values),\n",
    "          name=\"low res UNET\")"
   ]
  },
  {
   "cell_type": "code",
   "execution_count": null,
   "metadata": {},
   "outputs": [],
   "source": []
  }
 ],
 "metadata": {
  "accelerator": "GPU",
  "colab": {
   "authorship_tag": "ABX9TyOrNFUNxo+sXxfgZPJMtLFh",
   "gpuType": "T4",
   "provenance": []
  },
  "gpuClass": "standard",
  "kernelspec": {
   "display_name": "Python 3",
   "language": "python",
   "name": "python3"
  },
  "language_info": {
   "codemirror_mode": {
    "name": "ipython",
    "version": 3
   },
   "file_extension": ".py",
   "mimetype": "text/x-python",
   "name": "python",
   "nbconvert_exporter": "python",
   "pygments_lexer": "ipython3",
   "version": "3.8.5"
  }
 },
 "nbformat": 4,
 "nbformat_minor": 4
}
