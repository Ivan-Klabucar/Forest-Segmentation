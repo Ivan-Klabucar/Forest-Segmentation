{
 "cells": [
  {
   "cell_type": "code",
   "execution_count": 1,
   "metadata": {
    "colab": {
     "base_uri": "https://localhost:8080/"
    },
    "executionInfo": {
     "elapsed": 7902,
     "status": "ok",
     "timestamp": 1686606948997,
     "user": {
      "displayName": "Ivan Klabučar",
      "userId": "04386316414841804865"
     },
     "user_tz": -120
    },
    "id": "wOXbdDNs53Eh",
    "outputId": "b163ce2e-d94a-4a88-f947-bebdd5e35334"
   },
   "outputs": [
    {
     "data": {
      "text/plain": [
       "<matplotlib.pyplot._IonContext at 0x7f90af56b040>"
      ]
     },
     "execution_count": 1,
     "metadata": {},
     "output_type": "execute_result"
    }
   ],
   "source": [
    "import torch\n",
    "import os\n",
    "import seaborn as sns\n",
    "import pandas as pd\n",
    "import matplotlib.pyplot as plt\n",
    "from torch.utils.data import Dataset\n",
    "import cv2\n",
    "from torch.nn import ConvTranspose2d\n",
    "from torch.nn import Conv2d\n",
    "from torch.nn import MaxPool2d\n",
    "from torch.nn import Module\n",
    "from torch.nn import ModuleList\n",
    "from torch.nn import ReLU\n",
    "from torchvision.transforms import CenterCrop\n",
    "import torchvision\n",
    "from torch.nn import functional as F\n",
    "from torch.nn import BCEWithLogitsLoss, CrossEntropyLoss\n",
    "from torch.optim import Adam\n",
    "from torch.utils.data import DataLoader\n",
    "from sklearn.model_selection import train_test_split\n",
    "from sklearn.metrics import confusion_matrix\n",
    "from torchvision import transforms\n",
    "from imutils import paths\n",
    "from tqdm import tqdm\n",
    "import time\n",
    "import numpy as np\n",
    "import random\n",
    "from os.path import exists\n",
    "from tqdm import tqdm\n",
    "\n",
    "\n",
    "\n",
    "plt.ion()   # interactive mode"
   ]
  },
  {
   "cell_type": "code",
   "execution_count": 2,
   "metadata": {
    "colab": {
     "base_uri": "https://localhost:8080/"
    },
    "executionInfo": {
     "elapsed": 20410,
     "status": "ok",
     "timestamp": 1686606973418,
     "user": {
      "displayName": "Ivan Klabučar",
      "userId": "04386316414841804865"
     },
     "user_tz": -120
    },
    "id": "ev-WP3SbMf_o",
    "outputId": "00fb337c-249a-4edc-c985-e276ac41f3ad"
   },
   "outputs": [],
   "source": [
    "dir_prefix = '/data'"
   ]
  },
  {
   "cell_type": "code",
   "execution_count": 3,
   "metadata": {
    "executionInfo": {
     "elapsed": 5,
     "status": "ok",
     "timestamp": 1686606973419,
     "user": {
      "displayName": "Ivan Klabučar",
      "userId": "04386316414841804865"
     },
     "user_tz": -120
    },
    "id": "elpXv1PnoFit"
   },
   "outputs": [],
   "source": [
    "# base path of the dataset\n",
    "DATASET_PATH = os.path.join(dir_prefix, 'ForestDataset8C')\n",
    "# determine the device to be used for training and evaluation\n",
    "DEVICE = \"cuda\" if torch.cuda.is_available() else \"cpu\"\n",
    "# determine if we will be pinning memory during data loading\n",
    "PIN_MEMORY = True if DEVICE == \"cuda\" else False\n",
    "\n",
    "# define the number of channels in the input, number of classes,\n",
    "# and number of levels in the U-Net model\n",
    "NUM_CHANNELS = 8\n",
    "NUM_CLASSES = 13\n",
    "N_ROWS = 40\n",
    "N_COLS = 40\n",
    "\n",
    "# UNET layers\n",
    "ENC_CHANNELS = (NUM_CHANNELS, 16, 32, 64, 128)\n",
    "DEC_CHANNELS = (128, 64, 32, 16)\n",
    "\n",
    "# define the input image dimensions\n",
    "INPUT_IMAGE_WIDTH = 512 # The images will be resized to this before getting fed into the model\n",
    "INPUT_IMAGE_HEIGHT = 512 # The images will be resized to this before getting fed into the model\n",
    "\n",
    "\n",
    "# define the path to the base output directory\n",
    "BASE_OUTPUT = os.path.join(dir_prefix, 'ForestSegmentationOutput')\n",
    "\n",
    "_MODEL_NAME = '3percent_smoothly_weighted_more_complex_unet_nks_13_class_forest_59+11_epoch_0.001_lr_0.0001_wd'\n",
    "PRETRAINED_MODEL_PATH = os.path.join(BASE_OUTPUT, f'{_MODEL_NAME}.pth')\n",
    "RECONSTRUCTED_MASK_PATH = os.path.join(BASE_OUTPUT, 'Reconstructed_Masks', f'New_mask_from_{_MODEL_NAME}.tif')\n"
   ]
  },
  {
   "cell_type": "code",
   "execution_count": 4,
   "metadata": {
    "executionInfo": {
     "elapsed": 2,
     "status": "ok",
     "timestamp": 1686599833934,
     "user": {
      "displayName": "Ivan Klabučar",
      "userId": "04386316414841804865"
     },
     "user_tz": -120
    },
    "id": "KdU0pufL6YjJ"
   },
   "outputs": [],
   "source": [
    "def slice_coords(path):\n",
    "\t\tpath_no_ext = os.path.splitext(path)[0]\n",
    "\t\tcoords = os.path.basename(path_no_ext).split('_')[-2:]\n",
    "\t\treturn tuple([int(x) for x in coords])\n",
    "\n",
    "class ForestSegmentationDataset(Dataset):\n",
    "    def __init__(self,\n",
    "                 channels, # list so it defines order of cjannels since dict doesnt\n",
    "                 imagePaths,\n",
    "                 maskPaths,\n",
    "                 transforms_img,\n",
    "                 transforms_mask):\n",
    "        # store the image and mask filepaths, and augmentation\n",
    "        # transforms\n",
    "        num_of_imgs = len(list(imagePaths.values())[0])\n",
    "        for cname in channels:\n",
    "            assert (cname in imagePaths) and (len(imagePaths[cname]) == num_of_imgs),'image paths for different channels of different length OR channel not present in imagePaths dict!!!'\n",
    "            for imgpath in imagePaths[cname]:\n",
    "                assert exists(imgpath), f\"{imgpath} does not exist!\"\n",
    "        \n",
    "        for mpath in maskPaths:\n",
    "            assert exists(mpath), f\"{mpath} does not exist!\"\n",
    "\n",
    "        self.channels = channels\n",
    "        self.imagePaths = imagePaths\n",
    "        self.maskPaths = maskPaths\n",
    "        self.transforms_img = transforms_img\n",
    "        self.transforms_mask = transforms_mask\n",
    "\n",
    "    def __len__(self):\n",
    "        # return the number of total samples contained in the dataset\n",
    "        return len(list(self.imagePaths.values())[0])\n",
    "    \n",
    "    def __getitem__(self, idx):\n",
    "        channels_to_stack = [\n",
    "            cv2.imread(\n",
    "                self.imagePaths[cname][idx], \n",
    "                cv2.IMREAD_UNCHANGED\n",
    "            ) for cname in self.channels\n",
    "        ]\n",
    "        image = np.stack(channels_to_stack) # This adds extra dimension at the beginning investigate if this does anything weird\n",
    "        image = torch.tensor(np.float32(image / 255.0))\n",
    "        mask = cv2.imread(self.maskPaths[idx], cv2.IMREAD_UNCHANGED)\n",
    "        mask[mask < 0] = 0 # Background class should be zero not -3.4e+38\n",
    "        mask = np.float32(mask)\n",
    "        # check to see if we are applying any transformations\n",
    "        # apply the transformations to both image and its mask\n",
    "        if self.transforms_img is not None:\n",
    "          image = self.transforms_img(image)\n",
    "\n",
    "        if self.transforms_mask is not None:\n",
    "          mask = self.transforms_mask(mask)\n",
    "          mask = mask.to(torch.long).squeeze()\n",
    "        # return a tuple of the image and its mask\n",
    "        return (image, mask)\n",
    "    \n",
    "    def get_coords(self, idx):\n",
    "        img_paths = [self.imagePaths[cname][idx] for cname in self.channels]\n",
    "        coords = slice_coords(img_paths[0])\n",
    "        for p in img_paths:\n",
    "            assert coords == slice_coords(p), f\"Coords do not match for all images on index {idx}\"\n",
    "        return coords\n"
   ]
  },
  {
   "cell_type": "code",
   "execution_count": 5,
   "metadata": {
    "executionInfo": {
     "elapsed": 260,
     "status": "ok",
     "timestamp": 1686598713104,
     "user": {
      "displayName": "Ivan Klabučar",
      "userId": "04386316414841804865"
     },
     "user_tz": -120
    },
    "id": "9kuaAdAb0YM0"
   },
   "outputs": [],
   "source": [
    "class Block(Module):\n",
    "    def __init__(self, inChannels, outChannels):\n",
    "        super().__init__()\n",
    "        # store the convolution and RELU layers\n",
    "        self.conv1 = Conv2d(inChannels, outChannels, 3)\n",
    "        self.relu = ReLU()\n",
    "        self.conv2 = Conv2d(outChannels, outChannels, 3)\n",
    "    \n",
    "    def forward(self, x):\n",
    "        # apply CONV => RELU => CONV block to the inputs and return it\n",
    "        return self.conv2(self.relu(self.conv1(x)))\n",
    "  \n",
    "class Encoder(Module):\n",
    "    def __init__(self, channels=ENC_CHANNELS):\n",
    "        super().__init__()\n",
    "        # store the encoder blocks and maxpooling layer\n",
    "        self.encBlocks = ModuleList(\n",
    "          [Block(channels[i], channels[i + 1])\n",
    "            for i in range(len(channels) - 1)])\n",
    "        self.pool = MaxPool2d(2)\n",
    "    def forward(self, x):\n",
    "        # initialize an empty list to store the intermediate outputs\n",
    "        blockOutputs = []\n",
    "        # loop through the encoder blocks\n",
    "        for block in self.encBlocks:\n",
    "            # pass the inputs through the current encoder block, store\n",
    "            # the outputs, and then apply maxpooling on the output\n",
    "            x = block(x)\n",
    "            blockOutputs.append(x)\n",
    "            x = self.pool(x)\n",
    "        # return the list containing the intermediate outputs\n",
    "        return blockOutputs\n",
    "\n",
    "class Decoder(Module):\n",
    "    def __init__(self, channels=DEC_CHANNELS):\n",
    "        super().__init__()\n",
    "        # initialize the number of channels, upsampler blocks, and\n",
    "        # decoder blocks\n",
    "        self.channels = channels\n",
    "        self.upconvs = ModuleList(\n",
    "          [ConvTranspose2d(channels[i], channels[i + 1], 2, 2)\n",
    "            for i in range(len(channels) - 1)])\n",
    "        self.dec_blocks = ModuleList(\n",
    "          [Block(channels[i], channels[i + 1])\n",
    "            for i in range(len(channels) - 1)])\n",
    "    \n",
    "    def forward(self, x, encFeatures):\n",
    "        # loop through the number of channels\n",
    "        for i in range(len(self.channels) - 1):\n",
    "            # pass the inputs through the upsampler blocks\n",
    "            x = self.upconvs[i](x)\n",
    "            # crop the current features from the encoder blocks,\n",
    "            # concatenate them with the current upsampled features,\n",
    "            # and pass the concatenated output through the current\n",
    "            # decoder block\n",
    "            encFeat = self.crop(encFeatures[i], x)\n",
    "            x = torch.cat([x, encFeat], dim=1)\n",
    "            x = self.dec_blocks[i](x)\n",
    "        # return the final decoder output\n",
    "        return x\n",
    "    \n",
    "    def crop(self, encFeatures, x):\n",
    "        # grab the dimensions of the inputs, and crop the encoder\n",
    "        # features to match the dimensions\n",
    "        (_, _, H, W) = x.shape\n",
    "        encFeatures = CenterCrop([H, W])(encFeatures)\n",
    "        # return the cropped features\n",
    "        return encFeatures\n",
    "\n",
    "class UNet(Module):\n",
    "    def __init__(self, encChannels=ENC_CHANNELS,\n",
    "        decChannels=DEC_CHANNELS,\n",
    "        nbClasses=NUM_CLASSES, retainDim=True,\n",
    "        outSize=(INPUT_IMAGE_HEIGHT, INPUT_IMAGE_WIDTH)):\n",
    "        super().__init__()\n",
    "        # initialize the encoder and decoder\n",
    "        self.encoder = Encoder(encChannels)\n",
    "        self.decoder = Decoder(decChannels)\n",
    "        # initialize the regression head and store the class variables\n",
    "        self.head = Conv2d(decChannels[-1], nbClasses, 1)\n",
    "        self.retainDim = retainDim\n",
    "        self.outSize = outSize\n",
    "\n",
    "    def forward(self, x):\n",
    "        # grab the features from the encoder\n",
    "        encFeatures = self.encoder(x)\n",
    "        # pass the encoder features through decoder making sure that\n",
    "        # their dimensions are suited for concatenation\n",
    "        decFeatures = self.decoder(encFeatures[::-1][0],\n",
    "          encFeatures[::-1][1:])\n",
    "        # pass the decoder features through the regression head to\n",
    "        # obtain the segmentation mask\n",
    "        map = self.head(decFeatures)\n",
    "        # check to see if we are retaining the original output\n",
    "        # dimensions and if so, then resize the output to match them\n",
    "        if self.retainDim:\n",
    "            map = F.interpolate(map, self.outSize)\n",
    "        # return the segmentation map\n",
    "        return map"
   ]
  },
  {
   "cell_type": "code",
   "execution_count": 35,
   "metadata": {
    "executionInfo": {
     "elapsed": 308,
     "status": "ok",
     "timestamp": 1686599844944,
     "user": {
      "displayName": "Ivan Klabučar",
      "userId": "04386316414841804865"
     },
     "user_tz": -120
    },
    "id": "rCYhWb_92N8l"
   },
   "outputs": [],
   "source": [
    "def load_imgs():\n",
    "\t\tImgs = dict()\n",
    "\t\tfor i in range(8):\n",
    "\t\t\t\tchannel_path = os.path.join(DATASET_PATH, f'wv2_{i}')\n",
    "\t\t\t\tImgs[i] = [\n",
    "\t\t\t\t\t\tos.path.join(channel_path, img) \n",
    "\t\t\t\t\t\tfor img in sorted(os.listdir(channel_path))\n",
    "\t\t\t\t]\n",
    "\t\t#maskPaths = [os.path.join(DATASET_PATH, 'nks', 'nks_split_0_0.tif')] * len(Imgs[0])\n",
    "\t\tmaskPaths = [\n",
    "\t\t\tos.path.join(DATASET_PATH, 'nks', mask_path) \n",
    "\t\t\tfor mask_path in sorted(os.listdir(os.path.join(DATASET_PATH, 'nks')))\n",
    "\t\t]\n",
    "\t\t#print(maskPaths)\n",
    "\t\tfor k in Imgs:\n",
    "\t\t\t\tassert len(Imgs[0]) == len(Imgs[k]), f\"List of paths of diffrenet length for differen channels, problematic channel: {k}\"\n",
    "\t\tfor i in range(len(Imgs[0])):\n",
    "\t\t\t\tassert all([slice_coords(Imgs[0][i]) == slice_coords(Imgs[k][i]) for k in Imgs]), \"Slices out of order for different channels/mask of dataset\"\n",
    "\n",
    "\t\tfor i in range(len(Imgs[0])):\n",
    "\t\t\t\tassert all([slice_coords(maskPaths[i]) == slice_coords(Imgs[k][i]) for k in Imgs]), \"Slices out of order for different MASKS of dataset\"\n",
    "\t\treturn Imgs, maskPaths"
   ]
  },
  {
   "cell_type": "code",
   "execution_count": 26,
   "metadata": {
    "executionInfo": {
     "elapsed": 264,
     "status": "ok",
     "timestamp": 1686599781774,
     "user": {
      "displayName": "Ivan Klabučar",
      "userId": "04386316414841804865"
     },
     "user_tz": -120
    },
    "id": "ITOFEoybLDDE"
   },
   "outputs": [],
   "source": [
    "# There were some duplicates in certain folders with ...(1).tif kind of names so I removed any files with a parenthesis\n",
    "for i in range(8):\n",
    "    channel_path = os.path.join(DATASET_PATH, f'wv2_{i}')\n",
    "    for path in os.listdir(channel_path):\n",
    "        if '(' in path: os.remove(os.path.join(channel_path, path))"
   ]
  },
  {
   "cell_type": "code",
   "execution_count": 36,
   "metadata": {
    "colab": {
     "base_uri": "https://localhost:8080/"
    },
    "executionInfo": {
     "elapsed": 2895,
     "status": "ok",
     "timestamp": 1686599849706,
     "user": {
      "displayName": "Ivan Klabučar",
      "userId": "04386316414841804865"
     },
     "user_tz": -120
    },
    "id": "EKsKq-0m21Tg",
    "outputId": "dc8fbf87-7fd4-4112-b1cd-743ebe1e4826"
   },
   "outputs": [
    {
     "name": "stdout",
     "output_type": "stream",
     "text": [
      "[INFO] found 1600 examples in the dataset...\n"
     ]
    }
   ],
   "source": [
    "Images_dataset, Masks_dataset = load_imgs()\n",
    "# define transformations\n",
    "img_transforms = transforms.Compose([\n",
    "   # transforms.ToPILImage(),\n",
    " \t  transforms.Resize((INPUT_IMAGE_HEIGHT, INPUT_IMAGE_WIDTH), antialias=True),\n",
    "\t # transforms.ToTensor()\n",
    "])\n",
    "\n",
    "mask_transforms = transforms.Compose([\n",
    "    transforms.ToPILImage(),\n",
    " \t  transforms.Resize((INPUT_IMAGE_HEIGHT, INPUT_IMAGE_WIDTH), interpolation=torchvision.transforms.InterpolationMode.NEAREST),\n",
    "\t  transforms.ToTensor()\n",
    "])\n",
    "\n",
    "#create the train and test datasets\n",
    "DS = ForestSegmentationDataset(\n",
    "\t\tchannels=list(np.arange(8)),\n",
    "\t\timagePaths=Images_dataset,\n",
    "\t\tmaskPaths=Masks_dataset,\n",
    "\t\ttransforms_img=img_transforms, \n",
    "\t\ttransforms_mask=mask_transforms\n",
    "\t\t)\n",
    "print(f\"[INFO] found {len(DS)} examples in the dataset...\")"
   ]
  },
  {
   "cell_type": "code",
   "execution_count": 37,
   "metadata": {
    "colab": {
     "base_uri": "https://localhost:8080/"
    },
    "executionInfo": {
     "elapsed": 5867,
     "status": "ok",
     "timestamp": 1686599932726,
     "user": {
      "displayName": "Ivan Klabučar",
      "userId": "04386316414841804865"
     },
     "user_tz": -120
    },
    "id": "w6yTs6iE3Tjx",
    "outputId": "cf93efa2-df5f-4e74-ce18-f959aea72604"
   },
   "outputs": [
    {
     "name": "stdout",
     "output_type": "stream",
     "text": [
      "Loading pretrained model /data/ForestSegmentationOutput/3percent_smoothly_weighted_more_complex_unet_nks_13_class_forest_59+11_epoch_0.001_lr_0.0001_wd.pth\n"
     ]
    }
   ],
   "source": [
    "# initialize our UNet model\n",
    "print(f\"Loading pretrained model {PRETRAINED_MODEL_PATH}\")\n",
    "unet = torch.load(PRETRAINED_MODEL_PATH).to(DEVICE)"
   ]
  },
  {
   "cell_type": "code",
   "execution_count": 15,
   "metadata": {},
   "outputs": [
    {
     "name": "stderr",
     "output_type": "stream",
     "text": [
      "  0%|          | 0/1600 [00:00<?, ?it/s]"
     ]
    },
    {
     "name": "stdout",
     "output_type": "stream",
     "text": [
      "torch.Size([512, 512])\n"
     ]
    },
    {
     "name": "stderr",
     "output_type": "stream",
     "text": [
      "\n"
     ]
    }
   ],
   "source": [
    "for i in tqdm(range(len(DS))):\n",
    "    (input, target) = DS[i]\n",
    "    (input, target) = (input[None, :, :, :], target[None, :, :])\n",
    "    (input, target) = (input.to(DEVICE), target.to(DEVICE))\n",
    "    target = target.squeeze()\n",
    "    print(target.shape)\n",
    "    break"
   ]
  },
  {
   "cell_type": "code",
   "execution_count": 38,
   "metadata": {
    "colab": {
     "base_uri": "https://localhost:8080/"
    },
    "executionInfo": {
     "elapsed": 2835921,
     "status": "ok",
     "timestamp": 1686603113184,
     "user": {
      "displayName": "Ivan Klabučar",
      "userId": "04386316414841804865"
     },
     "user_tz": -120
    },
    "id": "EoEunvgpAhHH",
    "outputId": "83622dd4-3c29-4e90-d414-ba3cae89912a"
   },
   "outputs": [
    {
     "name": "stderr",
     "output_type": "stream",
     "text": [
      "100%|██████████| 1600/1600 [00:53<00:00, 29.72it/s]\n"
     ]
    }
   ],
   "source": [
    "reconstructed_mask = np.zeros((N_ROWS * INPUT_IMAGE_HEIGHT, N_COLS * INPUT_IMAGE_WIDTH))\n",
    "\n",
    "unet.eval()\n",
    "with torch.no_grad():\n",
    "    for i in tqdm(range(len(DS))):\n",
    "        (input, target) = DS[i]\n",
    "        (input, target) = (input[None, :, :, :], target[None, :, :])\n",
    "        (input, target) = (input.to(DEVICE), target.to(DEVICE))\n",
    "        pred = unet(input)\n",
    "        pred = pred[0]\n",
    "        pred_class = pred.softmax(dim=0).argmax(dim=0).cpu().numpy()\n",
    "        target = target.squeeze().cpu().numpy()\n",
    "        pred_class[target == 0] = 0\n",
    "        coords = DS.get_coords(i)\n",
    "        (i1, i2) = (coords[0] * INPUT_IMAGE_HEIGHT, (coords[0]+1) * INPUT_IMAGE_HEIGHT)\n",
    "        (j1, j2) = (coords[1] * INPUT_IMAGE_WIDTH, (coords[1]+1) * INPUT_IMAGE_WIDTH)\n",
    "        reconstructed_mask[i1:i2, j1:j2] = pred_class"
   ]
  },
  {
   "cell_type": "code",
   "execution_count": 39,
   "metadata": {
    "colab": {
     "base_uri": "https://localhost:8080/"
    },
    "executionInfo": {
     "elapsed": 9,
     "status": "ok",
     "timestamp": 1686603113946,
     "user": {
      "displayName": "Ivan Klabučar",
      "userId": "04386316414841804865"
     },
     "user_tz": -120
    },
    "id": "PhFNlznrFdcs",
    "outputId": "a0438683-ba50-4cdf-a636-a8a7902260cf"
   },
   "outputs": [
    {
     "name": "stdout",
     "output_type": "stream",
     "text": [
      "(20480, 20480)\n"
     ]
    }
   ],
   "source": [
    "print(reconstructed_mask.shape)"
   ]
  },
  {
   "cell_type": "code",
   "execution_count": 40,
   "metadata": {
    "colab": {
     "base_uri": "https://localhost:8080/"
    },
    "executionInfo": {
     "elapsed": 5,
     "status": "ok",
     "timestamp": 1686603113946,
     "user": {
      "displayName": "Ivan Klabučar",
      "userId": "04386316414841804865"
     },
     "user_tz": -120
    },
    "id": "U4nPP0mkFdl4",
    "outputId": "fca6f477-16b9-4990-cd0c-858b01774094"
   },
   "outputs": [
    {
     "data": {
      "text/plain": [
       "array([[0., 0., 0., ..., 0., 0., 0.],\n",
       "       [0., 0., 0., ..., 0., 0., 0.],\n",
       "       [0., 0., 0., ..., 0., 0., 0.],\n",
       "       ...,\n",
       "       [0., 0., 0., ..., 0., 0., 0.],\n",
       "       [0., 0., 0., ..., 0., 0., 0.],\n",
       "       [0., 0., 0., ..., 0., 0., 0.]])"
      ]
     },
     "execution_count": 40,
     "metadata": {},
     "output_type": "execute_result"
    }
   ],
   "source": [
    "reconstructed_mask"
   ]
  },
  {
   "cell_type": "code",
   "execution_count": 41,
   "metadata": {
    "colab": {
     "base_uri": "https://localhost:8080/"
    },
    "executionInfo": {
     "elapsed": 23261,
     "status": "ok",
     "timestamp": 1686603137204,
     "user": {
      "displayName": "Ivan Klabučar",
      "userId": "04386316414841804865"
     },
     "user_tz": -120
    },
    "id": "S1PA5mA_Fw8e",
    "outputId": "b668a1b2-e2bf-44f6-fe9b-079195bf2333"
   },
   "outputs": [
    {
     "data": {
      "text/plain": [
       "True"
      ]
     },
     "execution_count": 41,
     "metadata": {},
     "output_type": "execute_result"
    }
   ],
   "source": [
    "cv2.imwrite(RECONSTRUCTED_MASK_PATH,reconstructed_mask)"
   ]
  },
  {
   "cell_type": "code",
   "execution_count": 42,
   "metadata": {
    "executionInfo": {
     "elapsed": 34906,
     "status": "ok",
     "timestamp": 1686607022801,
     "user": {
      "displayName": "Ivan Klabučar",
      "userId": "04386316414841804865"
     },
     "user_tz": -120
    },
    "id": "ZCRu90XWGhai"
   },
   "outputs": [],
   "source": [
    "# Testing whether write worked\n",
    "loaded_reconstructed = cv2.imread(RECONSTRUCTED_MASK_PATH, cv2.IMREAD_UNCHANGED)\n",
    "#print(f'Loaded equal to reconstructed: {(loaded_reconstructed == reconstructed_mask).all()}')"
   ]
  },
  {
   "cell_type": "code",
   "execution_count": 43,
   "metadata": {
    "colab": {
     "base_uri": "https://localhost:8080/"
    },
    "executionInfo": {
     "elapsed": 18427,
     "status": "ok",
     "timestamp": 1686607229657,
     "user": {
      "displayName": "Ivan Klabučar",
      "userId": "04386316414841804865"
     },
     "user_tz": -120
    },
    "id": "ai8DEaNwnGNg",
    "outputId": "5e2c0bc1-f929-4d2f-8f5d-08143af33332"
   },
   "outputs": [],
   "source": [
    "unique, counts = np.unique(loaded_reconstructed, return_counts=True)\n"
   ]
  },
  {
   "cell_type": "code",
   "execution_count": 44,
   "metadata": {
    "colab": {
     "base_uri": "https://localhost:8080/"
    },
    "executionInfo": {
     "elapsed": 238,
     "status": "ok",
     "timestamp": 1686607343152,
     "user": {
      "displayName": "Ivan Klabučar",
      "userId": "04386316414841804865"
     },
     "user_tz": -120
    },
    "id": "OagzuItUoHV-",
    "outputId": "0c82dd39-a5ce-447d-9e3e-98826e4b0067"
   },
   "outputs": [
    {
     "name": "stdout",
     "output_type": "stream",
     "text": [
      "0.0: 53.69%\n",
      "1.0: 2.82%\n",
      "2.0: 6.58%\n",
      "3.0: 0.72%\n",
      "4.0: 9.28%\n",
      "7.0: 12.83%\n",
      "8.0: 3.04%\n",
      "9.0: 5.13%\n",
      "10.0: 5.91%\n",
      "11.0: 0.01%\n"
     ]
    }
   ],
   "source": [
    "\n",
    "for i,u in enumerate(unique):\n",
    "    print(f\"{u}: {((counts/counts.sum())[i] * 100):.{2}f}%\")"
   ]
  },
  {
   "cell_type": "code",
   "execution_count": 1,
   "metadata": {
    "executionInfo": {
     "elapsed": 11,
     "status": "ok",
     "timestamp": 1686607496704,
     "user": {
      "displayName": "Ivan Klabučar",
      "userId": "04386316414841804865"
     },
     "user_tz": -120
    },
    "id": "6Yz_09_nrxbS"
   },
   "outputs": [],
   "source": [
    "from google.colab import runtime\n"
   ]
  },
  {
   "cell_type": "code",
   "execution_count": null,
   "metadata": {
    "id": "2nXCUfeqot6A"
   },
   "outputs": [],
   "source": [
    "runtime.unassign()"
   ]
  }
 ],
 "metadata": {
  "accelerator": "GPU",
  "colab": {
   "authorship_tag": "ABX9TyNHtfufczfES5zZouyLkAba",
   "gpuType": "T4",
   "provenance": []
  },
  "gpuClass": "standard",
  "kernelspec": {
   "display_name": "Python 3",
   "language": "python",
   "name": "python3"
  },
  "language_info": {
   "codemirror_mode": {
    "name": "ipython",
    "version": 3
   },
   "file_extension": ".py",
   "mimetype": "text/x-python",
   "name": "python",
   "nbconvert_exporter": "python",
   "pygments_lexer": "ipython3",
   "version": "3.8.5"
  }
 },
 "nbformat": 4,
 "nbformat_minor": 4
}
